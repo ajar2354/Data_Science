{
 "cells": [
  {
   "cell_type": "markdown",
   "metadata": {},
   "source": [
    "## CNN \n",
    "\n",
    "- In CNN like we flatten our i/ps we dont have to flatten our inputs , in 2d cnn we can pass 2d array of pixels , it can even take 3d image \n",
    "- for image we have suppose 3 x 3 kernal , which searchs in 3 x 3 (searching in 3 by 3 pixel)box of window, and silide again\n",
    "- pooling , which takes max of a window, \n",
    "- thus this takes best possible feature , example edges , circles etc\n",
    "- "
   ]
  },
  {
   "cell_type": "markdown",
   "metadata": {},
   "source": [
    "## Data set download :\n",
    "https://www.microsoft.com/en-us/download/details.aspx?id=54765"
   ]
  },
  {
   "cell_type": "code",
   "execution_count": null,
   "metadata": {},
   "outputs": [],
   "source": []
  }
 ],
 "metadata": {
  "kernelspec": {
   "display_name": "Python 3",
   "language": "python",
   "name": "python3"
  },
  "language_info": {
   "codemirror_mode": {
    "name": "ipython",
    "version": 3
   },
   "file_extension": ".py",
   "mimetype": "text/x-python",
   "name": "python",
   "nbconvert_exporter": "python",
   "pygments_lexer": "ipython3",
   "version": "3.6.5"
  }
 },
 "nbformat": 4,
 "nbformat_minor": 2
}
