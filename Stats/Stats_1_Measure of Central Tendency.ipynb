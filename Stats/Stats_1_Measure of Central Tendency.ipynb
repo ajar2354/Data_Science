{
 "cells": [
  {
   "cell_type": "markdown",
   "metadata": {},
   "source": [
    "# Central Tendency \n",
    "* Measure of central tendency yeild information about places or group of location eg - mean OR single number describing the spead of data\n",
    "*"
   ]
  },
  {
   "cell_type": "markdown",
   "metadata": {},
   "source": [
    "## Basics - \n",
    "## Data - Records / entry fo values that can be structred or unstructred\n",
    "#### Types of Data-\n",
    "### 1.  Numerical Data \n",
    "Numerical data are something that we measure or count such as weight, volume , time etc\n",
    "* Types -\n",
    "    * Discrete - Countable data. Can take specific value in specific range . Eg - Tossing a coin, size of shoe , a baby shoes size cant be 9 \n",
    "    * Continous - What we measire. It can take any value in an given range. Eg - height of people\n",
    "\n",
    "\n",
    "### 2. Categorical Data - (Qualitative)\n",
    "Categorical data is a collection of information that is divided into groups. I.e, if an organisation or agency is trying to get a biodata of its employees, the resulting data is referred to as categorical. This data is called categorical because it may be grouped according to the variables present in the biodata such as sex, state of residence, etc.\n",
    "* Types  - \n",
    "    * Nominal Data - There is no relationship between datas .Nominal data is sometimes called “labelled” or “named” data. Examples of nominal data include name, hair colour, sex, Employee ID , Pincodes\n",
    "    * Ordinal Data - There is an order & relationship.Ordinal data is a kind of categorical data with a set order or scale to it. For example, ordinal data is said to have been collected when a responder inputs his/her financial happiness level on a scale of 1-10. Eg - Mutual funds Risks i.e AAA, AA, Fortune 50 ranks etc "
   ]
  },
  {
   "cell_type": "markdown",
   "metadata": {},
   "source": [
    "## Types of Central Tendency \n",
    "* Arithmetic Mean or commonly known as Mean\n",
    "* Weighted Mean \n",
    "* mean,median & mode\n",
    "* percentile"
   ]
  },
  {
   "cell_type": "markdown",
   "metadata": {},
   "source": [
    "## Arithmetic Mean or commonly known as Mean $ \\mu $ (mu)\n",
    "\n",
    "- Average of group of numbers\n",
    "- Applicable for interval & ratio data\n",
    "- Not applicable for nominal or ordinal data (categorical data)\n",
    "- Affected by each value in the data set, including extreme values \n",
    "- Computed by summing all values in the data set divided by count of values in dataset (μ)"
   ]
  },
  {
   "cell_type": "code",
   "execution_count": 4,
   "metadata": {},
   "outputs": [
    {
     "name": "stdout",
     "output_type": "stream",
     "text": [
      "3.0\n"
     ]
    }
   ],
   "source": [
    "## example \n",
    "x = [1,2,3,4,5]\n",
    "mean = sum(x)/len(x)\n",
    "print(mean)"
   ]
  },
  {
   "cell_type": "markdown",
   "metadata": {},
   "source": [
    "### Mean of grouped data - \n",
    "- Grouped mean is sum of all grouped frequency mean by sum of group frequency \n",
    "- Frequency mean is group frequency * Group mean\n",
    "- weighted average of class midpoint \n",
    "- class frequency are the weights "
   ]
  },
  {
   "cell_type": "code",
   "execution_count": 5,
   "metadata": {},
   "outputs": [],
   "source": [
    "## example \n",
    "standard = ['class 1', 'class 2', 'class 3', 'class 4', 'class 5']\n",
    "\n",
    "num_students = [23,34,24,47,52] \n",
    "\n",
    "mean_marks_obtained = [23,24,32,44,45]"
   ]
  },
  {
   "cell_type": "code",
   "execution_count": 24,
   "metadata": {},
   "outputs": [],
   "source": [
    "## creating a dataframe of students in a class\n",
    "import pandas as pd\n",
    "class_data = pd.DataFrame(columns=['standard','num_students','mean_marks_obtained'])\n",
    "class_data['standard'] = standard \n",
    "class_data['num_students'] = num_students \n",
    "class_data['mean_marks_obtained'] = mean_marks_obtained "
   ]
  },
  {
   "cell_type": "code",
   "execution_count": 26,
   "metadata": {},
   "outputs": [
    {
     "data": {
      "text/html": [
       "<div>\n",
       "<style scoped>\n",
       "    .dataframe tbody tr th:only-of-type {\n",
       "        vertical-align: middle;\n",
       "    }\n",
       "\n",
       "    .dataframe tbody tr th {\n",
       "        vertical-align: top;\n",
       "    }\n",
       "\n",
       "    .dataframe thead th {\n",
       "        text-align: right;\n",
       "    }\n",
       "</style>\n",
       "<table border=\"1\" class=\"dataframe\">\n",
       "  <thead>\n",
       "    <tr style=\"text-align: right;\">\n",
       "      <th></th>\n",
       "      <th>standard</th>\n",
       "      <th>num_students</th>\n",
       "      <th>mean_marks_obtained</th>\n",
       "      <th>Frequency_midpoint</th>\n",
       "    </tr>\n",
       "  </thead>\n",
       "  <tbody>\n",
       "    <tr>\n",
       "      <th>0</th>\n",
       "      <td>class 1</td>\n",
       "      <td>23</td>\n",
       "      <td>23</td>\n",
       "      <td>529</td>\n",
       "    </tr>\n",
       "    <tr>\n",
       "      <th>1</th>\n",
       "      <td>class 2</td>\n",
       "      <td>34</td>\n",
       "      <td>24</td>\n",
       "      <td>816</td>\n",
       "    </tr>\n",
       "    <tr>\n",
       "      <th>2</th>\n",
       "      <td>class 3</td>\n",
       "      <td>24</td>\n",
       "      <td>32</td>\n",
       "      <td>768</td>\n",
       "    </tr>\n",
       "    <tr>\n",
       "      <th>3</th>\n",
       "      <td>class 4</td>\n",
       "      <td>47</td>\n",
       "      <td>44</td>\n",
       "      <td>2068</td>\n",
       "    </tr>\n",
       "    <tr>\n",
       "      <th>4</th>\n",
       "      <td>class 5</td>\n",
       "      <td>52</td>\n",
       "      <td>45</td>\n",
       "      <td>2340</td>\n",
       "    </tr>\n",
       "  </tbody>\n",
       "</table>\n",
       "</div>"
      ],
      "text/plain": [
       "  standard  num_students  mean_marks_obtained  Frequency_midpoint\n",
       "0  class 1            23                   23                 529\n",
       "1  class 2            34                   24                 816\n",
       "2  class 3            24                   32                 768\n",
       "3  class 4            47                   44                2068\n",
       "4  class 5            52                   45                2340"
      ]
     },
     "execution_count": 26,
     "metadata": {},
     "output_type": "execute_result"
    }
   ],
   "source": [
    "class_data"
   ]
  },
  {
   "cell_type": "code",
   "execution_count": 33,
   "metadata": {},
   "outputs": [
    {
     "data": {
      "text/html": [
       "<div>\n",
       "<style scoped>\n",
       "    .dataframe tbody tr th:only-of-type {\n",
       "        vertical-align: middle;\n",
       "    }\n",
       "\n",
       "    .dataframe tbody tr th {\n",
       "        vertical-align: top;\n",
       "    }\n",
       "\n",
       "    .dataframe thead th {\n",
       "        text-align: right;\n",
       "    }\n",
       "</style>\n",
       "<table border=\"1\" class=\"dataframe\">\n",
       "  <thead>\n",
       "    <tr style=\"text-align: right;\">\n",
       "      <th></th>\n",
       "      <th>standard</th>\n",
       "      <th>num_students</th>\n",
       "      <th>mean_marks_obtained</th>\n",
       "      <th>Frequency_midpoint</th>\n",
       "    </tr>\n",
       "  </thead>\n",
       "  <tbody>\n",
       "    <tr>\n",
       "      <th>0</th>\n",
       "      <td>class 1</td>\n",
       "      <td>23</td>\n",
       "      <td>23</td>\n",
       "      <td>529</td>\n",
       "    </tr>\n",
       "    <tr>\n",
       "      <th>1</th>\n",
       "      <td>class 2</td>\n",
       "      <td>34</td>\n",
       "      <td>24</td>\n",
       "      <td>816</td>\n",
       "    </tr>\n",
       "    <tr>\n",
       "      <th>2</th>\n",
       "      <td>class 3</td>\n",
       "      <td>24</td>\n",
       "      <td>32</td>\n",
       "      <td>768</td>\n",
       "    </tr>\n",
       "    <tr>\n",
       "      <th>3</th>\n",
       "      <td>class 4</td>\n",
       "      <td>47</td>\n",
       "      <td>44</td>\n",
       "      <td>2068</td>\n",
       "    </tr>\n",
       "    <tr>\n",
       "      <th>4</th>\n",
       "      <td>class 5</td>\n",
       "      <td>52</td>\n",
       "      <td>45</td>\n",
       "      <td>2340</td>\n",
       "    </tr>\n",
       "  </tbody>\n",
       "</table>\n",
       "</div>"
      ],
      "text/plain": [
       "  standard  num_students  mean_marks_obtained  Frequency_midpoint\n",
       "0  class 1            23                   23                 529\n",
       "1  class 2            34                   24                 816\n",
       "2  class 3            24                   32                 768\n",
       "3  class 4            47                   44                2068\n",
       "4  class 5            52                   45                2340"
      ]
     },
     "execution_count": 33,
     "metadata": {},
     "output_type": "execute_result"
    }
   ],
   "source": [
    "class_data['Frequency_midpoint'] = class_data['num_students']*class_data['mean_marks_obtained']\n",
    "class_data"
   ]
  },
  {
   "cell_type": "code",
   "execution_count": 31,
   "metadata": {},
   "outputs": [
    {
     "name": "stdout",
     "output_type": "stream",
     "text": [
      "36.227777777777774\n"
     ]
    }
   ],
   "source": [
    "## Grouped mean is sum of frequency mean by sum of groupfrequency \n",
    "grouped_mean = sum(class_data.Frequency_midpoint)/sum(class_data.num_students)\n",
    "print(weighted_mean)"
   ]
  },
  {
   "cell_type": "markdown",
   "metadata": {},
   "source": [
    "### Weighted Average\n",
    "- Averaging numbers, but we want to assign more\n",
    "- Assigning importance to some numbers \n",
    "- $Weighted Average = \\frac{\\sum{xw}}{\\sum{w}}$\n",
    "- Weighted average = (Sum of w (weight) * value) /  weights"
   ]
  },
  {
   "cell_type": "markdown",
   "metadata": {},
   "source": [
    "Q. Suppose your midterm test score is 83 and your final exam score is 95. Using weights 40 % for midterm and 60% for the final exam, COmpute the weighted average of your score. If the minimum average for an A is 90, will you earn an A?"
   ]
  },
  {
   "cell_type": "code",
   "execution_count": 35,
   "metadata": {},
   "outputs": [
    {
     "data": {
      "text/plain": [
       "90.2"
      ]
     },
     "execution_count": 35,
     "metadata": {},
     "output_type": "execute_result"
    }
   ],
   "source": [
    "weighted_avg = (83*0.40 + 95*0.60)/ (0.4+0.6)\n",
    "weighted_avg\n"
   ]
  },
  {
   "cell_type": "markdown",
   "metadata": {},
   "source": [
    "## Median\n",
    "- Middle value in an ordered array of numbers\n",
    "- Applicable for ordinal, interval & ratio data\n",
    "- not applicable for nominal data \n",
    "- Unaffected by extremely large and extremely small values"
   ]
  },
  {
   "cell_type": "markdown",
   "metadata": {},
   "source": [
    "### Compute Median \n",
    "Can be done in two ways - \n",
    "First Way - \n",
    "- arrange the obseravtion in an ordered array \n",
    "- if there is an odd number of terms (odd len of values) the median is the middle term of the ordered array\n",
    "- If there is an even number of terms the median is the average of the middle two terms\n",
    "\n",
    "Second Way - \n",
    "- The medians position is an ordered array is given by:\n",
    "$median = \\frac{n+1}{2}$ "
   ]
  },
  {
   "cell_type": "markdown",
   "metadata": {},
   "source": [
    "### With odd number of terms:"
   ]
  },
  {
   "cell_type": "code",
   "execution_count": 37,
   "metadata": {},
   "outputs": [],
   "source": [
    "lis_num = [2,11,23,121,11,45,34,22,44,1,2,3,5]"
   ]
  },
  {
   "cell_type": "code",
   "execution_count": 57,
   "metadata": {},
   "outputs": [
    {
     "name": "stdout",
     "output_type": "stream",
     "text": [
      "[1, 2, 2, 3, 5, 11, 11, 22, 22, 23, 34, 44, 45, 121, 200, 311]\n",
      "length is: 16\n"
     ]
    }
   ],
   "source": [
    "## Sortting the list\n",
    "lis_num.sort()\n",
    "print(lis_num)\n",
    "print(f'length is: {len(lis_num)}')"
   ]
  },
  {
   "cell_type": "code",
   "execution_count": 58,
   "metadata": {},
   "outputs": [
    {
     "data": {
      "text/plain": [
       "8"
      ]
     },
     "execution_count": 58,
     "metadata": {},
     "output_type": "execute_result"
    }
   ],
   "source": [
    "# so there are 13 terms\n",
    "median_pos = int((len(lis_num)+1)/2)\n",
    "median_pos"
   ]
  },
  {
   "cell_type": "code",
   "execution_count": 59,
   "metadata": {},
   "outputs": [
    {
     "data": {
      "text/plain": [
       "22"
      ]
     },
     "execution_count": 59,
     "metadata": {},
     "output_type": "execute_result"
    }
   ],
   "source": [
    "lis_num[median_pos]"
   ]
  },
  {
   "cell_type": "markdown",
   "metadata": {},
   "source": [
    "### With even number of terms:"
   ]
  },
  {
   "cell_type": "code",
   "execution_count": 60,
   "metadata": {},
   "outputs": [],
   "source": [
    "lis_num = [2,11,23,121,11,45,34,22,44,1,2,3,5,200,311,22]"
   ]
  },
  {
   "cell_type": "code",
   "execution_count": 61,
   "metadata": {},
   "outputs": [
    {
     "name": "stdout",
     "output_type": "stream",
     "text": [
      "[1, 2, 2, 3, 5, 11, 11, 22, 22, 23, 34, 44, 45, 121, 200, 311]\n",
      "length is: 16\n"
     ]
    }
   ],
   "source": [
    "## Sortting the list\n",
    "lis_num.sort()\n",
    "print(lis_num)\n",
    "print(f'length is: {len(lis_num)}')"
   ]
  },
  {
   "cell_type": "code",
   "execution_count": 62,
   "metadata": {},
   "outputs": [
    {
     "data": {
      "text/plain": [
       "8.5"
      ]
     },
     "execution_count": 62,
     "metadata": {},
     "output_type": "execute_result"
    }
   ],
   "source": [
    "# so there are 13 terms\n",
    "median_pos = (len(lis_num)+1)/2\n",
    "median_pos"
   ]
  },
  {
   "cell_type": "code",
   "execution_count": 64,
   "metadata": {},
   "outputs": [
    {
     "data": {
      "text/plain": [
       "22.5"
      ]
     },
     "execution_count": 64,
     "metadata": {},
     "output_type": "execute_result"
    }
   ],
   "source": [
    "## The median is between 8 th term & 9th term , which is nothing but the average of two values:\n",
    "median_eve = (lis_num[8]+lis_num[9])/2\n",
    "median_eve"
   ]
  },
  {
   "cell_type": "markdown",
   "metadata": {},
   "source": [
    "### Median of grouped data ,"
   ]
  },
  {
   "cell_type": "code",
   "execution_count": null,
   "metadata": {},
   "outputs": [],
   "source": []
  },
  {
   "cell_type": "code",
   "execution_count": null,
   "metadata": {},
   "outputs": [],
   "source": []
  },
  {
   "cell_type": "code",
   "execution_count": null,
   "metadata": {},
   "outputs": [],
   "source": []
  },
  {
   "cell_type": "markdown",
   "metadata": {},
   "source": [
    "## Mode\n",
    "- The most frequently occurung value in a dataset\n",
    "- Applicable to all levels of data measurement (nominal, oridnal,interval & ratio)\n",
    "- Bimodal -- Data sets that have two modes\n",
    "- Multimodal -- Data sets that contain more than two modes"
   ]
  },
  {
   "cell_type": "code",
   "execution_count": 89,
   "metadata": {},
   "outputs": [],
   "source": [
    "num_lis = [1,2,2,3,5,6,73,2,4]\n",
    "\n",
    "def mode(numbers):\n",
    "    dic = {}\n",
    "    for num in numbers:\n",
    "    #     print(num)\n",
    "        dic[num]=numbers.count(num)\n",
    "    return dic\n",
    "    \n"
   ]
  },
  {
   "cell_type": "code",
   "execution_count": 93,
   "metadata": {},
   "outputs": [
    {
     "data": {
      "text/plain": [
       "{1: 1, 2: 3, 3: 1, 5: 1, 6: 1, 73: 1, 4: 1}"
      ]
     },
     "execution_count": 93,
     "metadata": {},
     "output_type": "execute_result"
    }
   ],
   "source": [
    "dic = mode(num_lis)\n",
    "dic"
   ]
  },
  {
   "cell_type": "markdown",
   "metadata": {},
   "source": [
    "### Mode of a grouped data\n",
    "- Find midpoint of mode class\n",
    "- modal class has the greastest frequency\n",
    "$ Mode(grouped) = L+[{\\frac{d1}{d1+d2}]*w}$\n",
    "\n",
    "L = lower limit of mode interval i.e max frequency of class interval \n",
    "d1 = difference between lower class interval & by previous frequency of lower limit of a class\n",
    "d2 = difference between upper class interval by next frequency of upper milt of a classs\n",
    "w = width of class \n"
   ]
  },
  {
   "cell_type": "code",
   "execution_count": 138,
   "metadata": {},
   "outputs": [
    {
     "data": {
      "text/html": [
       "<div>\n",
       "<style scoped>\n",
       "    .dataframe tbody tr th:only-of-type {\n",
       "        vertical-align: middle;\n",
       "    }\n",
       "\n",
       "    .dataframe tbody tr th {\n",
       "        vertical-align: top;\n",
       "    }\n",
       "\n",
       "    .dataframe thead th {\n",
       "        text-align: right;\n",
       "    }\n",
       "</style>\n",
       "<table border=\"1\" class=\"dataframe\">\n",
       "  <thead>\n",
       "    <tr style=\"text-align: right;\">\n",
       "      <th></th>\n",
       "      <th>class interval</th>\n",
       "      <th>frequency</th>\n",
       "    </tr>\n",
       "  </thead>\n",
       "  <tbody>\n",
       "    <tr>\n",
       "      <th>0</th>\n",
       "      <td>20-under 30</td>\n",
       "      <td>3</td>\n",
       "    </tr>\n",
       "    <tr>\n",
       "      <th>1</th>\n",
       "      <td>30-under 40</td>\n",
       "      <td>10</td>\n",
       "    </tr>\n",
       "    <tr>\n",
       "      <th>2</th>\n",
       "      <td>40-under 50</td>\n",
       "      <td>7</td>\n",
       "    </tr>\n",
       "  </tbody>\n",
       "</table>\n",
       "</div>"
      ],
      "text/plain": [
       "  class interval  frequency\n",
       "0    20-under 30          3\n",
       "1    30-under 40         10\n",
       "2    40-under 50          7"
      ]
     },
     "execution_count": 138,
     "metadata": {},
     "output_type": "execute_result"
    }
   ],
   "source": [
    "# initialize list of lists \n",
    "data = [['20-under 30', 3], ['30-under 40', 10], ['40-under 50', 7]] \n",
    "  \n",
    "# Create the pandas DataFrame \n",
    "df = pd.DataFrame(data, columns = ['class interval', 'frequency']) \n",
    "  \n",
    "# print dataframe. \n",
    "df "
   ]
  },
  {
   "cell_type": "code",
   "execution_count": 139,
   "metadata": {},
   "outputs": [
    {
     "data": {
      "text/plain": [
       "37.0"
      ]
     },
     "execution_count": 139,
     "metadata": {},
     "output_type": "execute_result"
    }
   ],
   "source": [
    "## w = here class interval is 10 \n",
    "## l = lower limit of model class is 30\n",
    "## d1 = 10 -3\n",
    "## d2 = 10 - 7\n",
    "mode = 30 + (7/(7+3))*10\n",
    "mode"
   ]
  },
  {
   "cell_type": "markdown",
   "metadata": {},
   "source": [
    "### Percentile \n",
    "- Measure of central tendency that divide a group of data in 100 parts \n",
    "- Eg - 90% percentile incdicates that at most 90% of the data lie below it and atleast 1- of the data lie above it\n",
    "- the median & the 50th percentile have the same value\n",
    "- Applicable for ordinal , interval & ratio data\n",
    "- Not applicable for nominal data\n",
    "\n",
    "#### Computing percentile \n",
    "- oprganise the data into an ascending ordered array\n",
    "- calculate the  pth percentile location:\n",
    "$i = \\frac{P}{100}*n$\n",
    "- Determine the percentile location 7 value\n",
    "- if i is a whole number, the percentile is the average of the values at the i & (i+1) position\n",
    "- if i is not a whole number, the percentile is at the (i+1) position in the ordered array"
   ]
  },
  {
   "cell_type": "code",
   "execution_count": 141,
   "metadata": {},
   "outputs": [
    {
     "data": {
      "text/plain": [
       "[5, 12, 13, 14, 19, 23]"
      ]
     },
     "execution_count": 141,
     "metadata": {},
     "output_type": "execute_result"
    }
   ],
   "source": [
    "data = [14,12,19,23,5,13]\n",
    "data.sort()\n",
    "data"
   ]
  },
  {
   "cell_type": "code",
   "execution_count": 143,
   "metadata": {},
   "outputs": [
    {
     "data": {
      "text/plain": [
       "1.7999999999999998"
      ]
     },
     "execution_count": 143,
     "metadata": {},
     "output_type": "execute_result"
    }
   ],
   "source": [
    "## 30th percentile =\n",
    "i = (30/100)*(len(data))\n",
    "i"
   ]
  },
  {
   "cell_type": "code",
   "execution_count": 144,
   "metadata": {},
   "outputs": [
    {
     "data": {
      "text/plain": [
       "2.8"
      ]
     },
     "execution_count": 144,
     "metadata": {},
     "output_type": "execute_result"
    }
   ],
   "source": [
    "location_index = i+1\n",
    "location_index"
   ]
  },
  {
   "cell_type": "code",
   "execution_count": 146,
   "metadata": {},
   "outputs": [
    {
     "name": "stdout",
     "output_type": "stream",
     "text": [
      " the 30th percentile is : 14\n"
     ]
    }
   ],
   "source": [
    "## which is 2.8 so taking whole number portion it is 3 \n",
    "print(f' the 30th percentile is : {data[3]}')"
   ]
  },
  {
   "cell_type": "markdown",
   "metadata": {},
   "source": [
    "# Dispersion :\n",
    "Measure of variablity describe the spread or the dispersion of a set of data \n",
    "- Reliability of mean is explained by dispersion"
   ]
  },
  {
   "cell_type": "markdown",
   "metadata": {},
   "source": [
    "## Types of dispersion\n",
    "* Skewness\n",
    "* Kurtosis \n",
    "* Range\n",
    "* IQR (Interquartile Range)\n",
    "* Variance\n",
    "* Standard score\n",
    "* Coeficient of variation\n",
    "* Z - scores"
   ]
  },
  {
   "cell_type": "markdown",
   "metadata": {},
   "source": [
    "### - Range\n",
    "\n",
    "- the difference between the largest and the smallest values in a set of data \n",
    "- ignores all data points except the two extremes\n",
    "- range = largest_val - smallest_val"
   ]
  },
  {
   "cell_type": "markdown",
   "metadata": {},
   "source": [
    "### - Quartiles \n",
    "- measure of central tendency that divides a group of data into four subgroups\n",
    "- Q1 = 25% of the data set is below the first quartile\n",
    "- Q2 = 50% of the data set is below the second quartile (median)\n",
    "- Q3 = 75% of the data set is below the third quartile\n",
    "- Q1 = 25th percentile\n",
    "- Q2 = 50th percentile\n",
    "- Q3 = 75th percentile\n",
    "- Quartile values are not necissarily members of the data set"
   ]
  },
  {
   "cell_type": "code",
   "execution_count": 158,
   "metadata": {},
   "outputs": [
    {
     "name": "stdout",
     "output_type": "stream",
     "text": [
      "First qurtile Q1 = 121, 2nd quartile Q2 = 122,& Q3 = 129\n"
     ]
    }
   ],
   "source": [
    "data = [106,109,114,121,122,125,129]\n",
    "data.sort()\n",
    "q1 =  25/100*(len(data))\n",
    "q1 = round(q1+1)\n",
    "\n",
    "q2 =  50/100*(len(data))\n",
    "q2 = round(q2+1)\n",
    "\n",
    "q3 =  75/100*(len(data))\n",
    "q3 = round(q3+1)\n",
    "\n",
    "print(f'First qurtile Q1 = {data[q1]}, 2nd quartile Q2 = {data[q2]},& Q3 = {data[q3]}')"
   ]
  },
  {
   "cell_type": "markdown",
   "metadata": {},
   "source": [
    "### IQR - Interquartile range\n",
    "- Range of values between the first & third quartiles\n",
    "- range of the midlle half\n",
    "- Less influenced by extremes\n",
    "- $   IQR = Q3 - Q1 $"
   ]
  },
  {
   "cell_type": "code",
   "execution_count": 159,
   "metadata": {},
   "outputs": [
    {
     "name": "stdout",
     "output_type": "stream",
     "text": [
      "8\n"
     ]
    }
   ],
   "source": [
    "iqr = data[q3] - data[q1]\n",
    "print(iqr)"
   ]
  },
  {
   "cell_type": "markdown",
   "metadata": {},
   "source": [
    "### Deviation From the Mean \n",
    "- find the mean \n",
    "- calculate the difference in values\n",
    "- can contain negative & positive deviation"
   ]
  },
  {
   "cell_type": "code",
   "execution_count": 160,
   "metadata": {},
   "outputs": [
    {
     "data": {
      "text/plain": [
       "[5, 9, 16, 17, 18]"
      ]
     },
     "execution_count": 160,
     "metadata": {},
     "output_type": "execute_result"
    }
   ],
   "source": [
    "data = [5,9,16,17,18]\n",
    "data.sort()\n",
    "data"
   ]
  },
  {
   "cell_type": "code",
   "execution_count": 165,
   "metadata": {},
   "outputs": [
    {
     "data": {
      "text/plain": [
       "13"
      ]
     },
     "execution_count": 165,
     "metadata": {},
     "output_type": "execute_result"
    }
   ],
   "source": [
    "mean = int(sum(data)/len(data))\n",
    "mean"
   ]
  },
  {
   "cell_type": "code",
   "execution_count": 169,
   "metadata": {},
   "outputs": [
    {
     "data": {
      "text/plain": [
       "[8, 4, 3, 4, 5]"
      ]
     },
     "execution_count": 169,
     "metadata": {},
     "output_type": "execute_result"
    }
   ],
   "source": [
    "dev_from_mean = [abs(i-mean) for i in data] ## abs is sbosulte \n",
    "dev_from_mean"
   ]
  },
  {
   "cell_type": "markdown",
   "metadata": {},
   "source": [
    "### We should go for Mean Absolute deviation (M.A.D)\n",
    "# $M.A.D =  \\frac{\\sum|X-\\mu|}{N} $"
   ]
  },
  {
   "cell_type": "code",
   "execution_count": 136,
   "metadata": {},
   "outputs": [
    {
     "data": {
      "text/plain": [
       "[2, 3, 5]"
      ]
     },
     "execution_count": 136,
     "metadata": {},
     "output_type": "execute_result"
    }
   ],
   "source": [
    "dev_from_mean = [(i-mean) for i in data]\n",
    "dev_from_mean"
   ]
  },
  {
   "cell_type": "markdown",
   "metadata": {},
   "source": [
    "## Population Variance \n",
    "Average of squared deviation from the population mean\n",
    "## $ \\sigma^2 =  \\frac{\\sum(X-\\mu)^2}{N} $"
   ]
  },
  {
   "cell_type": "code",
   "execution_count": null,
   "metadata": {},
   "outputs": [],
   "source": [
    "data = [5,9,16,17,18]\n",
    "data.sort()\n",
    "data"
   ]
  },
  {
   "cell_type": "code",
   "execution_count": null,
   "metadata": {},
   "outputs": [],
   "source": [
    "mean = int(sum(data)/len(data))\n",
    "mean"
   ]
  },
  {
   "cell_type": "code",
   "execution_count": 170,
   "metadata": {},
   "outputs": [
    {
     "data": {
      "text/plain": [
       "[64, 16, 9, 16, 25]"
      ]
     },
     "execution_count": 170,
     "metadata": {},
     "output_type": "execute_result"
    }
   ],
   "source": [
    "dev_from_mean = [(i-mean)**2 for i in data] ## abs is sbosulte \n",
    "dev_from_mean"
   ]
  },
  {
   "cell_type": "markdown",
   "metadata": {},
   "source": [
    "## Standard Deviation  $ \\sigma $ (Sigma)\n",
    "Square root of variance is Standard deviation\n",
    "- Indicator of financial risk\n",
    "- Quality Control\n",
    "    * Constructionof quality control charts\n",
    "    * Process capability Studies\n",
    "- Comapring Populations\n",
    "    * household incomes in two cities\n",
    "    * employee absenteeism at two plants\n",
    "- lesser standard deviation that is having higher homegenious dataset"
   ]
  },
  {
   "cell_type": "markdown",
   "metadata": {},
   "source": [
    "# Measure Dispersion"
   ]
  },
  {
   "cell_type": "markdown",
   "metadata": {},
   "source": [
    "### Empirical Rule \n",
    "* approximately 68% of all observation fall within one standard deviation of the mean.\n",
    "* approximately 95% of all observation fall within two standard deviation of the mean.\n",
    "* Approximately 99.7% of all observation fall within three standard deviation of the mean."
   ]
  },
  {
   "cell_type": "markdown",
   "metadata": {},
   "source": [
    "### Chebysheff's Therom \n",
    "* A more general interpretation of the standard deviation is derived from Chebysheff's Therom. which applied to all shapes of histograms (not just bell shaped)\n",
    "* The proportion of observation in any sample that lie within k standarddeviation of the mean is at least:\n",
    "\n",
    "$ 1- \\frac{1}{k} for k >1$"
   ]
  },
  {
   "cell_type": "markdown",
   "metadata": {},
   "source": [
    "### Coefficient of Variation\n",
    "* Ratio of standard deviation to the mean, expressed as a percentage\n",
    "* Measurement of relative dispersion\n",
    "## $ C.V = \\frac{\\sigma} {\\mu} *100$\n",
    "* Lower the coefficient of variance better the option"
   ]
  },
  {
   "cell_type": "markdown",
   "metadata": {},
   "source": [
    "## When to use C.V\n",
    "### Q. Suppose we have two stocks A & B having mean 29 & 84 , std deviation 4.6 & 10 . What is the better stock?\n",
    "\n",
    "By comparing means stock B is better but when we compare standard deviation stock A is having lower risk . Thus we have a tradeoff . Therefore we calculate C.V"
   ]
  },
  {
   "cell_type": "code",
   "execution_count": 175,
   "metadata": {},
   "outputs": [
    {
     "name": "stdout",
     "output_type": "stream",
     "text": [
      "CV of stock A is 15.86206896551724 & B is 11.904761904761903\n",
      "stock A is better\n"
     ]
    }
   ],
   "source": [
    "cv_1 = (4.6/29)*100\n",
    "cv_2 = (10/84)*100\n",
    "print(f'CV of stock A is {cv_1} & B is {cv_2}')\n",
    "print('stock A is better')"
   ]
  },
  {
   "cell_type": "markdown",
   "metadata": {},
   "source": [
    "## Measure of Shape\n",
    "- Skewness \n",
    "    - absence of symmetry\n",
    "    - Extreme values in one side of a distribution , Left skewed & Right skewed\n",
    "- Kurtosis\n",
    "- Box & Whisker Plots"
   ]
  },
  {
   "cell_type": "markdown",
   "metadata": {},
   "source": [
    "### Skewness    \n",
    "    - if tail is on left hand side i.e negative skewed\n",
    "    - if tail is on right hand side i.e positive skewed\n",
    "    - The skewness of a distribution is measured by comparing the relative positions of the mean, median & mode\n",
    "    - Distribution is symmetrical: Mean = Median = Mode\n",
    "    - Distribution is right skewed : median lies between mode & mean , and mode is less than mean\n",
    "    - Distribution is left skewed : median lies between mode & mean , and mode is greater than mean"
   ]
  },
  {
   "cell_type": "markdown",
   "metadata": {},
   "source": [
    "### Coefficient of Skewness - \n",
    "* Summary Measure of skewness \n",
    "## $ S = \\frac{3(\\mu - Md)}{\\sigma}$ , Md is median\n",
    "* If S < 0, the distribution is negatively skewed (Skewed to the left)\n",
    "* If S = 0, the distribution is symmetric (Not Skewed)\n",
    "* If S > 0, the distribution is Positively skewed (Skewed to the right)"
   ]
  },
  {
   "cell_type": "markdown",
   "metadata": {},
   "source": [
    "### Q. Given details mean , median & standard deviation of 3 datasets A, B & C. Identify their Skewness ?\n",
    "\n",
    "A. mean = 23 , median 26 standard deviation = 12.3\n",
    "B. mean = 26 , median 26 standard deviation = 12.3\n",
    "C. mean = 29 , median 26 standard deviation = 12.3"
   ]
  },
  {
   "cell_type": "code",
   "execution_count": 190,
   "metadata": {},
   "outputs": [
    {
     "name": "stdout",
     "output_type": "stream",
     "text": [
      "Skwness is A = -0.7317073170731707, i.e it is left skewed B = 0.0 not skewed & C = 0.7317073170731707 i.e right skewed\n"
     ]
    }
   ],
   "source": [
    "skew_A = (3*(23-26))/12.3\n",
    "skew_B = (3*(26-26))/12.3\n",
    "skew_C = (3*(29-26))/12.3\n",
    "print(f'Skwness is A = {skew_A}, i.e it is left skewed B = {skew_B} not skewed & C = {skew_C} i.e right skewed')"
   ]
  },
  {
   "cell_type": "markdown",
   "metadata": {},
   "source": [
    "## Kurtosis \n",
    "* Peakedness of a distribution\n",
    "    - Leptokurtic: high & thin\n",
    "    -  Mesokurtic: normal in shape\n",
    "    - Platykurtic: flat and spread out"
   ]
  },
  {
   "cell_type": "markdown",
   "metadata": {},
   "source": [
    "## Box & Whisker Plot\n",
    "Box & Whiskers plot signifies 5 positions :\n",
    "    - Median, Q2\n",
    "    - First quartile Q1\n",
    "    - Third quartile , Q3\n",
    "    - Min Val\n",
    "    - Max val in data set"
   ]
  },
  {
   "cell_type": "code",
   "execution_count": 196,
   "metadata": {},
   "outputs": [],
   "source": [
    "tup = (1,2,3,4,5)"
   ]
  },
  {
   "cell_type": "code",
   "execution_count": 198,
   "metadata": {},
   "outputs": [
    {
     "ename": "AttributeError",
     "evalue": "'tuple' object has no attribute 'append'",
     "output_type": "error",
     "traceback": [
      "\u001b[0;31m---------------------------------------------------------------------------\u001b[0m",
      "\u001b[0;31mAttributeError\u001b[0m                            Traceback (most recent call last)",
      "\u001b[0;32m<ipython-input-198-7201f5196188>\u001b[0m in \u001b[0;36m<module>\u001b[0;34m\u001b[0m\n\u001b[0;32m----> 1\u001b[0;31m \u001b[0mtup\u001b[0m\u001b[0;34m.\u001b[0m\u001b[0mappend\u001b[0m\u001b[0;34m(\u001b[0m\u001b[0;34m(\u001b[0m\u001b[0;36m5\u001b[0m\u001b[0;34m,\u001b[0m\u001b[0;36m6\u001b[0m\u001b[0;34m,\u001b[0m\u001b[0;36m7\u001b[0m\u001b[0;34m)\u001b[0m\u001b[0;34m)\u001b[0m\u001b[0;34m\u001b[0m\u001b[0;34m\u001b[0m\u001b[0m\n\u001b[0m",
      "\u001b[0;31mAttributeError\u001b[0m: 'tuple' object has no attribute 'append'"
     ]
    }
   ],
   "source": [
    "tup.append((5,6,7))"
   ]
  },
  {
   "cell_type": "code",
   "execution_count": 202,
   "metadata": {},
   "outputs": [
    {
     "data": {
      "text/plain": [
       "[2, 4, 6, 8]"
      ]
     },
     "execution_count": 202,
     "metadata": {},
     "output_type": "execute_result"
    }
   ],
   "source": [
    "list(range(2,10,2))"
   ]
  },
  {
   "cell_type": "markdown",
   "metadata": {},
   "source": [
    "# *[NOTES]"
   ]
  },
  {
   "cell_type": "markdown",
   "metadata": {},
   "source": [
    "- When to use mean meadian mode ?    \n",
    "    - Whenever data is skewed we should go for median as a central tendancy\n",
    "    - When data is a bell curve we can use any one i.e mean meadin mode"
   ]
  },
  {
   "cell_type": "code",
   "execution_count": null,
   "metadata": {},
   "outputs": [],
   "source": []
  }
 ],
 "metadata": {
  "kernelspec": {
   "display_name": "Python 3.6.9 64-bit",
   "language": "python",
   "name": "python36964bit2a33ca12b71a485da467c1efc6401f21"
  },
  "language_info": {
   "codemirror_mode": {
    "name": "ipython",
    "version": 3
   },
   "file_extension": ".py",
   "mimetype": "text/x-python",
   "name": "python",
   "nbconvert_exporter": "python",
   "pygments_lexer": "ipython3",
   "version": "3.6.9"
  }
 },
 "nbformat": 4,
 "nbformat_minor": 4
}
