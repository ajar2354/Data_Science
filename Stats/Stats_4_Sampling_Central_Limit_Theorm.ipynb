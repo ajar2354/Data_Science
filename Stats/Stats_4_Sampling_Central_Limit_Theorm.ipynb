{
 "cells": [
  {
   "cell_type": "markdown",
   "metadata": {},
   "source": [
    "# <center>Sampling & Sampling Distribution<center>"
   ]
  },
  {
   "cell_type": "markdown",
   "metadata": {},
   "source": [
    "**Topics covered:** \n",
    "\n",
    "* Describing simple random & why sampling is important\n",
    "* Explain th difference between descriptive and inferential statistics \n",
    "* Define the concept of sampling distribution\n",
    "* Determine the mean and standard deviation for the sampling distribution of the sample mean.\n",
    "* descrive central limit theorm & its importance\n",
    "* Determine the mean and standard deviation for the dsampling distribution\n",
    "* Descirbe sampling distribution of dample variances\n"
   ]
  },
  {
   "cell_type": "markdown",
   "metadata": {},
   "source": [
    "## Basics :\n",
    "\n",
    "1. *** Sample and Population***\n",
    "\n",
    "***Population:***\n",
    "        \n",
    "        It is the set of all items or indivisuals of intrest\n",
    "        Eg: All likly voters in the next election\n",
    "        All sales recipts \n",
    "        \n",
    "**Why we use Population ?**\n",
    "\n",
    "    * Eleminate possibility that selected random sample is not an representative of population\n",
    "\n",
    "        \n",
    "***Sample :***\n",
    "\n",
    "        It is subset of the population:\n",
    "        Eg: 100 random voters selected from the pool\n",
    "        \n",
    "**Why we use Sample ?**\n",
    "\n",
    "    * Less time consuming than census\n",
    "    * Less costly\n",
    "    * possible to obtain stistical results of a sufficiently high precison based on samples.\n",
    "    * Because the research process is sometimes destriuctive, the sample can save product.\n",
    "    * If accesing the population is impossible: sampling is the only option\n",
    "\n",
    "2. ** * Random Sampling and Non Random Sampling* **\n",
    "\n",
    "***Random Sampling:***\n",
    "        \n",
    "        - Every unit of the population has the same probability of being included in the sample\n",
    "        - A chance mechanism is used in the selection process\n",
    "        - Eliminate bias in the selection process\n",
    "        - Also known as probability sampling\n",
    "\n",
    "\n",
    "***Non-Random Sampling:***\n",
    "        \n",
    "        - Every unit of the population doesnt have the same probability of being included in the sample\n",
    "        - Not a approriate sampling practice in satistical analysis\n",
    "        - open to bias in the selection process\n",
    "        - Also known as non - probability sampling\n",
    "        "
   ]
  },
  {
   "cell_type": "markdown",
   "metadata": {},
   "source": [
    "## Random Sampling Techniques:\n",
    "1. **Simple random sampling:**\n",
    "\n",
    "    - Every object in the population has and equal chance of being selected \n",
    "    - Objects are selected independently\n",
    "    - Samples can be obtained from a table of random numbers or computer random number generator\n",
    "    - Simple random sample is the ideal against which other sample methods are compared\n",
    "    \n",
    "    \n",
    "2. **Stratified Random sampling:**\n",
    "\n",
    "    - Population is divided into non-overlapping subpopulations called strats\n",
    "    - Each item in each strata is homogenous\n",
    "    - A random sample is selected from each stratum\n",
    "    - Potential for reducing sampling error\n",
    "    - Two types Proportionate and Disproportionate -- \n",
    "    \n",
    "    **a. Proportionate**\n",
    "    \n",
    "        the percentage of these sample taken from each stratum is proportionate to the percentage that each stratum is within the population.\n",
    "    \n",
    "    **b. Disproportionate**\n",
    "        \n",
    "        proportions of the strata within the sample are different than the proportions of the strata within the population\n",
    "    \n",
    "\n",
    "3. **Systematic Random Sampling**\n",
    "\n",
    "    - COnvienient and relatively easy to administer \n",
    "    - Population elements are an ordered sequence (at least, coceptually)\n",
    "    - The first element is slected randomly from the first k population elements\n",
    "    - Threafter  sample elements are selected at a constant interval k from the ordered sequence frame\n",
    "\n",
    "\n",
    "4. **Cluster (or Area) Sampling**\n",
    "\n",
    "    - Population is divided into non overalpping clusters or areas\n",
    "    - Each cluster is a miniature of the population\n",
    "    - A subset of the clusters is selected randomly for the sample\n",
    "    - If the number of elements in the subset of clusters is larger than the desiserd value of n, thses clusters may be subdivided to form a new st of clusters and subjected to random selection process.\n",
    "    \n",
    "** Note - Difference between stratified sample vs cluster: Each items in a stratum is homogenous, but in cluster it is highly hetrogeneous. Thus each cluster will act like a populaton. Each cluster will have similar characteristics but different variance.  \n",
    "\n",
    "      Advantage :\n",
    "      \n",
    "      * More convinient for geographically dispersed populations\n",
    "      * Reduced travel costs to contact sample elements\n",
    "      * Simplified administration of the survey\n",
    "      * Unavailable of sampling frame prohibits using other random sampling methods\n",
    "      \n",
    "      Disadvanatges:\n",
    "      \n",
    "      * Statistically less efficient when the cluster elements are similar\n",
    "      * Costs and problem of statistical analysis are grater than for simple random sampling\n"
   ]
  },
  {
   "cell_type": "markdown",
   "metadata": {},
   "source": [
    "## Non - Random Sampling Techniques:\n",
    "1. **Convenience Sampling**\n",
    "    \n",
    "        Sample elements are selected for the conveinece of the researcher\n",
    "\n",
    "2. **Judegment Sampling**\n",
    "\n",
    "        Sample elements are selcted by the judgement of researcher\n",
    "\n",
    "3. **Quota Sampling**\n",
    "    \n",
    "        Sample elements are selcted untill quota controls are statisfied\n",
    "\n",
    "4. **Snowball Sampling**\n",
    "\n",
    "        Survevy subjects are selcted based on refferral from other survevy respondents. Very common methods in research"
   ]
  },
  {
   "cell_type": "markdown",
   "metadata": {},
   "source": [
    "### Errors:\n",
    "\n",
    "* Data from non random samples are not appropriate by inferential statistical methods\n",
    "* Sampling error occurs when the sample is not representeative of the population\n",
    "* Non Sampling Errors:\n",
    "    - Missing Data, Recording, Data Entry & Analysis errors\n",
    "    - Poorly conceived concepts, unclear definations etc"
   ]
  },
  {
   "cell_type": "markdown",
   "metadata": {},
   "source": [
    "## Descriptive Vs Inferential Statistics:\n",
    "\n",
    "- Descriptive Statistics:\n",
    "        \n",
    "        - Collecting, presenting and describing data\n",
    "\n",
    "- Inferential statistics:\n",
    "\n",
    "        - Drawing conclusions and making decisions concerning a population based in sample data\n",
    "        "
   ]
  },
  {
   "cell_type": "markdown",
   "metadata": {},
   "source": [
    "## <center>Inferential Statistics<center>"
   ]
  },
  {
   "cell_type": "markdown",
   "metadata": {},
   "source": [
    "* Making Statements about a population by examining sample results \n",
    "\n",
    "***Sample stats (Known and taken randomly from pupulation) ----> Population parameters (unknown, but can be estimated from sample evidence)***\n",
    "\n",
    "Inferenctial Statistics is used for:\n",
    "- Estimation\n",
    "    - Estimate population mean weight using the sample mean weight\n",
    "- Hypothesis Testing\n",
    "    - Use sample evidence to test the claim that the population mean weight."
   ]
  },
  {
   "cell_type": "markdown",
   "metadata": {},
   "source": [
    "## Process of Inferential Statistics :\n",
    "- Proper knowledge and interpretation of a sample statistic requires knowledge of its distribution.\n",
    "\n",
    "1. Assumtion of hypothesis\n",
    "2. Take a sample randomly\n",
    "3. Do some sample statistics\n",
    "4. By doining that we can estimate the sample mean or variance"
   ]
  },
  {
   "cell_type": "markdown",
   "metadata": {},
   "source": [
    "### Sampling Distribution:\n",
    "\n",
    "A sampling distribution of all the possible values of a statitics for a given size sample selcted from a pupulation\n",
    "\n",
    "**Type of Sampling Distributions:**\n",
    "    1. Sampling Distribution of sample mean\n",
    "    2. Sampling distribution of sample proportion\n",
    "    3. Sampling distribution of sample variance"
   ]
  },
  {
   "cell_type": "markdown",
   "metadata": {},
   "source": [
    "# 1. Sampling Distribution of sample mean: (Mainly for continour variable)\n",
    "\n",
    "    i. Take sample mean\n",
    "    ii. Plot sample mean that will follow normal distribution"
   ]
  },
  {
   "cell_type": "markdown",
   "metadata": {},
   "source": [
    "## <center>Central Limit Theorm:<center>\n",
    "If the population is not normal we can apply central limit theorm. \n",
    "The sample mean from the population will be approximately normal as long as the sample size is large enough.\n",
    "\n",
    "Properties of sampling distribution:\n",
    "\n",
    "##  1.Central Tendancy: $ \\mu_x̅ = \\mu$  & \n",
    "## 2.Variation: $\\sigma_x̅ = \\frac{\\sigma}{\\sqrt(n)}$\n",
    "\n",
    "        Here ,\n",
    "        1. mean of the sampling distribution is population mean\n",
    "        2. sample standard deviation is equal to population standrd deviation by root of number of sample (N)\n",
    "\n",
    "This theorm connects concept of sample and population \n",
    "\n",
    "** As the sample size becomes large enough, the sampling distribution becomes almost normal regardless of the shape of population. Even parent population distribution may follow any distribution(eg: exponential, uniform etc) the sampling distribution becomes normal as long as n increases** \n",
    "\n",
    "** How Large is enough ? (For sample)**\n",
    "\n",
    "    - For most population distributions, n >25 will give sampling distribution that is nearly normal\n",
    "    - For normal population distributions, the sample distributions of the mean is always normally distributed\n",
    "    \n",
    "#### Acceptance Intervals:\n",
    "Goal: To determine a range within which sample means are leikely to ocuur given a population mean and variance :\n",
    "* By central limit theorm we know that the distribution of X is approximaely normla if n is large enogh, with mean and standard deviation\n",
    "* Let $z_{\\alpha/2}$ be the z avlue that leavs area $\\alpha/2$ in the upper tail of the normal distribution(i.e the interval -$z_{\\alpha/2}$ to $z_{\\alpha/2}$ encloses probability 1 - $\\alpha$)\n",
    "* then $\\mu +- z_{\\alpha/2}\\sigma_{x̅}$ is the interval that includes X with ptobability 1 - $\\alpha$"
   ]
  },
  {
   "cell_type": "markdown",
   "metadata": {},
   "source": [
    "# 2. Sampling Distribution of sample proportion:(For categorical variable)\n",
    "\n",
    "    i. Take sample proportion\n",
    "    ii. Plot sample sample proportion  that will follow normal distribution \n",
    "    \n",
    "P = the proportion of the population having some characteristics\n",
    "* sample proportion (p̂) provides an estimates of P:\n",
    "\n",
    "## p̂ = $\\frac{X}{n}$ = $\\frac{number of items in the sample having the characteristics of intrest}{sample size}$\n",
    "\n",
    "* 0<= p̂ <= 1\n",
    "* p̂ has a binomial distribution, but can be approximated by a normal distribution when nP(1-P) >5\n",
    "\n",
    "**If sampling distribution of p̂ follows normal distribution then we can say:**\n",
    "\n",
    "## * E(p̂) = P [Mean of sampling proportion is equal to mean of population proportion]\n",
    "\n",
    "P = mean of sampling proportion i.e mean sample proportion \n",
    "\n",
    "E(p̂) = P (population mean proportion)\n",
    "\n",
    "## *$\\sigma_{p̂}^2 = Var\\frac{X}{n} = \\frac{P(1-P)}{n}$ \n",
    "\n"
   ]
  },
  {
   "cell_type": "code",
   "execution_count": null,
   "metadata": {},
   "outputs": [],
   "source": []
  },
  {
   "cell_type": "markdown",
   "metadata": {},
   "source": [
    "# 3. Sampling Distribution of sample variance:(For categorical variable)\n",
    "\n",
    "* Taking various sample and taking variance of that\n",
    "* Mean of sample variance is equal to mean of population variance, i.e:\n",
    "    $E(s^2) =  \\sigma^2 $\n",
    "    \n",
    "    which is a right skewed distribution which is called **Chi-Square Distribution**\n",
    "* If the population distribution is normal, then:\n",
    "    $ \\frac{(n-1)s^2}{\\sigma^2}$\n",
    "    \n",
    "    has a chi square (χ2) distibution with n-1 degrees of freedom\n",
    "\n",
    "i. Take variance of each sample\n",
    "ii. Plot sample sample variance that will also follow chi square distribution"
   ]
  },
  {
   "cell_type": "markdown",
   "metadata": {},
   "source": [
    "### Chi Square Distribution:\n",
    "    \n",
    "    It is a family of distrubitions, depending upon degrees of freedom: \n",
    "        defree of freedom = n-1"
   ]
  },
  {
   "cell_type": "markdown",
   "metadata": {},
   "source": [
    "#### What is deegres of freedom ?\n",
    "    Number of observations that are free to vary after sample mean has been calculated\n",
    "    Eg - Suppose the mean of 3 numbers is 8.\n",
    "    x1 = 7\n",
    "    x2 = 8\n",
    "    what is x3?\n",
    "    \n",
    "    If the mean of these 3 values is given to be 8, then \n",
    "    (x1 + x2 + x3) /3 =8\n",
    "    => x3 = 24 - 8 - 7\n",
    "    => x3 = 9\n",
    "    \n",
    "    Thus x3 has to be 9 so that mean becomes 8\n",
    "    \n",
    "    here, n = number of samples which is 3,\n",
    "    so degrees of freedom is n-1 = 3-1 = 2\n",
    "    \n",
    "    thus degrees of freedom says , we can have 2 values that can be any number, but the 3rd is not free to vary a given mean (in this case x3)\n",
    "    \n",
    "**More simple explaination** :* If in a room 3 chairs are given, and guests are asked to sit . The 1st guest who will enter the room will have 3 degrees of freedom as all 3 chairs are empty , he has a choice to sit in given 3 chairs. The second guest would have 2 degrees of freedom as he has 2 chairs empty but the 3rd guest would have no choice but to sit on the empty chair left by guest 1 and guest 2*\n",
    "\n",
    "*Application of Chi Square distribution:*\n",
    "1. Test of independence \n",
    "2. Goodness of fit\n"
   ]
  },
  {
   "cell_type": "code",
   "execution_count": null,
   "metadata": {},
   "outputs": [],
   "source": []
  },
  {
   "cell_type": "code",
   "execution_count": null,
   "metadata": {},
   "outputs": [],
   "source": []
  },
  {
   "cell_type": "code",
   "execution_count": null,
   "metadata": {},
   "outputs": [],
   "source": []
  },
  {
   "cell_type": "code",
   "execution_count": null,
   "metadata": {},
   "outputs": [],
   "source": []
  },
  {
   "cell_type": "code",
   "execution_count": null,
   "metadata": {},
   "outputs": [],
   "source": []
  },
  {
   "cell_type": "code",
   "execution_count": null,
   "metadata": {},
   "outputs": [],
   "source": []
  }
 ],
 "metadata": {
  "kernelspec": {
   "display_name": "Python 3",
   "language": "python",
   "name": "python3"
  },
  "language_info": {
   "codemirror_mode": {
    "name": "ipython",
    "version": 3
   },
   "file_extension": ".py",
   "mimetype": "text/x-python",
   "name": "python",
   "nbconvert_exporter": "python",
   "pygments_lexer": "ipython3",
   "version": "3.6.5"
  }
 },
 "nbformat": 4,
 "nbformat_minor": 2
}
