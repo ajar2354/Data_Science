{
 "cells": [
  {
   "cell_type": "markdown",
   "metadata": {},
   "source": [
    "# <center><u> PROBABILITY </u><center>\n",
    "    \n",
    "**Intro - **\n",
    "\n",
    "- Probability if the chance of something happening it is. written numberically and it ranges 0<= P <=1\n",
    ", OR \n",
    "- The likelihood of an event occuring\n",
    "- Having a probability of 1 indicates absoulute certainty of an event will occur.\n",
    "- Having a probability of 0 indicates absoulute certainty of an event will NOT occur.\n",
    "- Higher probaility indicates higher likelihood"
   ]
  },
  {
   "cell_type": "code",
   "execution_count": null,
   "metadata": {},
   "outputs": [],
   "source": []
  },
  {
   "cell_type": "markdown",
   "metadata": {},
   "source": [
    "## Basics\n",
    "- Probility is the numerical measure of the likelihood that an event will occur\n",
    "- The probabilty of any event must be between 0 & 1, iclusively - 0<= P(A) <= 1 for any event A\n",
    "- The sum of the probabilities of all mutully exclusive & collectively exhaustive events is 1.\n",
    "    - P(A) + P(B) + P(C) = 1\n",
    "    - A,B & C are mutully exclusive & colletively exhaustive\n",
    "- probability 1 , event is most certain to happen & if 0 event is not certain\n",
    "\n",
    "\n",
    "## Trial\n",
    "\n",
    "One reprtition of the process. If we want to find probability of tossing 20 coins. Tossing coin 1 time is called an trail.\n",
    "\n",
    "\n",
    "\n",
    "## Experiment - \n",
    "\n",
    "If we want to find probability of tossing 20 coins. Tossing coin 1 time is called an trail. And conducting 20 trails in total we would complete an experiment.\n",
    "A process that produces outcomes \n",
    "- More than one possible outcome\n",
    "- Only one outcome per trial\n",
    "\n",
    "\n",
    "\n",
    "\n",
    "\n",
    "\n",
    "\n",
    "## Elementary Event\n",
    "\n",
    "Cannot be decomposed or broken down into other events\n",
    " \n",
    "\n",
    "\n",
    "## Events\n",
    "\n",
    "Event is an specific outcome or combination of serveral outcoums. i.e. An outcome of an experiment.\n",
    "\n",
    "** *Example - if we flip a coin there are two possible events that can occur / two possible events that will occur . Heads or Tails.* **\n",
    "    - May be an elemantry event or \n",
    "    - May be an aggregated of elementary events\n",
    "    - Usually represented by an upper letter, eg- A , E1\n",
    "    \n",
    "\n",
    "\n",
    "## Sample Space \n",
    "\n",
    "- Set of all elementary events for an experiment , Eg - if we roll a die there are 6 sample space - [1,2,3,4,5,6]\n",
    "- Methods for describing a samole space \n",
    "- All possible outcomes / preffered outcome \n",
    "    - Roster or listing\n",
    "    - Tree diagram\n",
    "    - Set builder notation\n",
    "    - Venn Diagram\n",
    "    \n",
    "\n",
    "\n",
    "\n",
    "## Mutually Exclusive Event \n",
    "- Events with no common outcome\n",
    "- Occurance of one event precludes the outcomes of the event\n",
    "eg - a = [1,2,3], B= [4,5,6], Here A & B are independent events\n",
    "\n",
    "\n",
    "\n",
    "\n",
    "## Independent Events\n",
    "\n",
    "- Occurance of one event does not effect the occurance or non-occurance of the other event\n",
    "- The conditional probabilty of X given Y is equal to the marginal probabilty of X\n",
    "- The conditionnal probailty of Y given X is equal to the marginal probabilty of Y\n",
    "### $ P(X|Y) = P(X) and P(Y|X) = P(Y) $\n",
    "\n",
    "\n",
    "\n",
    "\n",
    "\n",
    "## Complementary Events \n",
    "\n",
    "- All elementary events not in the event 'A' are in its complementary event\n",
    "\n",
    "### $ P(Sample Space) = 1 $\n",
    "### $ Complementary event = P(A')= 1- P(A) $\n",
    "\n"
   ]
  },
  {
   "cell_type": "markdown",
   "metadata": {},
   "source": [
    "## Methods of Assigning Probabilty \n",
    "1. Classical Method of assigning probability (rules and laws )\n",
    "2. Relative frequency of occurance (Cumulative historical data)\n",
    "3. Subjective Probabilty (personal intution or reasoning)"
   ]
  },
  {
   "cell_type": "markdown",
   "metadata": {},
   "source": [
    "## 1. CLASSICAL PROBILITY - \n",
    "\n",
    "- Number of outcomes leading to an event divided by the total number of outcomes possible $ P(E) = \\frac{n}{N}$\n",
    "        N = Total number of outcomes \n",
    "        n = number of outcomes in E (Event)\n",
    "- Each outcome is equally likely \n",
    "- Determined a priori -- before performing the experiment (i.e tossing a coin would have two possible outcomes)\n",
    "- Applicable to game of chance\n",
    "- Objective -- every correctly ussing the method assigns a identical probabiloty"
   ]
  },
  {
   "cell_type": "markdown",
   "metadata": {},
   "source": [
    "## 2. Relative Frequency Probabilty \n",
    "- Based on historic data \n",
    "- Computed after performing the experiment \n",
    "- Number of times an event occured divided by the number of trials \n",
    "- $ P(E) = \\frac{n}{N}$\n",
    "        N = Total number of trials \n",
    "        n = number of outcomes producing E (Event)"
   ]
  },
  {
   "cell_type": "markdown",
   "metadata": {},
   "source": [
    "## 3. Subjective Probabilty \n",
    "- Comes from a persons intution or reasoning\n",
    "- Subjective -- different indivisuals may (correctly) assign different numeric probabilities to the same event \n",
    "- Degree of belief\n",
    "- Useful for unique (Single - trial) experiments, examples\n",
    "    - New product introduction\n",
    "    - Intitial public offering of common stock\n",
    "    - Site selction decisions\n",
    "    - Sporting Events"
   ]
  },
  {
   "cell_type": "markdown",
   "metadata": {},
   "source": [
    "## Counting the possibilties \n",
    "\n",
    "1. 'mn' Rule\n",
    "2. Sampling from a Population with replacement\n",
    "3. Combinations : Sampling from a Population without Replacement"
   ]
  },
  {
   "cell_type": "markdown",
   "metadata": {},
   "source": [
    "## 1. mn Rule\n",
    "- If an operation can be done m ways and a second operation can be done in n ways, then there are m*n ways for the two operations to occur in order.\n",
    "- This rule is easily extenede to k stages, with a number of ways equal to n1.n2.n3...nk\n",
    "- Example: Toss Two coins. The total number of simple events is 2 x 2 = 4"
   ]
  },
  {
   "cell_type": "markdown",
   "metadata": {},
   "source": [
    "## 2. Sampling from an population with replacement\n",
    "- A tray contains 1,000 indivisual tax returns. If 3 returns are randomly selcted with replacement from the tray, how many possible samples are there ?\n",
    "- $(N)^n = (1,000)^3 = 1,000,000,000$ "
   ]
  },
  {
   "cell_type": "markdown",
   "metadata": {},
   "source": [
    "## 2. Sampling from an population without replacement\n",
    "- A tray contains 1,000 indivisual tax returns. If 3 returns are randomly selcted with-out replacement from the tray, how many possible samples are there ?\n",
    "- ## $\\frac{N}{n} = \\frac{N!}{n!(N-n)!}= \\frac{1000!}{3!(1000-3)!}= 166,167,000$ \n",
    "- nCn"
   ]
  },
  {
   "cell_type": "markdown",
   "metadata": {},
   "source": [
    "# Types of Probabilty \n",
    "\n",
    "1. Marginal P(X), Probabilty of X occuring .\n",
    "2. Union P(X U Y), The probabilty of X or Y occuring $ P(X U Y) = P(X) + P(Y) - P(X ⋂ Y) $\n",
    "3. Joint P(X intersection), The probabilty of X and Y occuring, $ P(X ⋂ Y) = P(X).P(Y|X) = P(Y).P(X|Y) $\n",
    "4. Conditional P(X|Y), The probability of X occuring, given Y is already occured \n",
    "##    $ P(Y|X) = \\frac{P(X ⋂ Y)}{P(X)} $\n",
    ", which can be derrived from joint probability formula\n"
   ]
  },
  {
   "cell_type": "markdown",
   "metadata": {},
   "source": [
    "## Law of Multiplication (If X and Y are independent)\n",
    "* $ P(X ⋂ Y) = P(X).P(Y|X) = P(Y).P(X|Y) $\n",
    "* $ P(X ⋂ Y) = P(X).P(Y) $\n",
    "\n",
    "## Law of Total probabilty \n",
    "\n",
    "If A is combination of finite events , this law says that P(A) is the sum of all the conditional probabiltites of A given B multiplied by probabilty of assocaited B ,i.e \n",
    "\n",
    "$ A = B_{1}U B_{2}UB_{2}....B_{n} $\n",
    "\n",
    "### $ P(A) = P(A|B_{1})P(B_{1})+P(A|B_{2})P(B_{2})+....+P(A|B_{n})P(B_{n}) $"
   ]
  },
  {
   "cell_type": "markdown",
   "metadata": {},
   "source": [
    "## Conditional Probability \n",
    "\n",
    "It is likelihood of an event occuring, assuming one has already happened.\n",
    "- A conditional probability is the probability of one event, given that another event has occured:\n",
    "    - # $ P(A|B) = \\frac{P(A and B)}{P(B)} $ ,\n",
    "    the conditional probability of A given that B has occured \n",
    "    - # $ P(B|A) = \\frac{P(A and B)}{P(A)} $ ,\n",
    "    the conditional probability of B given that A has occured \n",
    "    \n",
    "## * Where *,\n",
    "      * P(A and B) = joint probability of A\n",
    "      * P(A) = marginal probability of A, \n",
    "      * P(B) = marginal probability of B"
   ]
  },
  {
   "cell_type": "markdown",
   "metadata": {},
   "source": [
    "## Revision of probabilities: Bayes Rule\n",
    "* An extension to the conditional law of probabilities\n",
    "* Enables revision of original probabilities with new information\n",
    "\n",
    "\n",
    "if outcome if more than two $ \\sum P(B) $ i.e nothing but different combination of all joint probabilities\n",
    "# <center> $ P(X_{i}|B) = \\frac{P(Y|X_{i})P(X_{i})}{P(Y|X_{1})P(X_{1})+P(Y|X_{2})P(X_{2})+....+P(Y|X_{n})P(X_{n})} $ <center>"
   ]
  },
  {
   "cell_type": "markdown",
   "metadata": {},
   "source": [
    "# <center> * Bayes Theorm * <center>\n",
    "# <center> $ P(A/B) = \\frac{P(B|A)P(A)}{P(B)} $ <center>"
   ]
  },
  {
   "cell_type": "markdown",
   "metadata": {},
   "source": [
    "- we can write = $ P(A/B) = \\frac{P(A⋂B)}{P(B)} $ \n",
    "i.e nothing but conditional prob.\n",
    "- we can write = $ P(B/A) = \\frac{P(A⋂B)}{P(A)} $"
   ]
  },
  {
   "cell_type": "code",
   "execution_count": null,
   "metadata": {},
   "outputs": [],
   "source": []
  },
  {
   "cell_type": "code",
   "execution_count": null,
   "metadata": {},
   "outputs": [],
   "source": []
  },
  {
   "cell_type": "code",
   "execution_count": null,
   "metadata": {},
   "outputs": [],
   "source": []
  },
  {
   "cell_type": "code",
   "execution_count": null,
   "metadata": {},
   "outputs": [],
   "source": []
  }
 ],
 "metadata": {
  "kernelspec": {
   "display_name": "Python 3",
   "language": "python",
   "name": "python3"
  },
  "language_info": {
   "codemirror_mode": {
    "name": "ipython",
    "version": 3
   },
   "file_extension": ".py",
   "mimetype": "text/x-python",
   "name": "python",
   "nbconvert_exporter": "python",
   "pygments_lexer": "ipython3",
   "version": "3.6.5"
  }
 },
 "nbformat": 4,
 "nbformat_minor": 2
}
