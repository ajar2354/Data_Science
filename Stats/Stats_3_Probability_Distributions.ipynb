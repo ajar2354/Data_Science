{
 "cells": [
  {
   "cell_type": "markdown",
   "metadata": {},
   "source": [
    "# <center><u> PROBABILTY DISTRIBUTION </u><center>"
   ]
  },
  {
   "cell_type": "markdown",
   "metadata": {},
   "source": [
    "** Intro **\n",
    "- The possible values a variable can take & how frequently they occur\n",
    "- Describe the 'shape' of batch of numbers\n",
    "- The characteristics of a distribution can sometimes be defined using a small number of numeric descriptors called parameter i.e each distributions characterists is expressed by its parameter i.e mean,variance \n",
    "\n",
    "**Why Distributions?**\n",
    "- can server as a basis for standard comparision of emerical distributions\n",
    "- Can help us estimate confidence intervals for inferential statistics\n",
    "- Form a basis for more advance statistical methods\n",
    "    - 'fit' between observed distributions and certain theoritical distributions is an assumption of many statistical procedures"
   ]
  },
  {
   "cell_type": "markdown",
   "metadata": {},
   "source": [
    "## Basics - \n",
    "\n",
    "** *What is Variable ?-* **\n",
    "        \n",
    "        A variable is a quantity whoes values change.\n",
    "- Eg- 2x,3y , here x&y are variables as their values are not defined, i.e values of x & y can be anything.\n",
    "\n",
    "** *What is Discrete Variable ?-* **\n",
    "\n",
    "        A discrete variable is a variable whose value is obtained by counting.\n",
    "Examples:\n",
    "- number of students present\n",
    "- number of red marbles in a jar\n",
    "- number of heads when flipping three coins\n",
    "- students’ grade level\n",
    "\n",
    "** *What is Continous Variable ?-* **\n",
    "\n",
    "        A continuous variable is a variable whose value is obtained by measuring.\n",
    "Examples:     \n",
    "- height of students in class\n",
    "- weight of students in class\n",
    "- time it takes to get to school\n",
    "- distance traveled between classes\n",
    "\n",
    "** *What is Random Variable ?-* **\n",
    "- A variable which contains the outcomes of a chance experiment\n",
    "- which is - \"Quantifying the outcomes\"\n",
    "- Example , here X is an random variable whcih can take Head or tails , i.e X = (1 = Head, 0 = Tails)\n",
    "- A variable that can take on different values in the population according to some \"rondom\" mechanism\n",
    "- Discrete\n",
    "    - Distinct values, countable\n",
    "    - Year\n",
    "- Continous \n",
    "    - Mass\n",
    "    \n",
    "** *What is Discrete Random Variable ?-* **\n",
    "\n",
    "    - Discrete random variable X has a countable number of possible values\n",
    "\n",
    "**Example of discrete Random variable:**\n",
    "\n",
    "Q. Two dice are thrown at once. Let X represent the sum of two dice. Now minimum value of x is 2 & maximum value is 6+6=13\n",
    "\n"
   ]
  },
  {
   "cell_type": "code",
   "execution_count": 40,
   "metadata": {},
   "outputs": [
    {
     "data": {
      "text/plain": [
       "[(2, 0.027777777777777776),\n",
       " (3, 0.05555555555555555),\n",
       " (4, 0.08333333333333333),\n",
       " (5, 0.1111111111111111),\n",
       " (6, 0.1388888888888889),\n",
       " (7, 0.16666666666666666),\n",
       " (8, 0.1388888888888889),\n",
       " (9, 0.1111111111111111),\n",
       " (10, 0.08333333333333333),\n",
       " (11, 0.05555555555555555),\n",
       " (12, 0.027777777777777776)]"
      ]
     },
     "execution_count": 40,
     "metadata": {},
     "output_type": "execute_result"
    }
   ],
   "source": [
    "## importing libraries:\n",
    "## Example of discrete Random variable\n",
    "# Two dice are thrown at once . Let X represent the sum of two dice. Now minimum value of x is 2 & maximum value \n",
    "# is 6+6=13\n",
    "\n",
    "# Then the probability distribution of X is as follows: \n",
    "\n",
    "X = [2,3,4,5,6,7,8,9,10,11,12] \n",
    "probability = [1/36,2/36,3/36,4/36,5/36,6/36,5/36,4/36,3/36,2/36,1/36]\n",
    "\n",
    "[(X[i],probability[i]) for i in range(0,len(X))]"
   ]
  },
  {
   "cell_type": "code",
   "execution_count": 44,
   "metadata": {},
   "outputs": [
    {
     "data": {
      "image/png": "[encoded data removed]",
      "text/plain": [
       "<Figure size 432x288 with 1 Axes>"
      ]
     },
     "metadata": {},
     "output_type": "display_data"
    }
   ],
   "source": [
    "## Plotting distribution, histogram:\n",
    "import matplotlib.pyplot as plt\n",
    "plt.bar(X,probability,align='center') # A bar chart\n",
    "plt.xlabel('Possible values of X, Outcomes')\n",
    "plt.ylabel('Probability of X, P(X)')\n",
    "plt.title(\"Probability Distribution of X\")\n",
    "plt.show()"
   ]
  },
  {
   "cell_type": "markdown",
   "metadata": {},
   "source": [
    "** *What is Continous Random Variable ?-* **\n",
    "\n",
    "        A continuous random variable X takes all values in a given interval of numbers.\n",
    " \n",
    "-  The probability distribution of a continuous random variable is shown by a density curve.\n",
    "\n",
    "- The probability that X is between an interval of numbers is the area under the density curve between the interval endpoints\n",
    "\n",
    "- The probability that a continuous random variable X is exactly equal to a number is zero\n",
    "\n",
    "Example: x can take infinite numbers between range 0 to 10, i.e 0.01,0.02...0.1...0.9,1.0....10"
   ]
  },
  {
   "cell_type": "markdown",
   "metadata": {},
   "source": [
    "## Probability Distributions function or Probability Density function {PDF}\n",
    "\n",
    "- The probability distribution function or probability Density function of a random variable X means the values taken by that rnadom variable and their associated probabilities.\n",
    "\n",
    "- PDF of a discrete random variable (also known as PMF)"
   ]
  },
  {
   "cell_type": "markdown",
   "metadata": {},
   "source": [
    "## Expected value of X :\n",
    "  \n",
    "Let X be the discrete random variable with set of possible values D and pmf p(x). The *expected value* or *mean value* of X, denoted:\n",
    "\n",
    " E(X) or $\\mu_{x} $, is E(X) =$\\mu_{x} = \\sum x.p(x)$\n",
    "\n",
    "**Properties of expected value:**\n",
    "1. E(b) =. b,b is a constant\n",
    "2. E(X+Y) = E(X) + E(Y)\n",
    "3. E(X/Y) not equal to E(X) / E(Y)\n",
    "4. E(XY) not equal to E(X)E(Y) unless they are independent\n",
    "5. E(aX) =. aE(X), a is constant\n",
    "6. E(aX+b) =. aE(X) + b, a and b are constants"
   ]
  },
  {
   "cell_type": "markdown",
   "metadata": {},
   "source": [
    "## Variance and standard Deviation\n",
    "\n",
    "### Variance : How spread out the data is , measured from the mean ( $\\mu$ ) : Variance is denoted as: $ \\sigma^2$\n",
    "Let X have pmf p(x), and expected value μ, then the variance of X, denoted V(X) (or $\\sigma_X^2$  or $\\sigma^2 $) is:\n",
    "\n",
    "## <center>$ V(X)  =   \n",
    "= E[(X-\\mu)^2]\n",
    "=\\sum(x-\\mu)^2.p(x)$<center>\n",
    "\n",
    "**Properties of Variance **:\n",
    "1. Var(constant) = 0\n",
    "2. If X and Y are two indepent random variable, then\n",
    "    Var(X+Y) =. Var(X) + Var(Y) and\n",
    "    Var(X-Y) =. Var(X) - Var(Y)\n",
    "3. If b is a constant then Var(b+X) = Var(X)\n",
    "4. If a is a constant then Var(aX) = a^2Var(X)\n",
    "5. If a and b are constant then Var(aX+b) = a^2Var(X), as Var(b) = 0\n",
    "6. If X and Y are two independent random variable and a and b are constants then Var(aX+bY) = a^2Var(X) +b^2Var(Y)\n",
    "\n",
    "\n",
    "### Standard deviation - It is the positive square root of variance. SD is denoted as: $ \\sigma$\n",
    "The standard deviation (SD) of X is :\n",
    "\n",
    "## <center>SD ($ \\sigma$) = $ \\sigma^2  = \\sqrt{\\sigma^2_x}$<center>\n",
    "\n",
    "**Note: When standard deviation is measured for the sample it is denoted as 's' & when measured for a population it is denoted as '$\\sigma$' **"
   ]
  },
  {
   "cell_type": "markdown",
   "metadata": {},
   "source": [
    "## Covariance:\n",
    "\n",
    "* In general covariance between two random variables can be positive or negative\n",
    "* **VVIP- If two random variabales move in the same direction, then the covariance will be positive , if they move in the opposite direction the covariance will be negative.**\n",
    "\n",
    "-- For two discrete random variables X and Y with E(X) = $μ_x$, and $μ_y$, the covariance between X and Y is defined as Cov(XY) = $\\sigma_{xy}$ \n",
    "\n",
    "## <center>$\\sigma_{xy} = E(X-μ_x)E(Y-μ_y) = E(XY)- μ_xμ_y$<center>\n",
    "\n",
    "Properties:\n",
    "1. If X and Y are independent random variables, their covariance is 0. Since E(X) ==E(X)E(Y)\n",
    "2. Cov(XX) = Var(X)\n",
    "3. Cov(YY) = Var(Y)"
   ]
  },
  {
   "cell_type": "markdown",
   "metadata": {},
   "source": [
    "## Correaltion coefficient: (Tells how strongly are variables related to each other)\n",
    "- the covariance tells the sign but not the magnitude about how strongly variables are positively or negatively related to each other. The correaltion coeffiecent provides us such information.\n",
    "- For two random variable X and Y with E(X) = $μ_x$ and E(Y) = $μ_y$,\n",
    "## <center>$ Correlation(X,Y) = ρ_{xy} =\\frac{Cov(XY)}{\\sigma_x\\sigma_y}$ = $\\frac{\\sigma_{xy}}{\\sigma_x\\sigma_y}$<center>"
   ]
  },
  {
   "cell_type": "markdown",
   "metadata": {},
   "source": [
    "### Slope of regression equation:\n",
    "\n",
    "### <center>$ m = \\frac{cov(x,y)}{var(x)} $<center>"
   ]
  },
  {
   "cell_type": "markdown",
   "metadata": {},
   "source": [
    "## CDF (Cumulative Distribution Function) \n",
    "- The CDF of an random variable X (defined as F(X)) is a graph associating all possible values , or the possible values wwith P(X<= x)\n",
    "- CDF always lie between 0 & 1 i.e $ 0 <= F(X_{i})<=1 $ , Where $ F(X_i) $ is teh CDF\n",
    "- F(X) is the CDF"
   ]
  },
  {
   "cell_type": "markdown",
   "metadata": {},
   "source": [
    "**Emperical distributions & properties**\n",
    "\n",
    "- **Discrete Distributions** PMF\n",
    "    - Binomial Distribution\n",
    "    - Possion Distribution\n",
    "    - Hypogeometric distribution\n",
    "    \n",
    "- **Continous Distribution** PDF\n",
    "    - Uniform Distribution\n",
    "    - Exponential Distribution\n",
    "    - Normal Distribution\n",
    "        - Z Distribution (Standardised Normal Distribution)"
   ]
  },
  {
   "cell_type": "markdown",
   "metadata": {},
   "source": [
    "# <center> Discrete Distribution <center>\n",
    "**For emperical distribution**\n"
   ]
  },
  {
   "cell_type": "markdown",
   "metadata": {},
   "source": [
    "## Requirements of discreate distributions :\n",
    "\n",
    "  - Probabilities are between 0 & 1 & sum of total probability eauals to 1"
   ]
  },
  {
   "cell_type": "markdown",
   "metadata": {},
   "source": [
    "## <center> *1. Binomial Distribution* <center>\n",
    "    \n",
    "* binomial distribution is applicable when selecting from a finite population with replacement or from an infinite population without replacement.\n",
    "\n",
    "\n",
    "### Probability Function\n",
    "<center>  $ P(X) = \\frac{n!}{X!(n-X)!}p^x q^{n-X} $ for 0<= X <= n \n",
    "which is nothing but $P(X) = nC_xp^x q^{n-X} $\n",
    "\n",
    "** *In python we use scipy library where function binom take 3 parameters i.e k = x, n = number of sample , p = probability of sucess * **\n",
    "\n",
    "**VVIP: If X is not defined we go for CDF , i.e find probabilty of less than 2**\n",
    "\n",
    "Mean Value (Mean of the distribution) : μ = n.p\n",
    "\n",
    "Variance and standard deviation: \n",
    "                                \n",
    "$ σ^2 = n.p.q $\n",
    "\n",
    "$ σ = \\sqrt{n.p.q} = \\sqrt{σ^2}$"
   ]
  },
  {
   "cell_type": "markdown",
   "metadata": {},
   "source": [
    "**Assumptions in Binomial Distribution **\n",
    "\n",
    "- Experiment involves n identical trails\n",
    "- Each trial has exactly two possible outcomes: sucess and failure\n",
    "- Each trial is independent of the previous trails\n",
    "- p is the probability of a sucess on any one trial\n",
    "- q = (1-p) is the probability of a failure on any one trial\n",
    "- p and q  are constant throuhout the experiment\n",
    "- X is the number of sucess in the n trails"
   ]
  },
  {
   "cell_type": "markdown",
   "metadata": {},
   "source": [
    "## <center> *2. Poisson Distribution* <center>\n",
    "\n",
    "** * This type of distribution is call Univariate distribution as because , mean is equal to variance, which is a unique parameter* **\n",
    "\n",
    "- Describes discrete occurances over a continuum or interval\n",
    "- A discrete distribution\n",
    "- Describes rare events\n",
    "- Each occurance is independent any other occurances\n",
    "- The number of occurances in each interval can vary from zero to infinity\n",
    "- The expected number of occurances must hold constant throughout the experiment \n",
    "\n",
    "Examples or Application of Poisson:\n",
    "\n",
    "Arrivals at queuing systems:\n",
    "- airpoty -- people, airplanes, automobiles , baggage\n",
    "- banks -- loan applications\n",
    "- read and write operations\n",
    "\n",
    "Defects in manufacturing goods:\n",
    "- number of defects per 1000 feet of extruded copper wire etc\n",
    "\n",
    "\n",
    "\n",
    "    \n",
    "## Probability Function:\n",
    "\n",
    "<center>  $ P(X) = \\frac{\\lambda^x e^{-\\lambda}}{X!}$ for X = 0,1,2,3....\n",
    "where:\n",
    "    \n",
    "    λ = long - run average (mean value)\n",
    "    e = 2.718282.. (the base of natural log)\n",
    "    \n",
    "    \n",
    "which is nothing but $P(X) = nC_xp^x q^{n-X} $\n",
    "    \n",
    "Mean Value (Mean of the distribution) : λ\n",
    "\n",
    "Variance : λ\n",
    "\n",
    "Standard deviation: $ \\sqrt{λ}$\n",
    "\n",
    "**Note: Unit of x and λ should be same , i.e if x is in minutes λ should also be same**"
   ]
  },
  {
   "cell_type": "markdown",
   "metadata": {},
   "source": [
    "## <center> *3. Hypergeometric Distribution* <center>\n",
    "    \n",
    "* It is applicable when selecting from a finite population without replacement\n",
    "Properties:\n",
    "- Sampling without replacement from a finite population\n",
    "- The number of objects in the populations is denoted N\n",
    "- Each trial has exactly two possible outcomes, sucess and failure\n",
    "- Trials are not independent, but in binomial it is independent.\n",
    "- X is the number of sucesses in the trails\n",
    "- The binomial is an acceptable approximation, if N/10>n, otherwise it is not\n",
    "\n",
    "Examples or Application of Poisson:\n",
    "\n",
    "\n",
    "    \n",
    "###  Probability Function: \n",
    "\n",
    "<center>  $ P(X) = \\frac{(AC_x)(N-AC_{n-x})}{nC_n}$ for X = 0,1,2,3....\n",
    "where:\n",
    "    \n",
    "    N = Population Size\n",
    "    n = Sample size\n",
    "    A = number of sucesses in population\n",
    "    x = no. of sucess in sample\n",
    "    \n",
    "\n",
    "Mean Value (Mean of the distribution) : $ \\mu = \\frac{A.n}{N} $\n",
    "\n",
    "Variance : $ \\sigma^2 = \\frac{A(n-A)n(N-n)}{N^2(N-1)} $\n",
    "\n",
    "Standard deviation: $ \\sqrt{\\sigma^2}$"
   ]
  },
  {
   "cell_type": "markdown",
   "metadata": {},
   "source": [
    "# <center> Continous Distribution <center>\n"
   ]
  },
  {
   "cell_type": "markdown",
   "metadata": {},
   "source": [
    "## <center> *1. Uniform Distribution* <center>\n",
    "\n",
    "- Uniform distribution has equal probabilities for all possible outcomes of the random variable\n",
    "\n",
    "- Because of its shape it is also called rectangular distribution\n",
    "\n",
    "### Mean : \n",
    "## $ \\mu = \\frac{a+b}{2} $\n",
    "\n",
    "### Standard deviation : \n",
    "## $ \\sigma = \\frac{b-a}{\\sqrt{12}} $"
   ]
  },
  {
   "cell_type": "markdown",
   "metadata": {},
   "source": [
    "## <center> *2. Exponential Probability Distribution* <center>\n",
    "\n",
    "- It is useful in describing the time it takes to complete a task\n",
    "\n",
    "- The exponential random variable can be used to describe:\n",
    "    - Time between vechicle arrivals at tool booth\n",
    "    - Time required to complete a questionaire\n",
    "    - Distance between major defects in a highway\n",
    "    \n",
    "- For exponential distribution we mainly use cumulative probabilities:\n",
    "\n",
    "$ P(x<=x_0) = 1 - e^{-x_0/\\mu} $\n",
    "where x0 = some specific value of x\n",
    "\n",
    "### Mean : \n",
    "## $ \\mu = \\frac{a+b}{2} $\n",
    "\n",
    "### Standard deviation : \n",
    "## $ \\sigma = \\frac{b-a}{\\sqrt{12}} $"
   ]
  },
  {
   "cell_type": "markdown",
   "metadata": {},
   "source": [
    "## Relationship between Posisson & Exponential distribution:\n",
    "\n",
    "**1st :**\n",
    "\n",
    "1. The poisson distribution provides an appropriate description of the number of occurances per interval\n",
    "\n",
    "2. Exponential distribution provides an appropriate description of the length of the interval between occurances \n",
    "\n",
    "**2nd:**\n",
    "\n",
    "Generally μ - mean for poisson distribution & 1/μ = mean for exponential distribution"
   ]
  },
  {
   "cell_type": "markdown",
   "metadata": {},
   "source": [
    "## <center> *3. Normal Distribution* <center>\n",
    "\n",
    "- Bell shaped\n",
    "- Symmetrical\n",
    "- Father of all distribution, if any general/ natural phenomenon is happening we can assume it falls under normal distribution\n",
    "- Mean, Meadin & Mode are equal\n",
    "- Location is characterised by mean\n",
    "- Spread is characterised by standard deviation\n",
    "- The random variable has an infinite theoritical range: -x to +x\n",
    "- for various values of sigma i.e std deviation curvature of bell curve changes, spread is changed\n",
    "\n",
    "\n",
    "\n",
    "## Density Density function : \n",
    "\n",
    "## <center>$ f(x) = \\frac{1}{\\sqrt{2\\pi\\sigma}}e^{-\\frac{1}{2}(\\frac{(X-\\mu)}{\\sigma})^2}$<center>\n",
    "\n",
    "where:\n",
    "                                \n",
    "      e = the mathematical constant approximated by 2.71828\n",
    "      π = pi which is constant approximated by 3.14 \n",
    "      μ = the population mean\n",
    "      σ = population standard deviation\n",
    "      X = any value of the continous variable\n",
    "\n",
    "### Mean : \n",
    "## $ \\mu = \\frac{a+b}{2} $\n",
    "\n",
    "### Standard deviation : \n",
    "## $ \\sigma = \\frac{b-a}{\\sqrt{12}} $"
   ]
  },
  {
   "cell_type": "markdown",
   "metadata": {},
   "source": [
    "## Standardise Normal distribution: (Z Distribution):\n",
    "\n",
    "Properties:\n",
    "-  Mean is 0\n",
    "- Normal distribution is converted into Z distribution for simplicity\n",
    "\n",
    "- Standard deviation 1\n",
    "- Values above mean has positive Z values and values below have negative Z values\n",
    "\n",
    "- Any normal distributions (with any mean and standard deviation combination) can be transformed into standardized nromal distribution (z)\n",
    "- Need to transform X units into Z units\n",
    "- The standardised normal distribution has a mean of 0 and a standrd deviation of 1\n",
    "\n",
    "** Z transformation **\n",
    "- That translates from X to the standardised normal(the Z distribution) by substracting the mean of X and dividing by its standrd deviation:\n",
    "\n",
    "## $ Z = \\frac{X - \\mu}{\\sigma}$\n",
    "\n",
    "**Probability density function for Standardised normal distribution **\n",
    "\n",
    "### $ f(Z) = \\frac{1}{\\sqrt{2\\pi}}e^{\\frac{Z^2}{2}} $\n",
    "\n",
    "where :\n",
    "    \n",
    "        e = 2.718\n",
    "        Z = any value of the standardised normal distribution "
   ]
  },
  {
   "cell_type": "markdown",
   "metadata": {},
   "source": [
    "## Procedure of finding normal probability \n",
    "- to find P(a < X< b) when X is normally distributed:\n",
    "       \n",
    "       * Draw the normal curve for the problem in terms of X\n",
    "       * Translate X-values to Z -values\n",
    "       * Use standrdosed normal table"
   ]
  },
  {
   "cell_type": "markdown",
   "metadata": {},
   "source": [
    "## Assesing Normality: How to check if your data follows normal distribution ?\n",
    "\n",
    "- It is important to evaluate how well the data set is approximated by a normal distribution\n",
    "- Normally distributed data should approximate the theoretical normal distribution:\n",
    "        - the normal distribution is bell shaped (symmetrical) where the mean is equal to the median\n",
    "        - the empirical rule applies to the normal distribution\n",
    "        - the IQR of normal distribution is 1.33 standard deviation\n",
    "- Construct charts or graph . i.e plotting data\n",
    "        - for small or moderate sized data set do stem and leaf display & box & whisker plot to and check if it looks symmetrical\n",
    "        - for large data sets, do histogram or polygon apperar bell shaped & check for symmetry .\n",
    "- Compute descriptive summary measure :\n",
    "        - Do the mean median & mode have similar values\n",
    "        - Is the IQR range approximatly 1.33σ ?\n",
    "        - Is the range approximate to 6σ\n",
    "        - Find skewness  \n",
    "- Observe the data set:\n",
    "        - Do approximately 2/3 of the data obseration lie within +- standard deivation ? i.e (+-)σ\n",
    "        - Do approximately 80% of the observation lie within mean +- 1.28 standrd deviations?\n",
    "        - Do approximately 95% of the observation lie within mean +-2 standard deviation ?\n",
    "   "
   ]
  },
  {
   "cell_type": "code",
   "execution_count": null,
   "metadata": {},
   "outputs": [],
   "source": []
  },
  {
   "cell_type": "code",
   "execution_count": null,
   "metadata": {},
   "outputs": [],
   "source": []
  },
  {
   "cell_type": "code",
   "execution_count": null,
   "metadata": {},
   "outputs": [],
   "source": []
  }
 ],
 "metadata": {
  "kernelspec": {
   "display_name": "Python 3",
   "language": "python",
   "name": "python3"
  },
  "language_info": {
   "codemirror_mode": {
    "name": "ipython",
    "version": 3
   },
   "file_extension": ".py",
   "mimetype": "text/x-python",
   "name": "python",
   "nbconvert_exporter": "python",
   "pygments_lexer": "ipython3",
   "version": "3.6.5"
  }
 },
 "nbformat": 4,
 "nbformat_minor": 2
}
