{
 "cells": [
  {
   "cell_type": "markdown",
   "metadata": {},
   "source": [
    "<h1><center>Central Tendency </center></h1>\n",
    "Measure of central tendency yeild information about places or group of location eg - mean OR single number describing the spead of data"
   ]
  },
  {
   "cell_type": "markdown",
   "metadata": {},
   "source": [
    "# Basics - \n",
    "\n",
    "What is Data ? \n",
    "\n",
    "    Records / entry fo values that can be structred or unstructred\n",
    "\n",
    "## Types of Data-\n",
    "### 1.  Numerical Data (Also known as Quantitative Data)\n",
    "\n",
    "Numerical data are something that we measure or count such as weight, volume , time etc\n",
    "\n",
    "### Types -\n",
    "    \n",
    "    * Discrete - Countable data. Can take specific value in specific range . Eg - Tossing a coin, size of shoes of babies (shoes size cant be 9)\n",
    "    \n",
    "    * Continous - What we measure. It can take any value in an given range. Eg - height of people\n",
    "\n",
    "\n",
    "### 2. Categorical Data - (Also known as Qualitative Data)\n",
    "\n",
    "Categorical data is a collection of information that is divided into groups. I.e, if an organisation or agency is trying to get a biodata of its employees, the resulting data is referred to as categorical. This data is called categorical because it may be grouped according to the variables present in the biodata such as sex, state of residence, etc.\n",
    "\n",
    "### Types  - \n",
    "\n",
    "    * Nominal Data - There is no relationship between datas .Nominal data is sometimes called “labelled” or “named” data. Examples of nominal data include name, hair colour, sex, Employee ID , Pincodes\n",
    "    \n",
    "    * Ordinal Data - There is an order & relationship.Ordinal data is a kind of categorical data with a set order or scale to it. For example, ordinal data is said to have been collected when a responder inputs his/her financial happiness level on a scale of 1-10. Eg - Mutual funds Risks i.e AAA, AA, Fortune 50 ranks etc "
   ]
  },
  {
   "cell_type": "markdown",
   "metadata": {},
   "source": [
    "## Types of Central Tendencies \n",
    "* Arithmetic Mean or commonly known as Mean\n",
    "* Weighted Mean \n",
    "* mean,median & mode\n",
    "* percentile"
   ]
  },
  {
   "cell_type": "markdown",
   "metadata": {},
   "source": [
    "###  <center>Loading dataset<center>  "
   ]
  },
  {
   "cell_type": "code",
   "execution_count": 49,
   "metadata": {},
   "outputs": [],
   "source": [
    "### Importing libraries \n",
    "import pandas as pd \n",
    "import numpy as np\n",
    "from scipy import stats"
   ]
  },
  {
   "cell_type": "code",
   "execution_count": 84,
   "metadata": {
    "scrolled": true
   },
   "outputs": [
    {
     "data": {
      "text/html": [
       "<div>\n",
       "<style scoped>\n",
       "    .dataframe tbody tr th:only-of-type {\n",
       "        vertical-align: middle;\n",
       "    }\n",
       "\n",
       "    .dataframe tbody tr th {\n",
       "        vertical-align: top;\n",
       "    }\n",
       "\n",
       "    .dataframe thead th {\n",
       "        text-align: right;\n",
       "    }\n",
       "</style>\n",
       "<table border=\"1\" class=\"dataframe\">\n",
       "  <thead>\n",
       "    <tr style=\"text-align: right;\">\n",
       "      <th></th>\n",
       "      <th>Gender</th>\n",
       "      <th>Height</th>\n",
       "      <th>Weight</th>\n",
       "    </tr>\n",
       "  </thead>\n",
       "  <tbody>\n",
       "    <tr>\n",
       "      <th>0</th>\n",
       "      <td>Male</td>\n",
       "      <td>73.847017</td>\n",
       "      <td>241.893563</td>\n",
       "    </tr>\n",
       "    <tr>\n",
       "      <th>1</th>\n",
       "      <td>Male</td>\n",
       "      <td>68.781904</td>\n",
       "      <td>162.310473</td>\n",
       "    </tr>\n",
       "    <tr>\n",
       "      <th>2</th>\n",
       "      <td>Male</td>\n",
       "      <td>74.110105</td>\n",
       "      <td>212.740856</td>\n",
       "    </tr>\n",
       "    <tr>\n",
       "      <th>3</th>\n",
       "      <td>Male</td>\n",
       "      <td>71.730978</td>\n",
       "      <td>220.042470</td>\n",
       "    </tr>\n",
       "    <tr>\n",
       "      <th>4</th>\n",
       "      <td>Male</td>\n",
       "      <td>69.881796</td>\n",
       "      <td>206.349801</td>\n",
       "    </tr>\n",
       "    <tr>\n",
       "      <th>5</th>\n",
       "      <td>Male</td>\n",
       "      <td>67.253016</td>\n",
       "      <td>152.212156</td>\n",
       "    </tr>\n",
       "    <tr>\n",
       "      <th>6</th>\n",
       "      <td>Male</td>\n",
       "      <td>68.785081</td>\n",
       "      <td>183.927889</td>\n",
       "    </tr>\n",
       "    <tr>\n",
       "      <th>7</th>\n",
       "      <td>Male</td>\n",
       "      <td>68.348516</td>\n",
       "      <td>167.971110</td>\n",
       "    </tr>\n",
       "    <tr>\n",
       "      <th>8</th>\n",
       "      <td>Male</td>\n",
       "      <td>67.018950</td>\n",
       "      <td>175.929440</td>\n",
       "    </tr>\n",
       "    <tr>\n",
       "      <th>9</th>\n",
       "      <td>Male</td>\n",
       "      <td>63.456494</td>\n",
       "      <td>156.399676</td>\n",
       "    </tr>\n",
       "  </tbody>\n",
       "</table>\n",
       "</div>"
      ],
      "text/plain": [
       "  Gender     Height      Weight\n",
       "0   Male  73.847017  241.893563\n",
       "1   Male  68.781904  162.310473\n",
       "2   Male  74.110105  212.740856\n",
       "3   Male  71.730978  220.042470\n",
       "4   Male  69.881796  206.349801\n",
       "5   Male  67.253016  152.212156\n",
       "6   Male  68.785081  183.927889\n",
       "7   Male  68.348516  167.971110\n",
       "8   Male  67.018950  175.929440\n",
       "9   Male  63.456494  156.399676"
      ]
     },
     "execution_count": 84,
     "metadata": {},
     "output_type": "execute_result"
    }
   ],
   "source": [
    "## Importing data set - students marks dataset:\n",
    "path_to_file = \"data_stat/datasets_weight_height.csv\"\n",
    "df = pd.read_csv(path_to_file)\n",
    "df.head(10) ## prints 10 rows of dataset/dataframe"
   ]
  },
  {
   "cell_type": "code",
   "execution_count": 14,
   "metadata": {},
   "outputs": [
    {
     "data": {
      "text/plain": [
       "10000"
      ]
     },
     "execution_count": 14,
     "metadata": {},
     "output_type": "execute_result"
    }
   ],
   "source": [
    "## Total rows in dataset\n",
    "len(df)"
   ]
  },
  {
   "cell_type": "code",
   "execution_count": 87,
   "metadata": {},
   "outputs": [
    {
     "data": {
      "text/plain": [
       "['Gender', 'Height', 'Weight']"
      ]
     },
     "execution_count": 87,
     "metadata": {},
     "output_type": "execute_result"
    }
   ],
   "source": [
    "## Columns in df\n",
    "list(df.columns)"
   ]
  },
  {
   "cell_type": "markdown",
   "metadata": {},
   "source": [
    "## 1. Arithmetic Mean or commonly known as Mean $ \\mu $ (mu)\n",
    "\n",
    "- Average of group of numbers\n",
    "- Applicable for interval & ratio data\n",
    "- Not applicable for nominal or ordinal data (categorical data)\n",
    "- Affected by each value in the data set, including extreme values \n",
    "- Computed by summing all values in the data set divided by count of values in dataset (μ)"
   ]
  },
  {
   "cell_type": "code",
   "execution_count": 4,
   "metadata": {},
   "outputs": [
    {
     "name": "stdout",
     "output_type": "stream",
     "text": [
      "3.0\n"
     ]
    }
   ],
   "source": [
    "## example , x contains list of numbers\n",
    "x = [1,2,3,4,5]\n",
    "mean = sum(x)/len(x)\n",
    "print(mean)"
   ]
  },
  {
   "cell_type": "markdown",
   "metadata": {},
   "source": [
    "#### On marks data "
   ]
  },
  {
   "cell_type": "code",
   "execution_count": 31,
   "metadata": {},
   "outputs": [
    {
     "name": "stdout",
     "output_type": "stream",
     "text": [
      "mean Height of students: 66.36755975482106\n",
      "mean Weight of students: 161.44035683283076\n"
     ]
    }
   ],
   "source": [
    "## On marks data \n",
    "print(f'mean Height of students: {np.mean(df.Height)}')\n",
    "print(f'mean Weight of students: {np.mean(df.Weight)}')"
   ]
  },
  {
   "cell_type": "markdown",
   "metadata": {},
   "source": [
    "### 1.1. Mean of grouped data - \n",
    "- Grouped mean is sum of all grouped frequency mean by sum of group frequency \n",
    "- Frequency mean is group frequency * Group mean\n",
    "- weighted average of class midpoint \n",
    "- class frequency are the weights "
   ]
  },
  {
   "cell_type": "code",
   "execution_count": 5,
   "metadata": {},
   "outputs": [],
   "source": [
    "## example \n",
    "standard = ['class 1', 'class 2', 'class 3', 'class 4', 'class 5']\n",
    "num_students = [23,34,24,47,52] \n",
    "mean_marks_obtained = [23,24,32,44,45]"
   ]
  },
  {
   "cell_type": "code",
   "execution_count": 24,
   "metadata": {},
   "outputs": [],
   "source": [
    "## creating a dataframe of students in a class\n",
    "import pandas as pd\n",
    "class_data = pd.DataFrame(columns=['standard','num_students','mean_marks_obtained'])\n",
    "class_data['standard'] = standard \n",
    "class_data['num_students'] = num_students \n",
    "class_data['mean_marks_obtained'] = mean_marks_obtained "
   ]
  },
  {
   "cell_type": "code",
   "execution_count": 26,
   "metadata": {},
   "outputs": [
    {
     "data": {
      "text/html": [
       "<div>\n",
       "<style scoped>\n",
       "    .dataframe tbody tr th:only-of-type {\n",
       "        vertical-align: middle;\n",
       "    }\n",
       "\n",
       "    .dataframe tbody tr th {\n",
       "        vertical-align: top;\n",
       "    }\n",
       "\n",
       "    .dataframe thead th {\n",
       "        text-align: right;\n",
       "    }\n",
       "</style>\n",
       "<table border=\"1\" class=\"dataframe\">\n",
       "  <thead>\n",
       "    <tr style=\"text-align: right;\">\n",
       "      <th></th>\n",
       "      <th>standard</th>\n",
       "      <th>num_students</th>\n",
       "      <th>mean_marks_obtained</th>\n",
       "      <th>Frequency_midpoint</th>\n",
       "    </tr>\n",
       "  </thead>\n",
       "  <tbody>\n",
       "    <tr>\n",
       "      <th>0</th>\n",
       "      <td>class 1</td>\n",
       "      <td>23</td>\n",
       "      <td>23</td>\n",
       "      <td>529</td>\n",
       "    </tr>\n",
       "    <tr>\n",
       "      <th>1</th>\n",
       "      <td>class 2</td>\n",
       "      <td>34</td>\n",
       "      <td>24</td>\n",
       "      <td>816</td>\n",
       "    </tr>\n",
       "    <tr>\n",
       "      <th>2</th>\n",
       "      <td>class 3</td>\n",
       "      <td>24</td>\n",
       "      <td>32</td>\n",
       "      <td>768</td>\n",
       "    </tr>\n",
       "    <tr>\n",
       "      <th>3</th>\n",
       "      <td>class 4</td>\n",
       "      <td>47</td>\n",
       "      <td>44</td>\n",
       "      <td>2068</td>\n",
       "    </tr>\n",
       "    <tr>\n",
       "      <th>4</th>\n",
       "      <td>class 5</td>\n",
       "      <td>52</td>\n",
       "      <td>45</td>\n",
       "      <td>2340</td>\n",
       "    </tr>\n",
       "  </tbody>\n",
       "</table>\n",
       "</div>"
      ],
      "text/plain": [
       "  standard  num_students  mean_marks_obtained  Frequency_midpoint\n",
       "0  class 1            23                   23                 529\n",
       "1  class 2            34                   24                 816\n",
       "2  class 3            24                   32                 768\n",
       "3  class 4            47                   44                2068\n",
       "4  class 5            52                   45                2340"
      ]
     },
     "execution_count": 26,
     "metadata": {},
     "output_type": "execute_result"
    }
   ],
   "source": [
    "class_data"
   ]
  },
  {
   "cell_type": "code",
   "execution_count": 33,
   "metadata": {},
   "outputs": [
    {
     "data": {
      "text/html": [
       "<div>\n",
       "<style scoped>\n",
       "    .dataframe tbody tr th:only-of-type {\n",
       "        vertical-align: middle;\n",
       "    }\n",
       "\n",
       "    .dataframe tbody tr th {\n",
       "        vertical-align: top;\n",
       "    }\n",
       "\n",
       "    .dataframe thead th {\n",
       "        text-align: right;\n",
       "    }\n",
       "</style>\n",
       "<table border=\"1\" class=\"dataframe\">\n",
       "  <thead>\n",
       "    <tr style=\"text-align: right;\">\n",
       "      <th></th>\n",
       "      <th>standard</th>\n",
       "      <th>num_students</th>\n",
       "      <th>mean_marks_obtained</th>\n",
       "      <th>Frequency_midpoint</th>\n",
       "    </tr>\n",
       "  </thead>\n",
       "  <tbody>\n",
       "    <tr>\n",
       "      <th>0</th>\n",
       "      <td>class 1</td>\n",
       "      <td>23</td>\n",
       "      <td>23</td>\n",
       "      <td>529</td>\n",
       "    </tr>\n",
       "    <tr>\n",
       "      <th>1</th>\n",
       "      <td>class 2</td>\n",
       "      <td>34</td>\n",
       "      <td>24</td>\n",
       "      <td>816</td>\n",
       "    </tr>\n",
       "    <tr>\n",
       "      <th>2</th>\n",
       "      <td>class 3</td>\n",
       "      <td>24</td>\n",
       "      <td>32</td>\n",
       "      <td>768</td>\n",
       "    </tr>\n",
       "    <tr>\n",
       "      <th>3</th>\n",
       "      <td>class 4</td>\n",
       "      <td>47</td>\n",
       "      <td>44</td>\n",
       "      <td>2068</td>\n",
       "    </tr>\n",
       "    <tr>\n",
       "      <th>4</th>\n",
       "      <td>class 5</td>\n",
       "      <td>52</td>\n",
       "      <td>45</td>\n",
       "      <td>2340</td>\n",
       "    </tr>\n",
       "  </tbody>\n",
       "</table>\n",
       "</div>"
      ],
      "text/plain": [
       "  standard  num_students  mean_marks_obtained  Frequency_midpoint\n",
       "0  class 1            23                   23                 529\n",
       "1  class 2            34                   24                 816\n",
       "2  class 3            24                   32                 768\n",
       "3  class 4            47                   44                2068\n",
       "4  class 5            52                   45                2340"
      ]
     },
     "execution_count": 33,
     "metadata": {},
     "output_type": "execute_result"
    }
   ],
   "source": [
    "class_data['Frequency_midpoint'] = class_data['num_students']*class_data['mean_marks_obtained']\n",
    "class_data"
   ]
  },
  {
   "cell_type": "code",
   "execution_count": 31,
   "metadata": {},
   "outputs": [
    {
     "name": "stdout",
     "output_type": "stream",
     "text": [
      "36.227777777777774\n"
     ]
    }
   ],
   "source": [
    "## Grouped mean is sum of frequency mean by sum of groupfrequency \n",
    "grouped_mean = sum(class_data.Frequency_midpoint)/sum(class_data.num_students)\n",
    "print(weighted_mean)"
   ]
  },
  {
   "cell_type": "markdown",
   "metadata": {},
   "source": [
    "### 1.2. Weighted Average\n",
    "- Averaging numbers, but we want to assign more\n",
    "- Assigning importance to some numbers \n",
    "- $Weighted Average = \\frac{\\sum{xw}}{\\sum{w}}$\n",
    "- Weighted average = (Sum of w (weight) * value) /  weights"
   ]
  },
  {
   "cell_type": "markdown",
   "metadata": {},
   "source": [
    "Q. Suppose your midterm test score is 83 and your final exam score is 95. Using weights 40 % for midterm and 60% for the final exam, COmpute the weighted average of your score. If the minimum average for an A is 90, will you earn an A?"
   ]
  },
  {
   "cell_type": "code",
   "execution_count": 35,
   "metadata": {},
   "outputs": [
    {
     "data": {
      "text/plain": [
       "90.2"
      ]
     },
     "execution_count": 35,
     "metadata": {},
     "output_type": "execute_result"
    }
   ],
   "source": [
    "weighted_avg = (83*0.40 + 95*0.60)/ (0.4+0.6)\n",
    "weighted_avg\n"
   ]
  },
  {
   "cell_type": "markdown",
   "metadata": {},
   "source": [
    "## 2. Median\n",
    "- Middle value in an ordered array of numbers\n",
    "- Applicable for ordinal, interval & ratio data\n",
    "- not applicable for nominal data \n",
    "- Unaffected by extremely large and extremely small values"
   ]
  },
  {
   "cell_type": "markdown",
   "metadata": {},
   "source": [
    "### Compute Median \n",
    "Can be done in two ways - \n",
    "First Way - \n",
    "- arrange the obseravtion in an ordered array \n",
    "- if there is an odd number of terms (odd len of values) the median is the middle term of the ordered array\n",
    "- If there is an even number of terms the median is the average of the middle two terms\n",
    "\n",
    "Second Way - \n",
    "- The medians position is an ordered array is given by:\n",
    "$median = \\frac{n+1}{2}$ "
   ]
  },
  {
   "cell_type": "markdown",
   "metadata": {},
   "source": [
    "### With odd number of terms:"
   ]
  },
  {
   "cell_type": "code",
   "execution_count": 37,
   "metadata": {},
   "outputs": [],
   "source": [
    "lis_num = [2,11,23,121,11,45,34,22,44,1,2,3,5]"
   ]
  },
  {
   "cell_type": "code",
   "execution_count": 57,
   "metadata": {},
   "outputs": [
    {
     "name": "stdout",
     "output_type": "stream",
     "text": [
      "[1, 2, 2, 3, 5, 11, 11, 22, 22, 23, 34, 44, 45, 121, 200, 311]\n",
      "length is: 16\n"
     ]
    }
   ],
   "source": [
    "## Sortting the list\n",
    "lis_num.sort()\n",
    "print(lis_num)\n",
    "print(f'length is: {len(lis_num)}')"
   ]
  },
  {
   "cell_type": "code",
   "execution_count": 58,
   "metadata": {},
   "outputs": [
    {
     "data": {
      "text/plain": [
       "8"
      ]
     },
     "execution_count": 58,
     "metadata": {},
     "output_type": "execute_result"
    }
   ],
   "source": [
    "# so there are 13 terms\n",
    "median_pos = int((len(lis_num)+1)/2)\n",
    "median_pos"
   ]
  },
  {
   "cell_type": "code",
   "execution_count": 59,
   "metadata": {},
   "outputs": [
    {
     "data": {
      "text/plain": [
       "22"
      ]
     },
     "execution_count": 59,
     "metadata": {},
     "output_type": "execute_result"
    }
   ],
   "source": [
    "lis_num[median_pos]"
   ]
  },
  {
   "cell_type": "markdown",
   "metadata": {},
   "source": [
    "### With even number of terms:"
   ]
  },
  {
   "cell_type": "code",
   "execution_count": 60,
   "metadata": {},
   "outputs": [],
   "source": [
    "lis_num = [2,11,23,121,11,45,34,22,44,1,2,3,5,200,311,22]"
   ]
  },
  {
   "cell_type": "code",
   "execution_count": 61,
   "metadata": {},
   "outputs": [
    {
     "name": "stdout",
     "output_type": "stream",
     "text": [
      "[1, 2, 2, 3, 5, 11, 11, 22, 22, 23, 34, 44, 45, 121, 200, 311]\n",
      "length is: 16\n"
     ]
    }
   ],
   "source": [
    "## Sortting the list\n",
    "lis_num.sort()\n",
    "print(lis_num)\n",
    "print(f'length is: {len(lis_num)}')"
   ]
  },
  {
   "cell_type": "code",
   "execution_count": 62,
   "metadata": {},
   "outputs": [
    {
     "data": {
      "text/plain": [
       "8.5"
      ]
     },
     "execution_count": 62,
     "metadata": {},
     "output_type": "execute_result"
    }
   ],
   "source": [
    "# so there are 13 terms\n",
    "median_pos = (len(lis_num)+1)/2\n",
    "median_pos"
   ]
  },
  {
   "cell_type": "code",
   "execution_count": 64,
   "metadata": {},
   "outputs": [
    {
     "data": {
      "text/plain": [
       "22.5"
      ]
     },
     "execution_count": 64,
     "metadata": {},
     "output_type": "execute_result"
    }
   ],
   "source": [
    "## The median is between 8 th term & 9th term , which is nothing but the average of two values:\n",
    "median_eve = (lis_num[8]+lis_num[9])/2\n",
    "median_eve"
   ]
  },
  {
   "cell_type": "markdown",
   "metadata": {},
   "source": [
    "### <center>On marks data<center> "
   ]
  },
  {
   "cell_type": "code",
   "execution_count": 33,
   "metadata": {},
   "outputs": [
    {
     "name": "stdout",
     "output_type": "stream",
     "text": [
      "mean Height of students: 66.31807008178465\n",
      "mean Weight of students: 161.212927699483\n"
     ]
    }
   ],
   "source": [
    "## On marks data \n",
    "print(f'Median Height of students: {np.median(df.Height)}')\n",
    "print(f'Median Weight of students: {np.median(df.Weight)}')"
   ]
  },
  {
   "cell_type": "markdown",
   "metadata": {},
   "source": [
    "### Median of grouped data "
   ]
  },
  {
   "cell_type": "code",
   "execution_count": 37,
   "metadata": {
    "scrolled": true
   },
   "outputs": [
    {
     "data": {
      "text/plain": [
       "array(['Male', 'Female'], dtype=object)"
      ]
     },
     "execution_count": 37,
     "metadata": {},
     "output_type": "execute_result"
    }
   ],
   "source": [
    "## Get uniques categories :\n",
    "df.Gender.unique()"
   ]
  },
  {
   "cell_type": "code",
   "execution_count": 39,
   "metadata": {},
   "outputs": [],
   "source": [
    "## Creating male data & Female data sepeartly:\n",
    "df_male = df[df['Gender']=='Male']\n",
    "df_female = df[df['Gender']=='Female']"
   ]
  },
  {
   "cell_type": "code",
   "execution_count": 48,
   "metadata": {},
   "outputs": [
    {
     "name": "stdout",
     "output_type": "stream",
     "text": [
      "Median Male students Height = 69.02770850939555 & Weight = 187.033546088862\n",
      "Median Female students Height = 63.7309238591475 & Weight = 136.11758297008498\n"
     ]
    }
   ],
   "source": [
    "## Median Weights of male & female\n",
    "\n",
    "## On marks data \n",
    "print(f'Median Male students Height = {np.median(df_male.Height)} & Weight = {np.median(df_male.Weight)}')\n",
    "print(f'Median Female students Height = {np.median(df_female.Height)} & Weight = {np.median(df_female.Weight)}')\n",
    "## Hence Weights & Height of male are greater than female"
   ]
  },
  {
   "cell_type": "markdown",
   "metadata": {},
   "source": [
    "## 3. Mode\n",
    "- The most frequently occurung value in a dataset\n",
    "- Applicable to all levels of data measurement (nominal, oridnal,interval & ratio)\n",
    "- Bimodal -- Data sets that have two modes\n",
    "- Multimodal -- Data sets that contain more than two modes"
   ]
  },
  {
   "cell_type": "code",
   "execution_count": 88,
   "metadata": {},
   "outputs": [],
   "source": [
    "num_lis = [1,2,2,3,5,6,73,2,4]\n",
    "\n",
    "def mode(numbers):\n",
    "    dic = {}\n",
    "    for num in numbers:\n",
    "    #     print(num)\n",
    "        dic[num]=numbers.count(num)\n",
    "    return dic"
   ]
  },
  {
   "cell_type": "code",
   "execution_count": 93,
   "metadata": {},
   "outputs": [
    {
     "data": {
      "text/plain": [
       "{1: 1, 2: 3, 3: 1, 5: 1, 6: 1, 73: 1, 4: 1}"
      ]
     },
     "execution_count": 93,
     "metadata": {},
     "output_type": "execute_result"
    }
   ],
   "source": [
    "dic = mode(num_lis)\n",
    "dic"
   ]
  },
  {
   "cell_type": "markdown",
   "metadata": {},
   "source": [
    "### 3.1. Mode of a grouped data\n",
    "- Find midpoint of mode class\n",
    "- modal class has the greastest frequency\n",
    "$ Mode(grouped) = L+[{\\frac{d1}{d1+d2}]*w}$\n",
    "\n",
    "L = lower limit of mode interval i.e max frequency of class interval \n",
    "d1 = difference between lower class interval & by previous frequency of lower limit of a class\n",
    "d2 = difference between upper class interval by next frequency of upper milt of a classs\n",
    "w = width of class \n"
   ]
  },
  {
   "cell_type": "code",
   "execution_count": 138,
   "metadata": {},
   "outputs": [
    {
     "data": {
      "text/html": [
       "<div>\n",
       "<style scoped>\n",
       "    .dataframe tbody tr th:only-of-type {\n",
       "        vertical-align: middle;\n",
       "    }\n",
       "\n",
       "    .dataframe tbody tr th {\n",
       "        vertical-align: top;\n",
       "    }\n",
       "\n",
       "    .dataframe thead th {\n",
       "        text-align: right;\n",
       "    }\n",
       "</style>\n",
       "<table border=\"1\" class=\"dataframe\">\n",
       "  <thead>\n",
       "    <tr style=\"text-align: right;\">\n",
       "      <th></th>\n",
       "      <th>class interval</th>\n",
       "      <th>frequency</th>\n",
       "    </tr>\n",
       "  </thead>\n",
       "  <tbody>\n",
       "    <tr>\n",
       "      <th>0</th>\n",
       "      <td>20-under 30</td>\n",
       "      <td>3</td>\n",
       "    </tr>\n",
       "    <tr>\n",
       "      <th>1</th>\n",
       "      <td>30-under 40</td>\n",
       "      <td>10</td>\n",
       "    </tr>\n",
       "    <tr>\n",
       "      <th>2</th>\n",
       "      <td>40-under 50</td>\n",
       "      <td>7</td>\n",
       "    </tr>\n",
       "  </tbody>\n",
       "</table>\n",
       "</div>"
      ],
      "text/plain": [
       "  class interval  frequency\n",
       "0    20-under 30          3\n",
       "1    30-under 40         10\n",
       "2    40-under 50          7"
      ]
     },
     "execution_count": 138,
     "metadata": {},
     "output_type": "execute_result"
    }
   ],
   "source": [
    "# initialize list of lists \n",
    "data = [['20-under 30', 3], ['30-under 40', 10], ['40-under 50', 7]] \n",
    "  \n",
    "# Create the pandas DataFrame \n",
    "df = pd.DataFrame(data, columns = ['class interval', 'frequency']) \n",
    "  \n",
    "# print dataframe. \n",
    "df "
   ]
  },
  {
   "cell_type": "code",
   "execution_count": 139,
   "metadata": {},
   "outputs": [
    {
     "data": {
      "text/plain": [
       "37.0"
      ]
     },
     "execution_count": 139,
     "metadata": {},
     "output_type": "execute_result"
    }
   ],
   "source": [
    "## w = here class interval is 10 \n",
    "## l = lower limit of model class is 30\n",
    "## d1 = 10 -3\n",
    "## d2 = 10 - 7\n",
    "mode = 30 + (7/(7+3))*10\n",
    "mode"
   ]
  },
  {
   "cell_type": "markdown",
   "metadata": {},
   "source": [
    "### <center>On marks data<center> "
   ]
  },
  {
   "cell_type": "code",
   "execution_count": 62,
   "metadata": {},
   "outputs": [
    {
     "name": "stdout",
     "output_type": "stream",
     "text": [
      "Mode students Height = [54.26313333] & Weight = [64.70012671]\n"
     ]
    }
   ],
   "source": [
    "## Students Data\n",
    "\n",
    "## On marks data \n",
    "print(f'Mode students Height = {stats.mode(df.Height)[0]} & Weight = {stats.mode(df.Weight)[0]}')\n"
   ]
  },
  {
   "cell_type": "code",
   "execution_count": 58,
   "metadata": {},
   "outputs": [
    {
     "name": "stdout",
     "output_type": "stream",
     "text": [
      "Mode Male students Height = [58.40690493] & Weight = [112.90293945]\n",
      "Mode Female students Height = [54.26313333] & Weight = [64.70012671]\n"
     ]
    }
   ],
   "source": [
    "## Grouped Data\n",
    "\n",
    "## On marks data \n",
    "print(f'Mode Male students Height = {stats.mode(df_male.Height)[0]} & Weight = {stats.mode(df_male.Weight)[0]}')\n",
    "print(f'Mode Female students Height = {stats.mode(df_female.Height)[0]} & Weight = {stats.mode(df_female.Weight)[0]}')\n",
    "## Hence Weights & Height of male are greater than female"
   ]
  },
  {
   "cell_type": "markdown",
   "metadata": {},
   "source": [
    "### Percentile \n",
    "- Measure of central tendency that divide a group of data in 100 parts \n",
    "- Eg - 90% percentile incdicates that at most 90% of the data lie below it and atleast 1- of the data lie above it\n",
    "- the median & the 50th percentile have the same value\n",
    "- Applicable for ordinal , interval & ratio data\n",
    "- Not applicable for nominal data\n",
    "\n",
    "#### Computing percentile \n",
    "- oprganise the data into an ascending ordered array\n",
    "- calculate the  pth percentile location:\n",
    "\n",
    "##      $i = \\frac{P}{100}*n$\n",
    "\n",
    "- Determine the percentile location 7 value\n",
    "- if i is a whole number, the percentile is the average of the values at the i & (i+1) position\n",
    "- if i is not a whole number, the percentile is at the (i+1) position in the ordered array"
   ]
  },
  {
   "cell_type": "code",
   "execution_count": 141,
   "metadata": {},
   "outputs": [
    {
     "data": {
      "text/plain": [
       "[5, 12, 13, 14, 19, 23]"
      ]
     },
     "execution_count": 141,
     "metadata": {},
     "output_type": "execute_result"
    }
   ],
   "source": [
    "data = [14,12,19,23,5,13]\n",
    "data.sort()\n",
    "data"
   ]
  },
  {
   "cell_type": "code",
   "execution_count": 143,
   "metadata": {},
   "outputs": [
    {
     "data": {
      "text/plain": [
       "1.7999999999999998"
      ]
     },
     "execution_count": 143,
     "metadata": {},
     "output_type": "execute_result"
    }
   ],
   "source": [
    "## 30th percentile =\n",
    "i = (30/100)*(len(data))\n",
    "i"
   ]
  },
  {
   "cell_type": "code",
   "execution_count": 144,
   "metadata": {},
   "outputs": [
    {
     "data": {
      "text/plain": [
       "2.8"
      ]
     },
     "execution_count": 144,
     "metadata": {},
     "output_type": "execute_result"
    }
   ],
   "source": [
    "location_index = i+1\n",
    "location_index"
   ]
  },
  {
   "cell_type": "code",
   "execution_count": 146,
   "metadata": {},
   "outputs": [
    {
     "name": "stdout",
     "output_type": "stream",
     "text": [
      " the 30th percentile is : 14\n"
     ]
    }
   ],
   "source": [
    "## which is 2.8 so taking whole number portion it is 3 \n",
    "print(f' the 30th percentile is : {data[3]}')"
   ]
  },
  {
   "cell_type": "markdown",
   "metadata": {},
   "source": [
    "### <center>On marks data<center> "
   ]
  },
  {
   "cell_type": "code",
   "execution_count": 67,
   "metadata": {},
   "outputs": [
    {
     "name": "stdout",
     "output_type": "stream",
     "text": [
      "50% i.e median Percentile students Height = 66.31807008178465 & Weight = 161.212927699483\n"
     ]
    }
   ],
   "source": [
    "## Students Data\n",
    "\n",
    "## On marks data \n",
    "print(f'50% i.e median Percentile students Height = {np.percentile(df.Height,50)} & Weight = {np.percentile(df.Weight,50)}')\n",
    "# np.percentile(df.Height,50)"
   ]
  },
  {
   "cell_type": "markdown",
   "metadata": {},
   "source": [
    "# Dispersion :\n",
    "Measure of variablity describe the spread or the dispersion of a set of data \n",
    "- Reliability of mean is explained by dispersion"
   ]
  },
  {
   "cell_type": "markdown",
   "metadata": {},
   "source": [
    "## Types of dispersion\n",
    "* Skewness\n",
    "* Kurtosis \n",
    "* Range\n",
    "* IQR (Interquartile Range)\n",
    "* Variance\n",
    "* Standard score\n",
    "* Coeficient of variation\n",
    "* Z - scores"
   ]
  },
  {
   "cell_type": "markdown",
   "metadata": {},
   "source": [
    "### - Range\n",
    "\n",
    "- the difference between the largest and the smallest values in a set of data \n",
    "- ignores all data points except the two extremes\n",
    "- range = largest_val - smallest_val"
   ]
  },
  {
   "cell_type": "markdown",
   "metadata": {},
   "source": [
    "### - Quartiles \n",
    "- measure of central tendency that divides a group of data into four subgroups\n",
    "- Q1 = 25% of the data set is below the first quartile\n",
    "- Q2 = 50% of the data set is below the second quartile (median)\n",
    "- Q3 = 75% of the data set is below the third quartile\n",
    "- Q1 = 25th percentile\n",
    "- Q2 = 50th percentile\n",
    "- Q3 = 75th percentile\n",
    "- Quartile values are not necissarily members of the data set"
   ]
  },
  {
   "cell_type": "code",
   "execution_count": 158,
   "metadata": {},
   "outputs": [
    {
     "name": "stdout",
     "output_type": "stream",
     "text": [
      "First qurtile Q1 = 121, 2nd quartile Q2 = 122,& Q3 = 129\n"
     ]
    }
   ],
   "source": [
    "data = [106,109,114,121,122,125,129]\n",
    "data.sort()\n",
    "q1 =  25/100*(len(data))\n",
    "q1 = round(q1+1)\n",
    "\n",
    "q2 =  50/100*(len(data))\n",
    "q2 = round(q2+1)\n",
    "\n",
    "q3 =  75/100*(len(data))\n",
    "q3 = round(q3+1)\n",
    "\n",
    "print(f'First qurtile Q1 = {data[q1]}, 2nd quartile Q2 = {data[q2]},& Q3 = {data[q3]}')"
   ]
  },
  {
   "cell_type": "markdown",
   "metadata": {},
   "source": [
    "### IQR - Interquartile range\n",
    "- Range of values between the first & third quartiles\n",
    "- range of the midlle half\n",
    "- Less influenced by extremes\n",
    "- $   IQR = Q3 - Q1 $"
   ]
  },
  {
   "cell_type": "code",
   "execution_count": 159,
   "metadata": {},
   "outputs": [
    {
     "name": "stdout",
     "output_type": "stream",
     "text": [
      "8\n"
     ]
    }
   ],
   "source": [
    "iqr = data[q3] - data[q1]\n",
    "print(iqr)"
   ]
  },
  {
   "cell_type": "code",
   "execution_count": 69,
   "metadata": {},
   "outputs": [
    {
     "name": "stdout",
     "output_type": "stream",
     "text": [
      "5.668641245615746\n"
     ]
    }
   ],
   "source": [
    "df_q1_height = np.percentile(df.Height,25)\n",
    "df_q2_height = np.percentile(df.Height,50)\n",
    "df_q3_height = np.percentile(df.Height,75)\n",
    "\n",
    "df_iqr = df_q3_height  - df_q1_height\n",
    "print(df_iqr)"
   ]
  },
  {
   "cell_type": "markdown",
   "metadata": {},
   "source": [
    "### Deviation From the Mean \n",
    "- find the mean \n",
    "- calculate the difference in values\n",
    "- can contain negative & positive deviation"
   ]
  },
  {
   "cell_type": "code",
   "execution_count": 160,
   "metadata": {},
   "outputs": [
    {
     "data": {
      "text/plain": [
       "[5, 9, 16, 17, 18]"
      ]
     },
     "execution_count": 160,
     "metadata": {},
     "output_type": "execute_result"
    }
   ],
   "source": [
    "data = [5,9,16,17,18]\n",
    "data.sort()\n",
    "data"
   ]
  },
  {
   "cell_type": "code",
   "execution_count": 165,
   "metadata": {},
   "outputs": [
    {
     "data": {
      "text/plain": [
       "13"
      ]
     },
     "execution_count": 165,
     "metadata": {},
     "output_type": "execute_result"
    }
   ],
   "source": [
    "mean = int(sum(data)/len(data))\n",
    "mean"
   ]
  },
  {
   "cell_type": "code",
   "execution_count": 169,
   "metadata": {},
   "outputs": [
    {
     "data": {
      "text/plain": [
       "[8, 4, 3, 4, 5]"
      ]
     },
     "execution_count": 169,
     "metadata": {},
     "output_type": "execute_result"
    }
   ],
   "source": [
    "dev_from_mean = [abs(i-mean) for i in data] ## abs is sbosulte \n",
    "dev_from_mean"
   ]
  },
  {
   "cell_type": "markdown",
   "metadata": {},
   "source": [
    "### We should go for Mean Absolute deviation (M.A.D)\n",
    "# $M.A.D =  \\frac{\\sum|X-\\mu|}{N} $"
   ]
  },
  {
   "cell_type": "code",
   "execution_count": 136,
   "metadata": {},
   "outputs": [
    {
     "data": {
      "text/plain": [
       "[2, 3, 5]"
      ]
     },
     "execution_count": 136,
     "metadata": {},
     "output_type": "execute_result"
    }
   ],
   "source": [
    "dev_from_mean = [(i-mean) for i in data]\n",
    "dev_from_mean"
   ]
  },
  {
   "cell_type": "markdown",
   "metadata": {},
   "source": [
    "##  Variance \n",
    "Average of squared deviation from the  mean\n",
    "## $ \\sigma^2 =  \\frac{\\sum(X-\\mu)^2}{N} $\n",
    "$\\mu$ is mean,  X is values"
   ]
  },
  {
   "cell_type": "code",
   "execution_count": 70,
   "metadata": {},
   "outputs": [
    {
     "data": {
      "text/plain": [
       "[5, 9, 16, 17, 18]"
      ]
     },
     "execution_count": 70,
     "metadata": {},
     "output_type": "execute_result"
    }
   ],
   "source": [
    "data = [5,9,16,17,18]\n",
    "data.sort()\n",
    "data"
   ]
  },
  {
   "cell_type": "code",
   "execution_count": 94,
   "metadata": {},
   "outputs": [
    {
     "data": {
      "text/plain": [
       "13"
      ]
     },
     "execution_count": 94,
     "metadata": {},
     "output_type": "execute_result"
    }
   ],
   "source": [
    "mean = int(sum(data)/len(data))\n",
    "mean"
   ]
  },
  {
   "cell_type": "code",
   "execution_count": 72,
   "metadata": {},
   "outputs": [
    {
     "data": {
      "text/plain": [
       "[64, 16, 9, 16, 25]"
      ]
     },
     "execution_count": 72,
     "metadata": {},
     "output_type": "execute_result"
    }
   ],
   "source": [
    "dev_from_mean = [(i-mean)**2 for i in data] ## abs is sbosulte \n",
    "dev_from_mean"
   ]
  },
  {
   "cell_type": "code",
   "execution_count": 89,
   "metadata": {},
   "outputs": [
    {
     "data": {
      "text/plain": [
       "26.0"
      ]
     },
     "execution_count": 89,
     "metadata": {},
     "output_type": "execute_result"
    }
   ],
   "source": [
    "variance = sum(dev_from_mean)/len(dev_from_mean)\n",
    "variance"
   ]
  },
  {
   "cell_type": "code",
   "execution_count": 98,
   "metadata": {},
   "outputs": [
    {
     "data": {
      "text/plain": [
       "26.0"
      ]
     },
     "execution_count": 98,
     "metadata": {},
     "output_type": "execute_result"
    }
   ],
   "source": [
    "## Using numpy \n",
    "variance = np.var(data)\n",
    "variance"
   ]
  },
  {
   "cell_type": "markdown",
   "metadata": {},
   "source": [
    "\n",
    "### <center>On marks data<center> "
   ]
  },
  {
   "cell_type": "code",
   "execution_count": 103,
   "metadata": {},
   "outputs": [
    {
     "name": "stdout",
     "output_type": "stream",
     "text": [
      "14.80199229287679\n"
     ]
    }
   ],
   "source": [
    "print(np.var(df.Height))"
   ]
  },
  {
   "cell_type": "code",
   "execution_count": 102,
   "metadata": {
    "scrolled": true
   },
   "outputs": [
    {
     "data": {
      "text/html": [
       "<div>\n",
       "<style scoped>\n",
       "    .dataframe tbody tr th:only-of-type {\n",
       "        vertical-align: middle;\n",
       "    }\n",
       "\n",
       "    .dataframe tbody tr th {\n",
       "        vertical-align: top;\n",
       "    }\n",
       "\n",
       "    .dataframe thead th {\n",
       "        text-align: right;\n",
       "    }\n",
       "</style>\n",
       "<table border=\"1\" class=\"dataframe\">\n",
       "  <thead>\n",
       "    <tr style=\"text-align: right;\">\n",
       "      <th></th>\n",
       "      <th>Gender</th>\n",
       "      <th>Height</th>\n",
       "      <th>Weight</th>\n",
       "    </tr>\n",
       "  </thead>\n",
       "  <tbody>\n",
       "    <tr>\n",
       "      <th>0</th>\n",
       "      <td>Male</td>\n",
       "      <td>73.847017</td>\n",
       "      <td>241.893563</td>\n",
       "    </tr>\n",
       "    <tr>\n",
       "      <th>1</th>\n",
       "      <td>Male</td>\n",
       "      <td>68.781904</td>\n",
       "      <td>162.310473</td>\n",
       "    </tr>\n",
       "    <tr>\n",
       "      <th>2</th>\n",
       "      <td>Male</td>\n",
       "      <td>74.110105</td>\n",
       "      <td>212.740856</td>\n",
       "    </tr>\n",
       "    <tr>\n",
       "      <th>3</th>\n",
       "      <td>Male</td>\n",
       "      <td>71.730978</td>\n",
       "      <td>220.042470</td>\n",
       "    </tr>\n",
       "    <tr>\n",
       "      <th>4</th>\n",
       "      <td>Male</td>\n",
       "      <td>69.881796</td>\n",
       "      <td>206.349801</td>\n",
       "    </tr>\n",
       "    <tr>\n",
       "      <th>5</th>\n",
       "      <td>Male</td>\n",
       "      <td>67.253016</td>\n",
       "      <td>152.212156</td>\n",
       "    </tr>\n",
       "    <tr>\n",
       "      <th>6</th>\n",
       "      <td>Male</td>\n",
       "      <td>68.785081</td>\n",
       "      <td>183.927889</td>\n",
       "    </tr>\n",
       "    <tr>\n",
       "      <th>7</th>\n",
       "      <td>Male</td>\n",
       "      <td>68.348516</td>\n",
       "      <td>167.971110</td>\n",
       "    </tr>\n",
       "    <tr>\n",
       "      <th>8</th>\n",
       "      <td>Male</td>\n",
       "      <td>67.018950</td>\n",
       "      <td>175.929440</td>\n",
       "    </tr>\n",
       "    <tr>\n",
       "      <th>9</th>\n",
       "      <td>Male</td>\n",
       "      <td>63.456494</td>\n",
       "      <td>156.399676</td>\n",
       "    </tr>\n",
       "    <tr>\n",
       "      <th>10</th>\n",
       "      <td>Male</td>\n",
       "      <td>71.195382</td>\n",
       "      <td>186.604926</td>\n",
       "    </tr>\n",
       "    <tr>\n",
       "      <th>11</th>\n",
       "      <td>Male</td>\n",
       "      <td>71.640805</td>\n",
       "      <td>213.741169</td>\n",
       "    </tr>\n",
       "    <tr>\n",
       "      <th>12</th>\n",
       "      <td>Male</td>\n",
       "      <td>64.766329</td>\n",
       "      <td>167.127461</td>\n",
       "    </tr>\n",
       "    <tr>\n",
       "      <th>13</th>\n",
       "      <td>Male</td>\n",
       "      <td>69.283070</td>\n",
       "      <td>189.446181</td>\n",
       "    </tr>\n",
       "    <tr>\n",
       "      <th>14</th>\n",
       "      <td>Male</td>\n",
       "      <td>69.243732</td>\n",
       "      <td>186.434168</td>\n",
       "    </tr>\n",
       "    <tr>\n",
       "      <th>15</th>\n",
       "      <td>Male</td>\n",
       "      <td>67.645620</td>\n",
       "      <td>172.186930</td>\n",
       "    </tr>\n",
       "    <tr>\n",
       "      <th>16</th>\n",
       "      <td>Male</td>\n",
       "      <td>72.418317</td>\n",
       "      <td>196.028506</td>\n",
       "    </tr>\n",
       "    <tr>\n",
       "      <th>17</th>\n",
       "      <td>Male</td>\n",
       "      <td>63.974326</td>\n",
       "      <td>172.883470</td>\n",
       "    </tr>\n",
       "    <tr>\n",
       "      <th>18</th>\n",
       "      <td>Male</td>\n",
       "      <td>69.640060</td>\n",
       "      <td>185.983958</td>\n",
       "    </tr>\n",
       "    <tr>\n",
       "      <th>19</th>\n",
       "      <td>Male</td>\n",
       "      <td>67.936005</td>\n",
       "      <td>182.426648</td>\n",
       "    </tr>\n",
       "    <tr>\n",
       "      <th>20</th>\n",
       "      <td>Male</td>\n",
       "      <td>67.915050</td>\n",
       "      <td>174.115929</td>\n",
       "    </tr>\n",
       "    <tr>\n",
       "      <th>21</th>\n",
       "      <td>Male</td>\n",
       "      <td>69.439440</td>\n",
       "      <td>197.731422</td>\n",
       "    </tr>\n",
       "    <tr>\n",
       "      <th>22</th>\n",
       "      <td>Male</td>\n",
       "      <td>66.149132</td>\n",
       "      <td>149.173566</td>\n",
       "    </tr>\n",
       "    <tr>\n",
       "      <th>23</th>\n",
       "      <td>Male</td>\n",
       "      <td>75.205974</td>\n",
       "      <td>228.761781</td>\n",
       "    </tr>\n",
       "    <tr>\n",
       "      <th>24</th>\n",
       "      <td>Male</td>\n",
       "      <td>67.893196</td>\n",
       "      <td>162.006652</td>\n",
       "    </tr>\n",
       "    <tr>\n",
       "      <th>25</th>\n",
       "      <td>Male</td>\n",
       "      <td>68.144033</td>\n",
       "      <td>192.343977</td>\n",
       "    </tr>\n",
       "    <tr>\n",
       "      <th>26</th>\n",
       "      <td>Male</td>\n",
       "      <td>69.089631</td>\n",
       "      <td>184.435174</td>\n",
       "    </tr>\n",
       "    <tr>\n",
       "      <th>27</th>\n",
       "      <td>Male</td>\n",
       "      <td>72.800844</td>\n",
       "      <td>206.828189</td>\n",
       "    </tr>\n",
       "    <tr>\n",
       "      <th>28</th>\n",
       "      <td>Male</td>\n",
       "      <td>67.421242</td>\n",
       "      <td>175.213922</td>\n",
       "    </tr>\n",
       "    <tr>\n",
       "      <th>29</th>\n",
       "      <td>Male</td>\n",
       "      <td>68.496415</td>\n",
       "      <td>154.342639</td>\n",
       "    </tr>\n",
       "    <tr>\n",
       "      <th>...</th>\n",
       "      <td>...</td>\n",
       "      <td>...</td>\n",
       "      <td>...</td>\n",
       "    </tr>\n",
       "    <tr>\n",
       "      <th>9970</th>\n",
       "      <td>Female</td>\n",
       "      <td>65.618737</td>\n",
       "      <td>151.500389</td>\n",
       "    </tr>\n",
       "    <tr>\n",
       "      <th>9971</th>\n",
       "      <td>Female</td>\n",
       "      <td>64.640247</td>\n",
       "      <td>155.318297</td>\n",
       "    </tr>\n",
       "    <tr>\n",
       "      <th>9972</th>\n",
       "      <td>Female</td>\n",
       "      <td>60.653733</td>\n",
       "      <td>123.084293</td>\n",
       "    </tr>\n",
       "    <tr>\n",
       "      <th>9973</th>\n",
       "      <td>Female</td>\n",
       "      <td>60.737031</td>\n",
       "      <td>120.926500</td>\n",
       "    </tr>\n",
       "    <tr>\n",
       "      <th>9974</th>\n",
       "      <td>Female</td>\n",
       "      <td>65.393947</td>\n",
       "      <td>143.017835</td>\n",
       "    </tr>\n",
       "    <tr>\n",
       "      <th>9975</th>\n",
       "      <td>Female</td>\n",
       "      <td>66.251923</td>\n",
       "      <td>124.019917</td>\n",
       "    </tr>\n",
       "    <tr>\n",
       "      <th>9976</th>\n",
       "      <td>Female</td>\n",
       "      <td>61.475904</td>\n",
       "      <td>121.387236</td>\n",
       "    </tr>\n",
       "    <tr>\n",
       "      <th>9977</th>\n",
       "      <td>Female</td>\n",
       "      <td>64.494838</td>\n",
       "      <td>149.402547</td>\n",
       "    </tr>\n",
       "    <tr>\n",
       "      <th>9978</th>\n",
       "      <td>Female</td>\n",
       "      <td>57.375759</td>\n",
       "      <td>114.192209</td>\n",
       "    </tr>\n",
       "    <tr>\n",
       "      <th>9979</th>\n",
       "      <td>Female</td>\n",
       "      <td>62.056012</td>\n",
       "      <td>125.135897</td>\n",
       "    </tr>\n",
       "    <tr>\n",
       "      <th>9980</th>\n",
       "      <td>Female</td>\n",
       "      <td>60.472262</td>\n",
       "      <td>110.768229</td>\n",
       "    </tr>\n",
       "    <tr>\n",
       "      <th>9981</th>\n",
       "      <td>Female</td>\n",
       "      <td>60.443264</td>\n",
       "      <td>135.559390</td>\n",
       "    </tr>\n",
       "    <tr>\n",
       "      <th>9982</th>\n",
       "      <td>Female</td>\n",
       "      <td>69.868511</td>\n",
       "      <td>177.992066</td>\n",
       "    </tr>\n",
       "    <tr>\n",
       "      <th>9983</th>\n",
       "      <td>Female</td>\n",
       "      <td>65.830726</td>\n",
       "      <td>132.827889</td>\n",
       "    </tr>\n",
       "    <tr>\n",
       "      <th>9984</th>\n",
       "      <td>Female</td>\n",
       "      <td>59.047029</td>\n",
       "      <td>111.707369</td>\n",
       "    </tr>\n",
       "    <tr>\n",
       "      <th>9985</th>\n",
       "      <td>Female</td>\n",
       "      <td>68.041065</td>\n",
       "      <td>170.514213</td>\n",
       "    </tr>\n",
       "    <tr>\n",
       "      <th>9986</th>\n",
       "      <td>Female</td>\n",
       "      <td>63.352698</td>\n",
       "      <td>141.906510</td>\n",
       "    </tr>\n",
       "    <tr>\n",
       "      <th>9987</th>\n",
       "      <td>Female</td>\n",
       "      <td>65.610243</td>\n",
       "      <td>151.169475</td>\n",
       "    </tr>\n",
       "    <tr>\n",
       "      <th>9988</th>\n",
       "      <td>Female</td>\n",
       "      <td>59.538729</td>\n",
       "      <td>121.244876</td>\n",
       "    </tr>\n",
       "    <tr>\n",
       "      <th>9989</th>\n",
       "      <td>Female</td>\n",
       "      <td>60.955084</td>\n",
       "      <td>95.686674</td>\n",
       "    </tr>\n",
       "    <tr>\n",
       "      <th>9990</th>\n",
       "      <td>Female</td>\n",
       "      <td>63.179498</td>\n",
       "      <td>141.266100</td>\n",
       "    </tr>\n",
       "    <tr>\n",
       "      <th>9991</th>\n",
       "      <td>Female</td>\n",
       "      <td>62.636675</td>\n",
       "      <td>102.853563</td>\n",
       "    </tr>\n",
       "    <tr>\n",
       "      <th>9992</th>\n",
       "      <td>Female</td>\n",
       "      <td>62.077832</td>\n",
       "      <td>138.691680</td>\n",
       "    </tr>\n",
       "    <tr>\n",
       "      <th>9993</th>\n",
       "      <td>Female</td>\n",
       "      <td>60.030434</td>\n",
       "      <td>97.687432</td>\n",
       "    </tr>\n",
       "    <tr>\n",
       "      <th>9994</th>\n",
       "      <td>Female</td>\n",
       "      <td>59.098250</td>\n",
       "      <td>110.529686</td>\n",
       "    </tr>\n",
       "    <tr>\n",
       "      <th>9995</th>\n",
       "      <td>Female</td>\n",
       "      <td>66.172652</td>\n",
       "      <td>136.777454</td>\n",
       "    </tr>\n",
       "    <tr>\n",
       "      <th>9996</th>\n",
       "      <td>Female</td>\n",
       "      <td>67.067155</td>\n",
       "      <td>170.867906</td>\n",
       "    </tr>\n",
       "    <tr>\n",
       "      <th>9997</th>\n",
       "      <td>Female</td>\n",
       "      <td>63.867992</td>\n",
       "      <td>128.475319</td>\n",
       "    </tr>\n",
       "    <tr>\n",
       "      <th>9998</th>\n",
       "      <td>Female</td>\n",
       "      <td>69.034243</td>\n",
       "      <td>163.852461</td>\n",
       "    </tr>\n",
       "    <tr>\n",
       "      <th>9999</th>\n",
       "      <td>Female</td>\n",
       "      <td>61.944246</td>\n",
       "      <td>113.649103</td>\n",
       "    </tr>\n",
       "  </tbody>\n",
       "</table>\n",
       "<p>10000 rows × 3 columns</p>\n",
       "</div>"
      ],
      "text/plain": [
       "      Gender     Height      Weight\n",
       "0       Male  73.847017  241.893563\n",
       "1       Male  68.781904  162.310473\n",
       "2       Male  74.110105  212.740856\n",
       "3       Male  71.730978  220.042470\n",
       "4       Male  69.881796  206.349801\n",
       "5       Male  67.253016  152.212156\n",
       "6       Male  68.785081  183.927889\n",
       "7       Male  68.348516  167.971110\n",
       "8       Male  67.018950  175.929440\n",
       "9       Male  63.456494  156.399676\n",
       "10      Male  71.195382  186.604926\n",
       "11      Male  71.640805  213.741169\n",
       "12      Male  64.766329  167.127461\n",
       "13      Male  69.283070  189.446181\n",
       "14      Male  69.243732  186.434168\n",
       "15      Male  67.645620  172.186930\n",
       "16      Male  72.418317  196.028506\n",
       "17      Male  63.974326  172.883470\n",
       "18      Male  69.640060  185.983958\n",
       "19      Male  67.936005  182.426648\n",
       "20      Male  67.915050  174.115929\n",
       "21      Male  69.439440  197.731422\n",
       "22      Male  66.149132  149.173566\n",
       "23      Male  75.205974  228.761781\n",
       "24      Male  67.893196  162.006652\n",
       "25      Male  68.144033  192.343977\n",
       "26      Male  69.089631  184.435174\n",
       "27      Male  72.800844  206.828189\n",
       "28      Male  67.421242  175.213922\n",
       "29      Male  68.496415  154.342639\n",
       "...      ...        ...         ...\n",
       "9970  Female  65.618737  151.500389\n",
       "9971  Female  64.640247  155.318297\n",
       "9972  Female  60.653733  123.084293\n",
       "9973  Female  60.737031  120.926500\n",
       "9974  Female  65.393947  143.017835\n",
       "9975  Female  66.251923  124.019917\n",
       "9976  Female  61.475904  121.387236\n",
       "9977  Female  64.494838  149.402547\n",
       "9978  Female  57.375759  114.192209\n",
       "9979  Female  62.056012  125.135897\n",
       "9980  Female  60.472262  110.768229\n",
       "9981  Female  60.443264  135.559390\n",
       "9982  Female  69.868511  177.992066\n",
       "9983  Female  65.830726  132.827889\n",
       "9984  Female  59.047029  111.707369\n",
       "9985  Female  68.041065  170.514213\n",
       "9986  Female  63.352698  141.906510\n",
       "9987  Female  65.610243  151.169475\n",
       "9988  Female  59.538729  121.244876\n",
       "9989  Female  60.955084   95.686674\n",
       "9990  Female  63.179498  141.266100\n",
       "9991  Female  62.636675  102.853563\n",
       "9992  Female  62.077832  138.691680\n",
       "9993  Female  60.030434   97.687432\n",
       "9994  Female  59.098250  110.529686\n",
       "9995  Female  66.172652  136.777454\n",
       "9996  Female  67.067155  170.867906\n",
       "9997  Female  63.867992  128.475319\n",
       "9998  Female  69.034243  163.852461\n",
       "9999  Female  61.944246  113.649103\n",
       "\n",
       "[10000 rows x 3 columns]"
      ]
     },
     "execution_count": 102,
     "metadata": {},
     "output_type": "execute_result"
    }
   ],
   "source": [
    "df"
   ]
  },
  {
   "cell_type": "markdown",
   "metadata": {},
   "source": [
    "## Standard Deviation  $ \\sigma $ (Sigma)  \n",
    "Square root of variance is Standard deviation, \n",
    "$ \\sigma = \\sqrt{variance}$\n",
    "\n",
    "- Indicator of financial risk\n",
    "- Quality Control\n",
    "    * Constructionof quality control charts\n",
    "    * Process capability Studies\n",
    "- Comapring Populations\n",
    "    * household incomes in two cities\n",
    "    * employee absenteeism at two plants\n",
    "- lesser standard deviation that is having higher homegenious dataset"
   ]
  },
  {
   "cell_type": "code",
   "execution_count": 106,
   "metadata": {},
   "outputs": [
    {
     "name": "stdout",
     "output_type": "stream",
     "text": [
      "5.0990195135927845\n"
     ]
    }
   ],
   "source": [
    "variance\n",
    "st_deviation = math.sqrt(variance)\n",
    "print(st_deviation)"
   ]
  },
  {
   "cell_type": "code",
   "execution_count": 110,
   "metadata": {},
   "outputs": [
    {
     "data": {
      "text/plain": [
       "5.0990195135927845"
      ]
     },
     "execution_count": 110,
     "metadata": {},
     "output_type": "execute_result"
    }
   ],
   "source": [
    "## Using numpy \n",
    "np.std(data)"
   ]
  },
  {
   "cell_type": "markdown",
   "metadata": {},
   "source": [
    "# Measure Dispersion"
   ]
  },
  {
   "cell_type": "markdown",
   "metadata": {},
   "source": [
    "### Empirical Rule \n",
    "* approximately 68% of all observation fall within one standard deviation of the mean.\n",
    "* approximately 95% of all observation fall within two standard deviation of the mean.\n",
    "* Approximately 99.7% of all observation fall within three standard deviation of the mean."
   ]
  },
  {
   "cell_type": "markdown",
   "metadata": {},
   "source": [
    "### Chebysheff's Therom \n",
    "* A more general interpretation of the standard deviation is derived from Chebysheff's Therom. which applied to all shapes of histograms (not just bell shaped)\n",
    "* The proportion of observation in any sample that lie within k standarddeviation of the mean is at least:\n",
    "\n",
    "$ 1- \\frac{1}{k} for k >1$"
   ]
  },
  {
   "cell_type": "markdown",
   "metadata": {},
   "source": [
    "### Coefficient of Variation\n",
    "* Ratio of standard deviation to the mean, expressed as a percentage\n",
    "* Measurement of relative dispersion\n",
    "## $ C.V = \\frac{\\sigma} {\\mu} *100$\n",
    "* Lower the coefficient of variance better the option"
   ]
  },
  {
   "cell_type": "markdown",
   "metadata": {},
   "source": [
    "## When to use C.V\n",
    "### Q. Suppose we have two stocks A & B having mean 29 & 84 , std deviation 4.6 & 10 . What is the better stock?\n",
    "\n",
    "By comparing means stock B is better but when we compare standard deviation stock A is having lower risk . Thus we have a tradeoff . Therefore we calculate C.V"
   ]
  },
  {
   "cell_type": "code",
   "execution_count": 175,
   "metadata": {},
   "outputs": [
    {
     "name": "stdout",
     "output_type": "stream",
     "text": [
      "CV of stock A is 15.86206896551724 & B is 11.904761904761903\n",
      "stock A is better\n"
     ]
    }
   ],
   "source": [
    "cv_1 = (4.6/29)*100\n",
    "cv_2 = (10/84)*100\n",
    "print(f'CV of stock A is {cv_1} & B is {cv_2}')\n",
    "print('stock A is better')"
   ]
  },
  {
   "cell_type": "markdown",
   "metadata": {},
   "source": [
    "## Measure of Shape\n",
    "- Skewness \n",
    "    - absence of symmetry\n",
    "    - Extreme values in one side of a distribution , Left skewed & Right skewed\n",
    "- Kurtosis\n",
    "- Box & Whisker Plots"
   ]
  },
  {
   "cell_type": "markdown",
   "metadata": {},
   "source": [
    "### Skewness    \n",
    "    - if tail is on left hand side i.e negative skewed\n",
    "    - if tail is on right hand side i.e positive skewed\n",
    "    - The skewness of a distribution is measured by comparing the relative positions of the mean, median & mode\n",
    "    - Distribution is symmetrical: Mean = Median = Mode\n",
    "    - Distribution is right skewed : median lies between mode & mean , and mode is less than mean\n",
    "    - Distribution is left skewed : median lies between mode & mean , and mode is greater than mean"
   ]
  },
  {
   "cell_type": "markdown",
   "metadata": {},
   "source": [
    "### Coefficient of Skewness - \n",
    "* Summary Measure of skewness \n",
    "## $ S = \\frac{3(\\mu - Md)}{\\sigma}$ , Md is median\n",
    "* If S < 0, the distribution is negatively skewed (Skewed to the left)\n",
    "* If S = 0, the distribution is symmetric (Not Skewed)\n",
    "* If S > 0, the distribution is Positively skewed (Skewed to the right)"
   ]
  },
  {
   "cell_type": "markdown",
   "metadata": {},
   "source": [
    "### Q. Given details mean , median & standard deviation of 3 datasets A, B & C. Identify their Skewness ?\n",
    "\n",
    "A. mean = 23 , median 26 standard deviation = 12.3\n",
    "B. mean = 26 , median 26 standard deviation = 12.3\n",
    "C. mean = 29 , median 26 standard deviation = 12.3"
   ]
  },
  {
   "cell_type": "code",
   "execution_count": 190,
   "metadata": {},
   "outputs": [
    {
     "name": "stdout",
     "output_type": "stream",
     "text": [
      "Skwness is A = -0.7317073170731707, i.e it is left skewed B = 0.0 not skewed & C = 0.7317073170731707 i.e right skewed\n"
     ]
    }
   ],
   "source": [
    "skew_A = (3*(23-26))/12.3\n",
    "skew_B = (3*(26-26))/12.3\n",
    "skew_C = (3*(29-26))/12.3\n",
    "print(f'Skwness is A = {skew_A}, i.e it is left skewed B = {skew_B} not skewed & C = {skew_C} i.e right skewed')"
   ]
  },
  {
   "cell_type": "markdown",
   "metadata": {},
   "source": [
    "## <center> Data  <center>"
   ]
  },
  {
   "cell_type": "code",
   "execution_count": 117,
   "metadata": {},
   "outputs": [
    {
     "data": {
      "text/plain": [
       "0.049361683704905374"
      ]
     },
     "execution_count": 117,
     "metadata": {},
     "output_type": "execute_result"
    }
   ],
   "source": [
    "\n",
    "\n",
    "from scipy.stats import skew\n",
    "skew(df.Height)"
   ]
  },
  {
   "cell_type": "code",
   "execution_count": 112,
   "metadata": {},
   "outputs": [
    {
     "data": {
      "text/plain": [
       "0.032949561064277405"
      ]
     },
     "execution_count": 112,
     "metadata": {},
     "output_type": "execute_result"
    }
   ],
   "source": [
    "skew(df.Weight)"
   ]
  },
  {
   "cell_type": "markdown",
   "metadata": {},
   "source": [
    "## Kurtosis \n",
    "* Peakedness of a distribution\n",
    "    - Leptokurtic: high & thin\n",
    "    -  Mesokurtic: normal in shape\n",
    "    - Platykurtic: flat and spread out"
   ]
  },
  {
   "cell_type": "markdown",
   "metadata": {},
   "source": [
    "## Box & Whisker Plot\n",
    "Box & Whiskers plot signifies 5 positions :\n",
    "    - Median, Q2\n",
    "    - First quartile Q1\n",
    "    - Third quartile , Q3\n",
    "    - Min Val\n",
    "    - Max val in data set"
   ]
  },
  {
   "cell_type": "code",
   "execution_count": 114,
   "metadata": {},
   "outputs": [
    {
     "data": {
      "image/png": "[encoded data removed]",
      "text/plain": [
       "<Figure size 432x288 with 1 Axes>"
      ]
     },
     "metadata": {},
     "output_type": "display_data"
    }
   ],
   "source": [
    "from matplotlib import pyplot as plt\n",
    "plt.boxplot(df.Weight , sym='*')\n",
    "plt.show()"
   ]
  },
  {
   "cell_type": "code",
   "execution_count": 115,
   "metadata": {},
   "outputs": [
    {
     "data": {
      "image/png": "[encoded data removed]",
      "text/plain": [
       "<Figure size 432x288 with 1 Axes>"
      ]
     },
     "metadata": {},
     "output_type": "display_data"
    }
   ],
   "source": [
    "from matplotlib import pyplot as plt\n",
    "plt.boxplot(df.Height , sym='*')\n",
    "plt.show()"
   ]
  },
  {
   "cell_type": "code",
   "execution_count": null,
   "metadata": {},
   "outputs": [],
   "source": []
  },
  {
   "cell_type": "code",
   "execution_count": null,
   "metadata": {},
   "outputs": [],
   "source": []
  },
  {
   "cell_type": "markdown",
   "metadata": {},
   "source": [
    "# *[NOTES]"
   ]
  },
  {
   "cell_type": "markdown",
   "metadata": {},
   "source": [
    "- When to use mean meadian mode ?    \n",
    "    - Whenever data is skewed we should go for median as a central tendancy\n",
    "    - When data is a bell curve we can use any one i.e mean meadin mode"
   ]
  }
 ],
 "metadata": {
  "kernelspec": {
   "display_name": "Python 3",
   "language": "python",
   "name": "python3"
  },
  "language_info": {
   "codemirror_mode": {
    "name": "ipython",
    "version": 3
   },
   "file_extension": ".py",
   "mimetype": "text/x-python",
   "name": "python",
   "nbconvert_exporter": "python",
   "pygments_lexer": "ipython3",
   "version": "3.6.5"
  }
 },
 "nbformat": 4,
 "nbformat_minor": 4
}
