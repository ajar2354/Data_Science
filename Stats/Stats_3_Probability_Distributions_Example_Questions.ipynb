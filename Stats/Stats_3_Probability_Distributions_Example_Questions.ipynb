{
 "cells": [
  {
   "cell_type": "markdown",
   "metadata": {},
   "source": [
    "## <center>Probability Distributions Examples:<center>"
   ]
  },
  {
   "cell_type": "code",
   "execution_count": 2,
   "metadata": {},
   "outputs": [
    {
     "name": "stderr",
     "output_type": "stream",
     "text": [
      "/Users/ajarpanwar/anaconda3/lib/python3.6/importlib/_bootstrap.py:219: RuntimeWarning: numpy.dtype size changed, may indicate binary incompatibility. Expected 96, got 88\n",
      "  return f(*args, **kwds)\n"
     ]
    }
   ],
   "source": [
    "import scipy\n",
    "import numpy as np\n",
    "\n",
    "from scipy.stats import binom"
   ]
  },
  {
   "cell_type": "markdown",
   "metadata": {},
   "source": [
    "### Example Question 1: \n",
    "**A survey found that 65% of all financial consumers were very staisfied with their primary financial institution. Suppose that 25 fianancial consumers are sample and if survery results still holds true today, what is the probabiltity that exactly 19 are very staisfied with their primary financial institution ?**\n",
    "\n",
    "Ans: as there are two possible outcomes i.e staisfied and non satisfied . We can go for probability mass function for binomial distribution\n",
    "\n",
    "here, \n",
    "        \n",
    "        k = x \n",
    "        n = sample size\n",
    "        p = probability of sucess "
   ]
  },
  {
   "cell_type": "code",
   "execution_count": 5,
   "metadata": {},
   "outputs": [
    {
     "name": "stdout",
     "output_type": "stream",
     "text": [
      "The probability is : 0.09077799859322791\n"
     ]
    }
   ],
   "source": [
    "print(f'The probability is : {binom.pmf(k=19,n= 25,p=0.65)}')"
   ]
  },
  {
   "cell_type": "markdown",
   "metadata": {},
   "source": [
    "### Example Question 2: \n",
    "**According to US census Bureau approximately 6% of all workers in Jackson missisipi are unemployed in conducting a random telephone survey in Jackson, what is the probability of getting two or fewer unemployed workers in a sample of 20?**\n",
    "\n",
    "Ans: as there are two possible outcomes i.e employed and unemployed , and to find cumulative density functn because, we have to find two or less,so we have to find probability of 0 , 1 and 2. We can go for cdf of binomial distribution\n"
   ]
  },
  {
   "cell_type": "code",
   "execution_count": 7,
   "metadata": {},
   "outputs": [
    {
     "data": {
      "text/plain": [
       "0.8850275957378545"
      ]
     },
     "execution_count": 7,
     "metadata": {},
     "output_type": "execute_result"
    }
   ],
   "source": [
    "binom.cdf(k=2,n=20,p=0.06)"
   ]
  },
  {
   "cell_type": "markdown",
   "metadata": {},
   "source": [
    "### Example Question 3:\n",
    "**Bank customers arrive randomly on weekday afternoon at an average of 3.2 customers every 4 minutes. What is the probability of having 5 customers in 4 minutes interval on a weeklday afternoon?**\n",
    "\n",
    "Ans: Intervals follows poisson distribution.\n",
    "Enter x and value of lambda = average / mean"
   ]
  },
  {
   "cell_type": "code",
   "execution_count": 8,
   "metadata": {},
   "outputs": [],
   "source": [
    "from scipy.stats import poisson"
   ]
  },
  {
   "cell_type": "code",
   "execution_count": 14,
   "metadata": {},
   "outputs": [
    {
     "data": {
      "text/plain": [
       "0.11397938346351824"
      ]
     },
     "execution_count": 14,
     "metadata": {},
     "output_type": "execute_result"
    }
   ],
   "source": [
    "poisson.pmf(5, 3.2)"
   ]
  },
  {
   "cell_type": "markdown",
   "metadata": {},
   "source": [
    "### Example Question 4:\n",
    "**Bank customers arrive randomly on weekday afternoon at an average of 3.2 customers every 4 minutes. What is the probability of having more than 7 customers in 4 minutes interval on a weekly afternoon?**\n",
    "\n",
    "Ans: Intervals follows poisson distribution.\n"
   ]
  },
  {
   "cell_type": "code",
   "execution_count": 17,
   "metadata": {},
   "outputs": [
    {
     "name": "stdout",
     "output_type": "stream",
     "text": [
      "0.01682984174895752\n"
     ]
    }
   ],
   "source": [
    "## finding probability of having atleast 7 customer in 4 mins\n",
    "prob = poisson.cdf(7,3.2)\n",
    "\n",
    "## finding prob of having more than 7 customers \n",
    "\n",
    "print(1-prob)"
   ]
  },
  {
   "cell_type": "markdown",
   "metadata": {},
   "source": [
    "### Example Question 5:\n",
    "**Bank customers arrive randomly on weekday afternoon at an average of 3.2 customers every 4 minutes. What is the probability of having exactly 10 customers in 8 minutes interval on a weeklday afternoon?**\n",
    "\n",
    "Ans: Intervals follows poisson distribution.\n",
    "*Note: averag eof every 4 minutes is given. Thus average of 8minutes becomes = 3.2*2 = 6.4 customers every 8 minutes*"
   ]
  },
  {
   "cell_type": "code",
   "execution_count": 18,
   "metadata": {},
   "outputs": [
    {
     "data": {
      "text/plain": [
       "0.052790043854115495"
      ]
     },
     "execution_count": 18,
     "metadata": {},
     "output_type": "execute_result"
    }
   ],
   "source": [
    "poisson.pmf(10,6.4)"
   ]
  },
  {
   "cell_type": "markdown",
   "metadata": {},
   "source": [
    "### Example Question 6:\n",
    "**Suppose the amount of time it takes to asemble a plastic module ranges from 27 to 39 seconds and that assembly times are uniformly distributed. Describe the distribution. What is the probabilty that a given assembly will take between 30 and 35 seconds?**\n",
    "\n",
    "Ans: Mentioned uniformly distributed thereofre uniform distribution\n"
   ]
  },
  {
   "cell_type": "code",
   "execution_count": 24,
   "metadata": {},
   "outputs": [
    {
     "data": {
      "text/plain": [
       "array([27, 28, 29, 30, 31, 32, 33, 34, 35, 36, 37, 38, 39])"
      ]
     },
     "execution_count": 24,
     "metadata": {},
     "output_type": "execute_result"
    }
   ],
   "source": [
    "uni = np.arange(27,40,1)\n",
    "uni"
   ]
  },
  {
   "cell_type": "code",
   "execution_count": 25,
   "metadata": {},
   "outputs": [],
   "source": [
    "## importing library\n",
    "from scipy.stats import uniform"
   ]
  },
  {
   "cell_type": "code",
   "execution_count": 26,
   "metadata": {},
   "outputs": [
    {
     "data": {
      "text/plain": [
       "33.0"
      ]
     },
     "execution_count": 26,
     "metadata": {},
     "output_type": "execute_result"
    }
   ],
   "source": [
    "uniform.mean(loc=27,scale=12)"
   ]
  },
  {
   "cell_type": "code",
   "execution_count": 27,
   "metadata": {},
   "outputs": [
    {
     "data": {
      "text/plain": [
       "array([0.25      , 0.33333333, 0.41666667, 0.5       , 0.58333333,\n",
       "       0.66666667])"
      ]
     },
     "execution_count": 27,
     "metadata": {},
     "output_type": "execute_result"
    }
   ],
   "source": [
    "## this will give probabilty between 30 to 35 \n",
    "uniform.cdf(np.arange(30,36,1),loc=27,scale=12)"
   ]
  },
  {
   "cell_type": "code",
   "execution_count": 28,
   "metadata": {},
   "outputs": [
    {
     "data": {
      "text/plain": [
       "0.41666667"
      ]
     },
     "execution_count": 28,
     "metadata": {},
     "output_type": "execute_result"
    }
   ],
   "source": [
    "## we want probability betwen 30 and 35, prob of 30 is 0.25 and prob of 35 is 0.666667\n",
    "\n",
    "0.66666667 - 0.25"
   ]
  },
  {
   "cell_type": "markdown",
   "metadata": {},
   "source": [
    "### Example Question 7.1:\n",
    "**What is the porbability of obtaining a score greather than 700 in a GMAT test that has a mean of 494 and a standard deviation of 100? Assume GMAT scores are normally disttributed**\n",
    "\n",
    "Ans: i.e P(x>700 | m =494 and s = 100)\n",
    "\n",
    "p= probability\n",
    "m = mean\n",
    "s = dtandard deviation"
   ]
  },
  {
   "cell_type": "code",
   "execution_count": 30,
   "metadata": {},
   "outputs": [],
   "source": [
    "from scipy.stats import norm"
   ]
  },
  {
   "cell_type": "code",
   "execution_count": 32,
   "metadata": {},
   "outputs": [
    {
     "data": {
      "text/plain": [
       "0.019699270409376912"
      ]
     },
     "execution_count": 32,
     "metadata": {},
     "output_type": "execute_result"
    }
   ],
   "source": [
    "## as mentioned it is greater tha 700: 1- cdf\n",
    "1 - norm.cdf(700,494,100)\n",
    "\n",
    "## which is very less so study"
   ]
  },
  {
   "cell_type": "markdown",
   "metadata": {},
   "source": [
    "**7.2. What is the porbability of randomly drwaing a score that is 550 or less or greater than 550 in GMAT?**\n"
   ]
  },
  {
   "cell_type": "code",
   "execution_count": 34,
   "metadata": {},
   "outputs": [
    {
     "name": "stdout",
     "output_type": "stream",
     "text": [
      "score less tha 550: 0.712260281150973\n",
      "score greater tha 550: 0.28773971884902705\n"
     ]
    }
   ],
   "source": [
    "print(f'score less tha 550: {norm.cdf(550,494,100)}')\n",
    "\n",
    "print(f'score greater tha 550: {1-norm.cdf(550,494,100)}')"
   ]
  },
  {
   "cell_type": "markdown",
   "metadata": {},
   "source": [
    "**7.3. What is the porbability of getting a score between 350 and 550 in same GMAT exam?**\n"
   ]
  },
  {
   "cell_type": "code",
   "execution_count": 36,
   "metadata": {},
   "outputs": [
    {
     "name": "stdout",
     "output_type": "stream",
     "text": [
      "0.6373265816166459\n"
     ]
    }
   ],
   "source": [
    "## we find area under curve i.e using cdf :\n",
    "\n",
    "print(norm.cdf(550,494,100) - norm.cdf(350,494,100))"
   ]
  },
  {
   "cell_type": "markdown",
   "metadata": {},
   "source": [
    "### Example Question 8:\n",
    "**Suppose 18 major computer comapnaies operate in the United States and that 12 are located in California's Siclicon Valley. If three computer companies are selected randomly fromt he entire list. What is the probability of the selected companies are located in the Silicon valley ?**\n",
    "\n",
    "Ans: We are using here hyper geomerty distribution as \n",
    "\n",
    "as here given to choose one or more i.e\n",
    "sf= 0 , N = 18 pupulation size , n = 3 number of sample choosen, A = 12 sucess in population\n"
   ]
  },
  {
   "cell_type": "code",
   "execution_count": 39,
   "metadata": {},
   "outputs": [
    {
     "data": {
      "text/plain": [
       "0.9754901960784306"
      ]
     },
     "execution_count": 39,
     "metadata": {},
     "output_type": "execute_result"
    }
   ],
   "source": [
    "from scipy.stats import hypergeom\n",
    "\n",
    "hypergeom.sf(0,18,3,12) ## survival function i.e  sf = 1 - cdf"
   ]
  },
  {
   "cell_type": "markdown",
   "metadata": {},
   "source": [
    "### Example Question 8:\n",
    "** a western city has 18 police officers eligible for promotion. Eleven of the 18 are Hispanic. Suppose only 5 of the police officers are choosen for promotion. If the officers choosen for promotion had been selectd by chance alone. What is the probability that one or fewer of the five promoted officers would have been hispanic ?**\n",
    "\n",
    "Ans: We are using here hyper geomerty distribution as \n",
    "\n",
    "as here given to choose one or more i.e\n",
    "sf= 0 , N = 18 pupulation size , n = 3 number of sample choosen, A = 12 sucess in population\n"
   ]
  },
  {
   "cell_type": "code",
   "execution_count": 40,
   "metadata": {},
   "outputs": [
    {
     "data": {
      "text/plain": [
       "0.04738562091503275"
      ]
     },
     "execution_count": 40,
     "metadata": {},
     "output_type": "execute_result"
    }
   ],
   "source": [
    "hypergeom.cdf(1,18,5,11)"
   ]
  },
  {
   "cell_type": "code",
   "execution_count": 41,
   "metadata": {},
   "outputs": [
    {
     "data": {
      "text/plain": [
       "0.9526143790849673"
      ]
     },
     "execution_count": 41,
     "metadata": {},
     "output_type": "execute_result"
    }
   ],
   "source": [
    "## Given fewer \n",
    "\n",
    "1- hypergeom.cdf(1,18,5,11)"
   ]
  },
  {
   "cell_type": "markdown",
   "metadata": {},
   "source": [
    "### Example Question 9:\n",
    "** A manufacturing farm has been involved in statistical quality control for severak years. As part of the production process, parts are randomly selected and tested. From the records of these tests, it has been established taht a defective part occurs in a pattern that is poisson distributed in the average of 1.38 defects every 20 min during production run. Use this info to determine the probability that less than 15 min will elapse between any two defects ?**\n",
    "\n",
    "Ans: mean of poisson distribution is given & whenever there is between we have to use exponential distribution\n",
    "\n",
    "as here given to choose one or more i.e\n",
    "mean of expoential dist is = 1/mean of poisson distribution = 1/1.38\n"
   ]
  },
  {
   "cell_type": "code",
   "execution_count": 42,
   "metadata": {},
   "outputs": [],
   "source": [
    "from scipy.stats import expon"
   ]
  },
  {
   "cell_type": "code",
   "execution_count": 43,
   "metadata": {},
   "outputs": [],
   "source": [
    "mu = 1/1.38"
   ]
  },
  {
   "cell_type": "code",
   "execution_count": 44,
   "metadata": {},
   "outputs": [
    {
     "data": {
      "text/plain": [
       "0.5630777424255587"
      ]
     },
     "execution_count": 44,
     "metadata": {},
     "output_type": "execute_result"
    }
   ],
   "source": [
    "## As mean was given for 20 in posioon distribution , to match unit 15/20\n",
    "expon.cdf((15/25),0,mu)"
   ]
  },
  {
   "cell_type": "code",
   "execution_count": null,
   "metadata": {},
   "outputs": [],
   "source": []
  }
 ],
 "metadata": {
  "kernelspec": {
   "display_name": "Python 3",
   "language": "python",
   "name": "python3"
  },
  "language_info": {
   "codemirror_mode": {
    "name": "ipython",
    "version": 3
   },
   "file_extension": ".py",
   "mimetype": "text/x-python",
   "name": "python",
   "nbconvert_exporter": "python",
   "pygments_lexer": "ipython3",
   "version": "3.6.5"
  }
 },
 "nbformat": 4,
 "nbformat_minor": 2
}
