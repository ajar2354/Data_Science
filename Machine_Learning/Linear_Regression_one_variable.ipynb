{
 "cells": [
  {
   "cell_type": "markdown",
   "metadata": {},
   "source": [
    "# <center>Linear Regression<center>"
   ]
  },
  {
   "cell_type": "markdown",
   "metadata": {},
   "source": [
    "## Simple linear regression , with one variable or unilinear regression"
   ]
  },
  {
   "cell_type": "markdown",
   "metadata": {},
   "source": [
    "* type of supervised learning algorithm\n",
    "* In linear regression we come up such values such that it corresponds to θo & θ1  so that line could fit maximum data points as possible, i.e predict as accurate as possible"
   ]
  },
  {
   "cell_type": "markdown",
   "metadata": {},
   "source": [
    "- m = Number of traning example / size of tranning set\n",
    "- x's = input variable or features\n",
    "- y's = output variable / target variable\n",
    "- (x,y) - one training example\n",
    "- x(i),y(i)) - i th training example"
   ]
  },
  {
   "cell_type": "markdown",
   "metadata": {},
   "source": [
    "## Hypothesis function \n",
    "* Hypothesis of learning model maps the best possible value.\n",
    "### $h_{θ}(x)=θ_{0} + θ_{1}x$ (nothing but equation of straight line , y = mx+c)\n",
    "* hypotheis is a function of x, for example what is the size of house etc"
   ]
  },
  {
   "cell_type": "markdown",
   "metadata": {},
   "source": [
    "## Parameters \n",
    "$θ_{0},θ_{1}$\n",
    "* With differenct parameter we end up with various straight line fits  "
   ]
  },
  {
   "cell_type": "markdown",
   "metadata": {},
   "source": [
    "## Cost fuction \n",
    "## $ J(θ_{0},θ_{1}) = \\frac{1}{2m}\\sum(h_{θ}(x^{i}-y^{i}))^2 $\n",
    "### Goal  : Minimise $ J(θ_{0},θ_{1}) $\n",
    "Alse called as square error function. It helps us determine the best line which fits our data , aim is minimise θo & θ1.\n",
    "\n",
    "* function of parameter ,that controls the slope of the line\n",
    "* for each line of $ θ_{1} $ we get each $ J(θ_{1}) $\n",
    "* minimising $ J(θ_{1}) $ , we get the line which best fits the data , so our prediction is best\n"
   ]
  },
  {
   "cell_type": "markdown",
   "metadata": {},
   "source": [
    "## Countour Plots (They are not used that much as because it is hard to visualise)\n",
    "- It helps gives an idea/ study of $θ_{0},θ_{1}$, for determining how good is the model , thus signifying lowest MSE which indicates quality/efficency of an linear model"
   ]
  },
  {
   "cell_type": "markdown",
   "metadata": {},
   "source": [
    "## Algorithm that automatically minimises the cost function J\n"
   ]
  },
  {
   "cell_type": "markdown",
   "metadata": {},
   "source": [
    "## Gradient Decent\n",
    "* More of a general algorithm which is not only used in linear regression but other machine learning algorithms as well.\n",
    "* Can be used for more than 2 parameters i.e $θ_{0},θ_{1},θ_{2},θ_{3}......θ_{n}$\n",
    "* Keep changing $θ_{0},θ_{1}$, to reduce $J(θ_{0},θ_{1})$, untill we hopefully end up at a minimum.\n",
    "![Gradient Descent](https://lh3.googleusercontent.com/proxy/vUuNiT9gPiD06JIj2hUO-Zg9vbMlbjUe0R5aFrfgS5WhvaculfV9gYua3SfTtkV4u5IrCABQL9_ircWQhoyFfY9eNDBDV4ZYULV2uCmY2fYBI7nYrw4WSb5XCaVlnLel3Tbq6hnSg0SZjAFbdhNXig8a-H9-SrrkMhXQ)\n",
    "* Image standing in red point x & my mission is to come down to sea level as soon as possible , go towards next point & look around path to minimum (which is nothing but the local minmum),(You would go towards the most stepest slope to reach the minimum).\n",
    "* Start this process again from different peak or point & following same steps identify local minimum which is cloeast to sea level. Which is the general intution of gradient descent\n",
    "* gradient descent algorithm repeats this process again and again till it finds the lowest minimum globally, which is nothing but identifying lowest cost function which direct towards best fit"
   ]
  },
  {
   "cell_type": "code",
   "execution_count": 2,
   "metadata": {},
   "outputs": [
    {
     "data": {
      "text/plain": [
       "'/Users/ajarpanwar/Documents/Data_Science/Machine_Learning'"
      ]
     },
     "execution_count": 2,
     "metadata": {},
     "output_type": "execute_result"
    }
   ],
   "source": [
    "pwd"
   ]
  },
  {
   "cell_type": "code",
   "execution_count": null,
   "metadata": {},
   "outputs": [],
   "source": []
  },
  {
   "cell_type": "code",
   "execution_count": null,
   "metadata": {},
   "outputs": [],
   "source": []
  },
  {
   "cell_type": "code",
   "execution_count": null,
   "metadata": {},
   "outputs": [],
   "source": []
  }
 ],
 "metadata": {
  "kernelspec": {
   "display_name": "Python 3",
   "language": "python",
   "name": "python3"
  },
  "language_info": {
   "codemirror_mode": {
    "name": "ipython",
    "version": 3
   },
   "file_extension": ".py",
   "mimetype": "text/x-python",
   "name": "python",
   "nbconvert_exporter": "python",
   "pygments_lexer": "ipython3",
   "version": "3.6.5"
  }
 },
 "nbformat": 4,
 "nbformat_minor": 2
}
