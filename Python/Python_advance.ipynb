{
 "cells": [
  {
   "cell_type": "markdown",
   "metadata": {},
   "source": [
    "\n",
    "## Basics Summary-\n",
    "1. Nested Function - A function which is defined inside another function . It can acess the variable in enclosed scope\n",
    "2. 1st class function - they allow us to treat any function as an object. We can pass functions as an arguments to another function, i.e we can assign function to variables\n",
    "3. Higher order function - We can pass functions as aruguments & return function as a result of another functions\n",
    "\n",
    "## Topics -\n",
    "    - Closures - Mainly - it means, function object that remembers values in enclosing scopes even if it is not present in memory. It is nothing but a nested function or 1st class function calling a function inside anothe function . \n",
    "                - It allows us to take advantage of 1st class functions , i.e allows to use function which is local to the scope.\n",
    "\n",
    "    * Decorators - It enhance the functionality of the other functions, OR It is any paython callable object that can be used to modify any function or class"
   ]
  },
  {
   "cell_type": "markdown",
   "metadata": {},
   "source": [
    "# Basic Understanding"
   ]
  },
  {
   "cell_type": "markdown",
   "metadata": {},
   "source": [
    "### 1st class functions\n",
    "- We would be able to treat functions as an object or variable\n",
    "- We can also return a function from another function\n",
    "- We can pass function as an argument to another function\n",
    "- We can assign functions to variables\n",
    "\n",
    "Ex - map function"
   ]
  },
  {
   "cell_type": "markdown",
   "metadata": {},
   "source": [
    "###  Assigning function to a variable "
   ]
  },
  {
   "cell_type": "code",
   "execution_count": 61,
   "metadata": {},
   "outputs": [],
   "source": [
    "# suppose we have a function square\n",
    "def square(x):\n",
    "    return x**2"
   ]
  },
  {
   "cell_type": "code",
   "execution_count": 65,
   "metadata": {},
   "outputs": [
    {
     "data": {
      "text/plain": [
       "<function __main__.square(x)>"
      ]
     },
     "execution_count": 65,
     "metadata": {},
     "output_type": "execute_result"
    }
   ],
   "source": [
    "# here we will assign function sq to a var num_square\n",
    "\n",
    "num_square = square ## here we have assigned square to num-square\n",
    "num_square ## when it prints out num_square it will store defination of function square"
   ]
  },
  {
   "cell_type": "code",
   "execution_count": 66,
   "metadata": {},
   "outputs": [
    {
     "data": {
      "text/plain": [
       "25"
      ]
     },
     "execution_count": 66,
     "metadata": {},
     "output_type": "execute_result"
    }
   ],
   "source": [
    "## we can use this as :\n",
    "num_square(5)"
   ]
  },
  {
   "cell_type": "code",
   "execution_count": 113,
   "metadata": {},
   "outputs": [],
   "source": [
    "## We can use functions inside another function :\n",
    "\n",
    "def text_printer(text):\n",
    "    \n",
    "    def text_add(addition):\n",
    "        print(f'print text: {text} & print addition: {addition}')\n",
    "    return text_add "
   ]
  },
  {
   "cell_type": "code",
   "execution_count": 118,
   "metadata": {},
   "outputs": [
    {
     "name": "stdout",
     "output_type": "stream",
     "text": [
      "print text: hi & print addition: boom\n"
     ]
    }
   ],
   "source": [
    "p1 = text_printer(text='hi') # def of text_printer is store in variable p1\n",
    "p1('boom')  ## here we can call text addr func by passing in its argument"
   ]
  },
  {
   "cell_type": "code",
   "execution_count": 110,
   "metadata": {},
   "outputs": [
    {
     "name": "stdout",
     "output_type": "stream",
     "text": [
      "print hi: hi & bye\n"
     ]
    }
   ],
   "source": [
    "text = 'hi'\n",
    "add = 'bye'\n",
    "print(f'print hi: {text} & {add}')"
   ]
  },
  {
   "cell_type": "markdown",
   "metadata": {},
   "source": [
    "### Higher order function:\n",
    "If a function accepts another fucntion as argument or returns functions as a result, its called a higher order function\n",
    " \n",
    " * Eg - map function in python is example that , it takes function & an array as an argument & returns list of values appliued in that function"
   ]
  },
  {
   "cell_type": "code",
   "execution_count": 84,
   "metadata": {},
   "outputs": [
    {
     "data": {
      "text/plain": [
       "[1, 4, 9, 16]"
      ]
     },
     "execution_count": 84,
     "metadata": {},
     "output_type": "execute_result"
    }
   ],
   "source": [
    "## built in map function\n",
    "nums = (1,2,3,4)\n",
    "list(map(square,nums ))"
   ]
  },
  {
   "cell_type": "code",
   "execution_count": 98,
   "metadata": {},
   "outputs": [],
   "source": [
    "## Building our own map function :\n",
    "\n",
    "def my_map(func,vals):\n",
    "    results = [func(x) for x in vals] ## we are exceuting the argument function here in a loop \n",
    "    return results\n",
    "    "
   ]
  },
  {
   "cell_type": "code",
   "execution_count": 101,
   "metadata": {},
   "outputs": [
    {
     "name": "stdout",
     "output_type": "stream",
     "text": [
      "[1, 4, 9, 16]\n"
     ]
    }
   ],
   "source": [
    "print(my_map(square,nums))"
   ]
  },
  {
   "cell_type": "markdown",
   "metadata": {},
   "source": [
    "# Clousre\n",
    "if we assign a variable a function without () we can use , the func defination is stored inside that variable & can be used \n",
    "\n",
    "-- An clouser is an inner function that remember or has an acess to variables in the local scope in which it was created, even after outer function has finished executing"
   ]
  },
  {
   "cell_type": "code",
   "execution_count": 202,
   "metadata": {},
   "outputs": [],
   "source": [
    "## simple example-\n",
    "def outer_func(text):\n",
    "    text1 = text\n",
    "    \n",
    "    def inner_func(): ## free variable as we have access to inner function\n",
    "        print(text1)\n",
    "    return inner_func ## if we write inner_func() it will return text1\n",
    "\n",
    "## we can execute inner_func anytime we want \n",
    "# Here outer function takes in variable text and pass in inside to text1\n",
    "# but our inner_func doesnt take any variable\n",
    "# but when we execute inner_unc without any argument i.e empty parenthesis "
   ]
  },
  {
   "cell_type": "code",
   "execution_count": 203,
   "metadata": {},
   "outputs": [
    {
     "data": {
      "text/plain": [
       "<function __main__.outer_func.<locals>.inner_func()>"
      ]
     },
     "execution_count": 203,
     "metadata": {},
     "output_type": "execute_result"
    }
   ],
   "source": [
    "## it \n",
    "myFunction = outer_func('hi')\n",
    "myFunction"
   ]
  },
  {
   "cell_type": "code",
   "execution_count": 42,
   "metadata": {},
   "outputs": [
    {
     "name": "stdout",
     "output_type": "stream",
     "text": [
      "hi\n"
     ]
    }
   ],
   "source": [
    "myFunction()"
   ]
  },
  {
   "cell_type": "code",
   "execution_count": 1,
   "metadata": {},
   "outputs": [],
   "source": [
    "## write a function which can calulate n power \n",
    "\n",
    "def to_power(x): # for power\n",
    "    def cal_pow(n): # for number\n",
    "        return n**x\n",
    "    return cal_pow"
   ]
  },
  {
   "cell_type": "code",
   "execution_count": 4,
   "metadata": {},
   "outputs": [],
   "source": [
    "sq = to_power(2)"
   ]
  },
  {
   "cell_type": "code",
   "execution_count": 5,
   "metadata": {},
   "outputs": [
    {
     "data": {
      "text/plain": [
       "16"
      ]
     },
     "execution_count": 5,
     "metadata": {},
     "output_type": "execute_result"
    }
   ],
   "source": [
    "sq(4)"
   ]
  },
  {
   "cell_type": "code",
   "execution_count": 6,
   "metadata": {},
   "outputs": [
    {
     "data": {
      "text/plain": [
       "64"
      ]
     },
     "execution_count": 6,
     "metadata": {},
     "output_type": "execute_result"
    }
   ],
   "source": [
    "cube = to_power(3)\n",
    "cube(4)"
   ]
  },
  {
   "cell_type": "code",
   "execution_count": 30,
   "metadata": {},
   "outputs": [],
   "source": [
    "# easy way\n",
    "def pow(num,n):\n",
    "    return num**n"
   ]
  },
  {
   "cell_type": "code",
   "execution_count": 43,
   "metadata": {},
   "outputs": [
    {
     "data": {
      "text/plain": [
       "256"
      ]
     },
     "execution_count": 43,
     "metadata": {},
     "output_type": "execute_result"
    }
   ],
   "source": [
    "pow(4,4)"
   ]
  },
  {
   "cell_type": "markdown",
   "metadata": {},
   "source": [
    "# Decorator \n",
    "Decorator is an function that takes another function as an argument, add some kind of functionality (wrapper function) & returns another function, all of these without altering the source code of the original function that we passed in.\n",
    "- it is a function which enhances the functionality of a function, without modifying original func\n",
    "- takes in the function for which we want to enchance the functionalities\n",
    "- we use '@' for calling a decorator function before any function decorator "
   ]
  },
  {
   "cell_type": "code",
   "execution_count": 206,
   "metadata": {},
   "outputs": [],
   "source": [
    "## For example we have two functions func1 & func2\n",
    "def func1():\n",
    "    print('this is function 1')\n",
    "\n",
    "    \n",
    "def func2():\n",
    "    print('this is function 1')"
   ]
  },
  {
   "cell_type": "code",
   "execution_count": 208,
   "metadata": {},
   "outputs": [
    {
     "name": "stdout",
     "output_type": "stream",
     "text": [
      "this is function 1\n",
      "this is function 1\n"
     ]
    }
   ],
   "source": [
    "func1()\n",
    "func2()"
   ]
  },
  {
   "cell_type": "code",
   "execution_count": 210,
   "metadata": {},
   "outputs": [],
   "source": [
    "## lets say we have been given only one function :\n",
    "    \n",
    "def deco(original_func):\n",
    "    \n",
    "    def wrapper_funct():\n",
    "        original_func()\n",
    "        print('this is decorators  power')\n",
    "    return wrapper_funct\n",
    "    "
   ]
  },
  {
   "cell_type": "code",
   "execution_count": 211,
   "metadata": {},
   "outputs": [],
   "source": [
    "@deco\n",
    "def func1():\n",
    "    print('this is function 1')"
   ]
  },
  {
   "cell_type": "code",
   "execution_count": 213,
   "metadata": {},
   "outputs": [
    {
     "name": "stdout",
     "output_type": "stream",
     "text": [
      "this is function 1\n",
      "this is decorators  power\n"
     ]
    }
   ],
   "source": [
    "func1()"
   ]
  },
  {
   "cell_type": "markdown",
   "metadata": {},
   "source": [
    "#### if we want to print another line along with func1 without changing the code : for this problem to solve we use decorator function\n"
   ]
  },
  {
   "cell_type": "code",
   "execution_count": 55,
   "metadata": {},
   "outputs": [],
   "source": [
    "def decorator_func(any_func):\n",
    "    def wrapper_function():\n",
    "        any_func()\n",
    "        print('this is awsome')\n",
    "    return wrapper_function\n"
   ]
  },
  {
   "cell_type": "code",
   "execution_count": 56,
   "metadata": {},
   "outputs": [
    {
     "data": {
      "text/plain": [
       "<function __main__.decorator_func.<locals>.wrapper_function()>"
      ]
     },
     "execution_count": 56,
     "metadata": {},
     "output_type": "execute_result"
    }
   ],
   "source": [
    "var = decorator_func(func1)\n",
    "var"
   ]
  },
  {
   "cell_type": "code",
   "execution_count": 57,
   "metadata": {},
   "outputs": [
    {
     "name": "stdout",
     "output_type": "stream",
     "text": [
      "this is function 1\n",
      "this is awsome\n"
     ]
    }
   ],
   "source": [
    "var()"
   ]
  },
  {
   "cell_type": "code",
   "execution_count": 58,
   "metadata": {},
   "outputs": [],
   "source": [
    "## Or else we use :\n",
    "@decorator_func ## shortcut\n",
    "def func1():\n",
    "    print('this is function 1')"
   ]
  },
  {
   "cell_type": "code",
   "execution_count": 59,
   "metadata": {},
   "outputs": [
    {
     "name": "stdout",
     "output_type": "stream",
     "text": [
      "this is function 1\n",
      "this is awsome\n"
     ]
    }
   ],
   "source": [
    "func1()"
   ]
  },
  {
   "cell_type": "markdown",
   "metadata": {},
   "source": [
    "### If there are more than one arguments :"
   ]
  },
  {
   "cell_type": "code",
   "execution_count": 226,
   "metadata": {},
   "outputs": [],
   "source": [
    "@decorator_func\n",
    "def func(a,b):\n",
    "    print(f'my name is {a}, age:{b}')"
   ]
  },
  {
   "cell_type": "code",
   "execution_count": 216,
   "metadata": {},
   "outputs": [
    {
     "ename": "TypeError",
     "evalue": "wrapper_function() takes 0 positional arguments but 2 were given",
     "output_type": "error",
     "traceback": [
      "\u001b[0;31m---------------------------------------------------------------------------\u001b[0m",
      "\u001b[0;31mTypeError\u001b[0m                                 Traceback (most recent call last)",
      "\u001b[0;32m<ipython-input-216-06787fea005d>\u001b[0m in \u001b[0;36m<module>\u001b[0;34m\u001b[0m\n\u001b[0;32m----> 1\u001b[0;31m \u001b[0mfunc\u001b[0m\u001b[0;34m(\u001b[0m\u001b[0;34m'peul'\u001b[0m\u001b[0;34m,\u001b[0m\u001b[0;36m24\u001b[0m\u001b[0;34m)\u001b[0m\u001b[0;34m\u001b[0m\u001b[0;34m\u001b[0m\u001b[0m\n\u001b[0m",
      "\u001b[0;31mTypeError\u001b[0m: wrapper_function() takes 0 positional arguments but 2 were given"
     ]
    }
   ],
   "source": [
    "func('peul',24)\n",
    "## this shows an error as because decorator function doesnt take any argument"
   ]
  },
  {
   "cell_type": "code",
   "execution_count": 222,
   "metadata": {},
   "outputs": [],
   "source": [
    "def decorator_func(any_func):\n",
    "    def wrapper_func(*args,**kwargs): ## adding args & kwargs in wrapper\n",
    "        any_func(*args,**kwargs) ## adding args & kwargs in wrapper\n",
    "        print(\"now this will work\")\n",
    "    return wrapper_func"
   ]
  },
  {
   "cell_type": "code",
   "execution_count": 228,
   "metadata": {},
   "outputs": [
    {
     "name": "stdout",
     "output_type": "stream",
     "text": [
      "my name is peul, age:24\n",
      "now this will work\n"
     ]
    }
   ],
   "source": [
    "@decorator_func\n",
    "def func(a,b):\n",
    "    print(f'my name is {a}, age:{b}')\n",
    "func('peul',24)"
   ]
  },
  {
   "cell_type": "markdown",
   "metadata": {},
   "source": [
    "### Practice : \n",
    "Given func:\n",
    "\n"
   ]
  },
  {
   "cell_type": "code",
   "execution_count": 229,
   "metadata": {},
   "outputs": [],
   "source": [
    "@deco\n",
    "def add(a,b):\n",
    "    ''' This function takes two numbers as argument'''\n",
    "    return a+b"
   ]
  },
  {
   "cell_type": "markdown",
   "metadata": {},
   "source": [
    "1. Given add function print \"you are calling add function\"\n",
    "2. \"This function takes two numbers as argument\"\n",
    "3. print output"
   ]
  },
  {
   "cell_type": "code",
   "execution_count": 242,
   "metadata": {},
   "outputs": [],
   "source": [
    "from functools import wraps\n",
    "\n",
    "def deco(func):\n",
    "    @wraps(func) ## this will print \n",
    "    \n",
    "    def wrapper_func(*args,**kwargs):\n",
    "        \n",
    "        print(f'you are calling {func.__name__}')\n",
    "        print(f\"{func.__doc__}\")\n",
    "        return func(*args, **kwargs)\n",
    "    return wrapper_func"
   ]
  },
  {
   "cell_type": "code",
   "execution_count": 243,
   "metadata": {},
   "outputs": [],
   "source": [
    "@deco\n",
    "def add(a,b):\n",
    "    ''' This function takes two numbers as argument'''\n",
    "    return a+b\n"
   ]
  },
  {
   "cell_type": "code",
   "execution_count": 244,
   "metadata": {},
   "outputs": [
    {
     "name": "stdout",
     "output_type": "stream",
     "text": [
      "you are calling add\n",
      " This function takes two numbers as argument\n"
     ]
    },
    {
     "data": {
      "text/plain": [
       "8"
      ]
     },
     "execution_count": 244,
     "metadata": {},
     "output_type": "execute_result"
    }
   ],
   "source": [
    "add(3,5)"
   ]
  },
  {
   "cell_type": "markdown",
   "metadata": {},
   "source": [
    "## Generators : use keyword yeild\n",
    "Generators are basically iterator\n",
    "\n",
    "Basics-\n",
    "iterable : we have a list containing numbs i.e is called iterable \n",
    "iterator : map function contains lambda function is call iterator\n",
    "\n",
    "Generator :\n",
    "\n",
    "- They are basically iterators \n",
    "- they are faster \n",
    "- they use less memory, it store one sequence position at a time\n",
    "- it also frees memory once it is utilised , they get excetuted only when they are demanded "
   ]
  },
  {
   "cell_type": "markdown",
   "metadata": {},
   "source": [
    "#### first generator function:\n",
    "1. we use generator func\n",
    "2. generator comprehrension\n"
   ]
  },
  {
   "cell_type": "markdown",
   "metadata": {},
   "source": [
    "### 1. creating gen func"
   ]
  },
  {
   "cell_type": "code",
   "execution_count": 247,
   "metadata": {},
   "outputs": [],
   "source": [
    "### print an function which take one input and print numbers from 1 to 10\n",
    "\n",
    "# normal func\n",
    "\n",
    "def nums(n):\n",
    "    for i in range(1,n+1):\n",
    "        print(i) ## this genrallly used\n",
    "        \n",
    "## converting this into a generator :\n",
    "\n",
    "def nums(n):\n",
    "    for i in range(1,n+1):\n",
    "        yield(i) ## this genrallly used"
   ]
  },
  {
   "cell_type": "code",
   "execution_count": 252,
   "metadata": {},
   "outputs": [
    {
     "data": {
      "text/plain": [
       "<generator object nums at 0x7f319c4b2fc0>"
      ]
     },
     "execution_count": 252,
     "metadata": {},
     "output_type": "execute_result"
    }
   ],
   "source": [
    "nums(10)"
   ]
  },
  {
   "cell_type": "code",
   "execution_count": 251,
   "metadata": {},
   "outputs": [
    {
     "name": "stdout",
     "output_type": "stream",
     "text": [
      "[1, 2, 3, 4, 5, 6, 7, 8, 9, 10]\n",
      "1\n",
      "2\n",
      "3\n",
      "4\n",
      "5\n",
      "6\n",
      "7\n",
      "8\n",
      "9\n",
      "10\n"
     ]
    }
   ],
   "source": [
    "print(list(nums(10))) ## or\n",
    "\n",
    "for numb in nums(10):\n",
    "    print(numb)"
   ]
  },
  {
   "cell_type": "code",
   "execution_count": 274,
   "metadata": {},
   "outputs": [],
   "source": [
    "## print a number from range a to b \n",
    "\n",
    "def gen(a,b):\n",
    "    print([i for i in range(a,b,2)])\n",
    "    "
   ]
  },
  {
   "cell_type": "code",
   "execution_count": 275,
   "metadata": {},
   "outputs": [
    {
     "data": {
      "text/plain": [
       "<function __main__.gen(a, b)>"
      ]
     },
     "execution_count": 275,
     "metadata": {},
     "output_type": "execute_result"
    }
   ],
   "source": [
    "gen"
   ]
  },
  {
   "cell_type": "code",
   "execution_count": 276,
   "metadata": {},
   "outputs": [
    {
     "name": "stdout",
     "output_type": "stream",
     "text": [
      "[2, 4, 6, 8]\n"
     ]
    }
   ],
   "source": [
    "gen(2,9)"
   ]
  },
  {
   "cell_type": "markdown",
   "metadata": {},
   "source": [
    "### 2. Generator comprehension"
   ]
  },
  {
   "cell_type": "code",
   "execution_count": 277,
   "metadata": {},
   "outputs": [],
   "source": [
    "even_nums = (i for i in range(2,10)) ## list comprehension using with () not []"
   ]
  },
  {
   "cell_type": "code",
   "execution_count": 281,
   "metadata": {},
   "outputs": [
    {
     "data": {
      "text/plain": [
       "<generator object <genexpr> at 0x7f319ce9e410>"
      ]
     },
     "execution_count": 281,
     "metadata": {},
     "output_type": "execute_result"
    }
   ],
   "source": [
    "even_nums"
   ]
  },
  {
   "cell_type": "code",
   "execution_count": 280,
   "metadata": {},
   "outputs": [
    {
     "data": {
      "text/plain": [
       "[2, 3, 4, 5, 6, 7, 8, 9]"
      ]
     },
     "execution_count": 280,
     "metadata": {},
     "output_type": "execute_result"
    }
   ],
   "source": [
    "list(even_nums)"
   ]
  }
 ],
 "metadata": {
  "kernelspec": {
   "display_name": "Python 3",
   "language": "python",
   "name": "python3"
  },
  "language_info": {
   "codemirror_mode": {
    "name": "ipython",
    "version": 3
   },
   "file_extension": ".py",
   "mimetype": "text/x-python",
   "name": "python",
   "nbconvert_exporter": "python",
   "pygments_lexer": "ipython3",
   "version": "3.6.9"
  }
 },
 "nbformat": 4,
 "nbformat_minor": 4
}
