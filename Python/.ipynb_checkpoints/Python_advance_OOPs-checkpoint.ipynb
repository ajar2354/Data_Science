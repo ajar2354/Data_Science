{
 "cells": [
  {
   "cell_type": "markdown",
   "metadata": {},
   "source": [
    "OOP's:\n",
    "Its a way to write codes in any programming language . "
   ]
  },
  {
   "cell_type": "markdown",
   "metadata": {},
   "source": [
    "## CLASS\n",
    "\n",
    "it is a blueprint in which we decide forthcoming object .Inside each class various methods are defined . \n",
    "append is a method for class list . \n",
    "For a example list , tuple , string a defined class in python\n",
    "\n",
    "\n",
    "## Object\n",
    "\n",
    "within a defined class if we define elements of a list suppose :\n",
    "l1 = [1,2,3,4] , it of a type list object\n",
    "\n",
    "## Method\n",
    "\n",
    "Operations for class objects are called methods. OR Functions defined inside a class are called methods\n",
    "Eg , append , pop etc\n",
    "i.e :\n",
    "l1.append(3)\n",
    "\n",
    "    * Init method is a constructor, as it is used to construct the class \n"
   ]
  },
  {
   "cell_type": "code",
   "execution_count": 2,
   "metadata": {},
   "outputs": [],
   "source": [
    "## Build your first class :\n",
    "\n",
    "#1.  defination:\n",
    "#2. Init method , or constructor \n",
    "#3. define attributes with self\n",
    "\n",
    "class Person:\n",
    "    \n",
    "    def __init__(self,first_name,last_name,age):\n",
    "        ## Instance variable \n",
    "        self.first_name = first_name\n",
    "        self.last_name = last_name\n",
    "        self.age = age \n",
    "        \n",
    "\n",
    "    \n",
    "    "
   ]
  },
  {
   "cell_type": "code",
   "execution_count": 3,
   "metadata": {},
   "outputs": [],
   "source": [
    "p1 = Person('boom','boy',23)"
   ]
  },
  {
   "cell_type": "code",
   "execution_count": 4,
   "metadata": {},
   "outputs": [
    {
     "data": {
      "text/plain": [
       "<__main__.Person at 0x10329f0f0>"
      ]
     },
     "execution_count": 4,
     "metadata": {},
     "output_type": "execute_result"
    }
   ],
   "source": [
    "p1"
   ]
  },
  {
   "cell_type": "code",
   "execution_count": 5,
   "metadata": {},
   "outputs": [
    {
     "data": {
      "text/plain": [
       "'boom'"
      ]
     },
     "execution_count": 5,
     "metadata": {},
     "output_type": "execute_result"
    }
   ],
   "source": [
    "p1.first_name"
   ]
  },
  {
   "cell_type": "markdown",
   "metadata": {},
   "source": [
    "## Instance Method:\n",
    "\n",
    "\n"
   ]
  },
  {
   "cell_type": "code",
   "execution_count": 13,
   "metadata": {},
   "outputs": [],
   "source": [
    "class Person:\n",
    "    \n",
    "    def __init__(self,first_name,last_name,age):\n",
    "        ## Instance variable \n",
    "        self.first_name = first_name\n",
    "        self.last_name = last_name\n",
    "        self.age = age \n",
    "    \n",
    "    def Full_name(self):\n",
    "        print(f'{self.first_name} {self.last_name}')"
   ]
  },
  {
   "cell_type": "code",
   "execution_count": 14,
   "metadata": {},
   "outputs": [],
   "source": [
    "\n",
    "p1 = Person('boom','boy',23)"
   ]
  },
  {
   "cell_type": "code",
   "execution_count": 15,
   "metadata": {},
   "outputs": [
    {
     "name": "stdout",
     "output_type": "stream",
     "text": [
      "boom boy\n"
     ]
    }
   ],
   "source": [
    "p1.Full_name()"
   ]
  },
  {
   "cell_type": "markdown",
   "metadata": {},
   "source": [
    "### test:\n",
    "\n",
    "define a class and apply any discount on total amount of your laptop. I/p parameters : laptop_name, model_name , price"
   ]
  },
  {
   "cell_type": "code",
   "execution_count": 26,
   "metadata": {},
   "outputs": [],
   "source": [
    "class Laptop:\n",
    "    \n",
    "    def __init__(self,lap_brand,lap_name,lap_price):\n",
    "        self.lap_brand = lap_brand\n",
    "        self.lap_name = lap_name\n",
    "        self.lap_price = lap_price\n",
    "        \n",
    "    def Discount(self,num):\n",
    "        print(num/100*self.lap_price)\n",
    "        "
   ]
  },
  {
   "cell_type": "code",
   "execution_count": 27,
   "metadata": {},
   "outputs": [],
   "source": [
    "lap = Laptop('hp','ellite',43000)"
   ]
  },
  {
   "cell_type": "code",
   "execution_count": 28,
   "metadata": {},
   "outputs": [
    {
     "name": "stdout",
     "output_type": "stream",
     "text": [
      "17200.0\n"
     ]
    }
   ],
   "source": [
    "lap.Discount(40)"
   ]
  },
  {
   "cell_type": "markdown",
   "metadata": {},
   "source": [
    "## Class variable :\n",
    "- Val is shared with different objects "
   ]
  },
  {
   "cell_type": "code",
   "execution_count": 33,
   "metadata": {},
   "outputs": [],
   "source": [
    "## example :\n",
    "\n",
    "## we will make a class for calculating area and circumference:\n",
    "\n",
    "class circle:\n",
    "    pi = 3.14 ## Globale variable\n",
    "    def __init__(self,rad):\n",
    "        self.rad = rad\n",
    "#         self.pi = pi\n",
    "        \n",
    "    def area(self):\n",
    "        ar = 2* circle.pi * self.rad\n",
    "        return ar"
   ]
  },
  {
   "cell_type": "code",
   "execution_count": 36,
   "metadata": {},
   "outputs": [
    {
     "data": {
      "text/plain": [
       "144.44"
      ]
     },
     "execution_count": 36,
     "metadata": {},
     "output_type": "execute_result"
    }
   ],
   "source": [
    "calc = circle(23)\n",
    "calc.area()"
   ]
  },
  {
   "cell_type": "code",
   "execution_count": 39,
   "metadata": {},
   "outputs": [
    {
     "name": "stdout",
     "output_type": "stream",
     "text": [
      "{'rad': 23}\n"
     ]
    }
   ],
   "source": [
    "## To print all the variable a object take :\n",
    "\n",
    "print(calc.__dict__)"
   ]
  },
  {
   "cell_type": "markdown",
   "metadata": {},
   "source": [
    "## for a particular laptop add special offeres :\n",
    "\n",
    "* only for mac "
   ]
  },
  {
   "cell_type": "code",
   "execution_count": 59,
   "metadata": {},
   "outputs": [],
   "source": [
    "class Laptop:\n",
    "    dis = 20\n",
    "    def __init__(self,lap_brand,lap_name,lap_price):\n",
    "        self.lap_brand = lap_brand\n",
    "        self.lap_name = lap_name\n",
    "        self.lap_price = lap_price\n",
    "        \n",
    "    def Discount(self):\n",
    "        print(self.dis/100*self.lap_price)        "
   ]
  },
  {
   "cell_type": "code",
   "execution_count": 60,
   "metadata": {},
   "outputs": [],
   "source": [
    "\n",
    "lap1 = Laptop(lap_brand='HP',lap_name='ellite',lap_price=90000)"
   ]
  },
  {
   "cell_type": "code",
   "execution_count": 61,
   "metadata": {},
   "outputs": [
    {
     "data": {
      "text/plain": [
       "{'lap_brand': 'HP', 'lap_name': 'ellite', 'lap_price': 90000}"
      ]
     },
     "execution_count": 61,
     "metadata": {},
     "output_type": "execute_result"
    }
   ],
   "source": [
    "lap1.__dict__"
   ]
  },
  {
   "cell_type": "code",
   "execution_count": 62,
   "metadata": {},
   "outputs": [
    {
     "name": "stdout",
     "output_type": "stream",
     "text": [
      "18000.0\n"
     ]
    }
   ],
   "source": [
    "lap1.Discount()"
   ]
  },
  {
   "cell_type": "code",
   "execution_count": 63,
   "metadata": {},
   "outputs": [],
   "source": [
    "## if we want to change the idscount for laptop 2 :\n",
    "\n",
    "Laptop.dis = 50\n"
   ]
  },
  {
   "cell_type": "code",
   "execution_count": 64,
   "metadata": {},
   "outputs": [],
   "source": [
    "lap2 = Laptop(lap_brand='mac',lap_name='book',lap_price=90000)"
   ]
  },
  {
   "cell_type": "code",
   "execution_count": 65,
   "metadata": {},
   "outputs": [
    {
     "name": "stdout",
     "output_type": "stream",
     "text": [
      "45000.0\n"
     ]
    }
   ],
   "source": [
    "lap2.Discount()"
   ]
  },
  {
   "cell_type": "code",
   "execution_count": null,
   "metadata": {},
   "outputs": [],
   "source": []
  }
 ],
 "metadata": {
  "kernelspec": {
   "display_name": "Python 3",
   "language": "python",
   "name": "python3"
  },
  "language_info": {
   "codemirror_mode": {
    "name": "ipython",
    "version": 3
   },
   "file_extension": ".py",
   "mimetype": "text/x-python",
   "name": "python",
   "nbconvert_exporter": "python",
   "pygments_lexer": "ipython3",
   "version": "3.6.5"
  }
 },
 "nbformat": 4,
 "nbformat_minor": 2
}
