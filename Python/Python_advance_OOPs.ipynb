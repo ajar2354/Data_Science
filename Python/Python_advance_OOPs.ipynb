{
 "cells": [
  {
   "cell_type": "markdown",
   "metadata": {},
   "source": [
    "OOP's:\n",
    "Its a way to write codes in any programming language . "
   ]
  },
  {
   "cell_type": "markdown",
   "metadata": {},
   "source": [
    "## CLASS\n",
    "\n",
    "it is a blueprint in which we decide forthcoming object .Inside each class various methods are defined . \n",
    "append is a method for class list . \n",
    "For a example list , tuple , string a defined class in python\n",
    "\n",
    "\n",
    "## Object\n",
    "\n",
    "within a defined class if we define elements of a list suppose :\n",
    "l1 = [1,2,3,4] , it of a type list object\n",
    "\n",
    "## Method\n",
    "\n",
    "Operations for class objects are called methods. OR Functions defined inside a class are called methods\n",
    "Eg , append , pop etc\n",
    "i.e :\n",
    "l1.append(3)\n",
    "\n",
    "    * Init method is a constructor, as it is used to construct the class \n"
   ]
  },
  {
   "cell_type": "code",
   "execution_count": 2,
   "metadata": {},
   "outputs": [],
   "source": [
    "## Build your first class :\n",
    "\n",
    "#1.  defination:\n",
    "#2. Init method , or constructor \n",
    "#3. define attributes with self\n",
    "\n",
    "class Person:\n",
    "    \n",
    "    def __init__(self,first_name,last_name,age):\n",
    "        ## Instance variable \n",
    "        self.first_name = first_name\n",
    "        self.last_name = last_name\n",
    "        self.age = age \n",
    "        \n",
    "\n",
    "    \n",
    "    "
   ]
  },
  {
   "cell_type": "code",
   "execution_count": 3,
   "metadata": {},
   "outputs": [],
   "source": [
    "p1 = Person('boom','boy',23)"
   ]
  },
  {
   "cell_type": "code",
   "execution_count": 4,
   "metadata": {},
   "outputs": [
    {
     "data": {
      "text/plain": [
       "<__main__.Person at 0x10329f0f0>"
      ]
     },
     "execution_count": 4,
     "metadata": {},
     "output_type": "execute_result"
    }
   ],
   "source": [
    "p1"
   ]
  },
  {
   "cell_type": "code",
   "execution_count": 5,
   "metadata": {},
   "outputs": [
    {
     "data": {
      "text/plain": [
       "'boom'"
      ]
     },
     "execution_count": 5,
     "metadata": {},
     "output_type": "execute_result"
    }
   ],
   "source": [
    "p1.first_name"
   ]
  },
  {
   "cell_type": "markdown",
   "metadata": {},
   "source": [
    "## Instance Method:\n",
    "\n",
    "\n"
   ]
  },
  {
   "cell_type": "code",
   "execution_count": 13,
   "metadata": {},
   "outputs": [],
   "source": [
    "class Person:\n",
    "    \n",
    "    def __init__(self,first_name,last_name,age):\n",
    "        ## Instance variable \n",
    "        self.first_name = first_name\n",
    "        self.last_name = last_name\n",
    "        self.age = age \n",
    "    \n",
    "    def Full_name(self):\n",
    "        print(f'{self.first_name} {self.last_name}')"
   ]
  },
  {
   "cell_type": "code",
   "execution_count": 14,
   "metadata": {},
   "outputs": [],
   "source": [
    "\n",
    "p1 = Person('boom','boy',23)"
   ]
  },
  {
   "cell_type": "code",
   "execution_count": 15,
   "metadata": {},
   "outputs": [
    {
     "name": "stdout",
     "output_type": "stream",
     "text": [
      "boom boy\n"
     ]
    }
   ],
   "source": [
    "p1.Full_name()"
   ]
  },
  {
   "cell_type": "markdown",
   "metadata": {},
   "source": [
    "### test:\n",
    "\n",
    "define a class and apply any discount on total amount of your laptop. I/p parameters : laptop_name, model_name , price"
   ]
  },
  {
   "cell_type": "code",
   "execution_count": 26,
   "metadata": {},
   "outputs": [],
   "source": [
    "class Laptop:\n",
    "    \n",
    "    def __init__(self,lap_brand,lap_name,lap_price):\n",
    "        self.lap_brand = lap_brand\n",
    "        self.lap_name = lap_name\n",
    "        self.lap_price = lap_price\n",
    "        \n",
    "    def Discount(self,num):\n",
    "        print(num/100*self.lap_price)\n",
    "        "
   ]
  },
  {
   "cell_type": "code",
   "execution_count": 27,
   "metadata": {},
   "outputs": [],
   "source": [
    "lap = Laptop('hp','ellite',43000)"
   ]
  },
  {
   "cell_type": "code",
   "execution_count": 28,
   "metadata": {},
   "outputs": [
    {
     "name": "stdout",
     "output_type": "stream",
     "text": [
      "17200.0\n"
     ]
    }
   ],
   "source": [
    "lap.Discount(40)"
   ]
  },
  {
   "cell_type": "markdown",
   "metadata": {},
   "source": [
    "## Class variable :\n",
    "- Val is shared with different objects "
   ]
  },
  {
   "cell_type": "code",
   "execution_count": 33,
   "metadata": {},
   "outputs": [],
   "source": [
    "## example :\n",
    "\n",
    "## we will make a class for calculating area and circumference:\n",
    "\n",
    "class circle:\n",
    "    pi = 3.14 ## Globale variable\n",
    "    def __init__(self,rad):\n",
    "        self.rad = rad\n",
    "#         self.pi = pi\n",
    "        \n",
    "    def area(self):\n",
    "        ar = 2* circle.pi * self.rad\n",
    "        return ar"
   ]
  },
  {
   "cell_type": "code",
   "execution_count": 36,
   "metadata": {},
   "outputs": [
    {
     "data": {
      "text/plain": [
       "144.44"
      ]
     },
     "execution_count": 36,
     "metadata": {},
     "output_type": "execute_result"
    }
   ],
   "source": [
    "calc = circle(23)\n",
    "calc.area()"
   ]
  },
  {
   "cell_type": "code",
   "execution_count": 39,
   "metadata": {},
   "outputs": [
    {
     "name": "stdout",
     "output_type": "stream",
     "text": [
      "{'rad': 23}\n"
     ]
    }
   ],
   "source": [
    "## To print all the variable a object take :\n",
    "\n",
    "print(calc.__dict__)"
   ]
  },
  {
   "cell_type": "markdown",
   "metadata": {},
   "source": [
    "## for a particular laptop add special offeres :\n",
    "\n",
    "* only for mac "
   ]
  },
  {
   "cell_type": "code",
   "execution_count": 59,
   "metadata": {},
   "outputs": [],
   "source": [
    "class Laptop:\n",
    "    dis = 20\n",
    "    def __init__(self,lap_brand,lap_name,lap_price):\n",
    "        self.lap_brand = lap_brand\n",
    "        self.lap_name = lap_name\n",
    "        self.lap_price = lap_price\n",
    "        \n",
    "    def Discount(self):\n",
    "        print(self.dis/100*self.lap_price)        "
   ]
  },
  {
   "cell_type": "code",
   "execution_count": 60,
   "metadata": {},
   "outputs": [],
   "source": [
    "\n",
    "lap1 = Laptop(lap_brand='HP',lap_name='ellite',lap_price=90000)"
   ]
  },
  {
   "cell_type": "code",
   "execution_count": 61,
   "metadata": {},
   "outputs": [
    {
     "data": {
      "text/plain": [
       "{'lap_brand': 'HP', 'lap_name': 'ellite', 'lap_price': 90000}"
      ]
     },
     "execution_count": 61,
     "metadata": {},
     "output_type": "execute_result"
    }
   ],
   "source": [
    "lap1.__dict__"
   ]
  },
  {
   "cell_type": "code",
   "execution_count": 62,
   "metadata": {},
   "outputs": [
    {
     "name": "stdout",
     "output_type": "stream",
     "text": [
      "18000.0\n"
     ]
    }
   ],
   "source": [
    "lap1.Discount()"
   ]
  },
  {
   "cell_type": "code",
   "execution_count": 63,
   "metadata": {},
   "outputs": [],
   "source": [
    "## if we want to change the idscount for laptop 2 :\n",
    "\n",
    "Laptop.dis = 50\n"
   ]
  },
  {
   "cell_type": "code",
   "execution_count": 64,
   "metadata": {},
   "outputs": [],
   "source": [
    "lap2 = Laptop(lap_brand='mac',lap_name='book',lap_price=90000)"
   ]
  },
  {
   "cell_type": "code",
   "execution_count": 65,
   "metadata": {},
   "outputs": [
    {
     "name": "stdout",
     "output_type": "stream",
     "text": [
      "45000.0\n"
     ]
    }
   ],
   "source": [
    "lap2.Discount()"
   ]
  },
  {
   "cell_type": "code",
   "execution_count": 115,
   "metadata": {},
   "outputs": [],
   "source": [
    "## Print count of total instance:\n",
    "\n",
    "# here full_name and is_18_plus are instance methods\n",
    "\n",
    "class person:\n",
    "    count_in = 0 # class variable or class attribute \n",
    "    def __init__(self,f_name,l_name,age):\n",
    "        person.count_in = self.count_in+1 ## class variable\n",
    "        self.f_name = f_name\n",
    "        self.l_name = l_name\n",
    "        self.age = age\n",
    "        \n",
    "    def full_name(self): # instance methods 1\n",
    "        \n",
    "        return f'{self.f_name} {self.l_name}'\n",
    "    \n",
    "    def is_18_plus(self): # instance methods 2\n",
    "        return self.age>18\n",
    "    \n",
    "    "
   ]
  },
  {
   "cell_type": "code",
   "execution_count": 116,
   "metadata": {},
   "outputs": [],
   "source": [
    "p1 = person('her','minonie',20)"
   ]
  },
  {
   "cell_type": "code",
   "execution_count": 117,
   "metadata": {},
   "outputs": [
    {
     "name": "stdout",
     "output_type": "stream",
     "text": [
      "1\n"
     ]
    }
   ],
   "source": [
    "print(p1.count_in) ## geting class variable \n"
   ]
  },
  {
   "cell_type": "code",
   "execution_count": 120,
   "metadata": {},
   "outputs": [
    {
     "name": "stdout",
     "output_type": "stream",
     "text": [
      "4\n",
      "False\n",
      "True\n"
     ]
    }
   ],
   "source": [
    "p2 = person('harry','potter',13)\n",
    "print(p2.count_in)  ## geting class variable \n",
    "print(p2.is_18_plus()) ### using class method\n",
    "print(p1.is_18_plus())"
   ]
  },
  {
   "cell_type": "markdown",
   "metadata": {},
   "source": [
    "## Clas method"
   ]
  },
  {
   "cell_type": "code",
   "execution_count": 132,
   "metadata": {},
   "outputs": [],
   "source": [
    "## Difference betwen class methods vs instance methods:\n",
    "# for defining class method we use decorator :\n",
    "\n",
    "## Print count of total instance:\n",
    "\n",
    "# here full_name and is_18_plus are instance methods\n",
    "\n",
    "class person:\n",
    "    count_in = 0 # class variable or class attribute \n",
    "    def __init__(self,f_name,l_name,age):\n",
    "        person.count_in = self.count_in+1 ## class variable\n",
    "        self.f_name = f_name\n",
    "        self.l_name = l_name\n",
    "        self.age = age\n",
    "        \n",
    "        \n",
    "    @classmethod ## In class method 1st argument is class itself\n",
    "    def count_instance(cls):\n",
    "        return f'you have created :{cls.count_in} of {cls.__name__}'\n",
    "        \n",
    "    def full_name(self): # instance methods 1\n",
    "        \n",
    "        return f'{self.f_name} {self.l_name}'\n",
    "    \n",
    "    def is_18_plus(self): # instance methods 2\n",
    "        return self.age>18\n",
    "    \n",
    "    \n"
   ]
  },
  {
   "cell_type": "code",
   "execution_count": 127,
   "metadata": {},
   "outputs": [],
   "source": [
    "p1 = person('her','minonie',20)"
   ]
  },
  {
   "cell_type": "code",
   "execution_count": 128,
   "metadata": {},
   "outputs": [
    {
     "data": {
      "text/plain": [
       "'you have created :1 of person'"
      ]
     },
     "execution_count": 128,
     "metadata": {},
     "output_type": "execute_result"
    }
   ],
   "source": [
    "person.count_instance()"
   ]
  },
  {
   "cell_type": "code",
   "execution_count": 129,
   "metadata": {},
   "outputs": [],
   "source": [
    "p2 = person('harry','potter',13)"
   ]
  },
  {
   "cell_type": "code",
   "execution_count": 130,
   "metadata": {},
   "outputs": [
    {
     "data": {
      "text/plain": [
       "'you have created :2 of person'"
      ]
     },
     "execution_count": 130,
     "metadata": {},
     "output_type": "execute_result"
    }
   ],
   "source": [
    "person.count_instance() ## use this convention"
   ]
  },
  {
   "cell_type": "code",
   "execution_count": 131,
   "metadata": {},
   "outputs": [
    {
     "data": {
      "text/plain": [
       "'you have created :2 of person'"
      ]
     },
     "execution_count": 131,
     "metadata": {},
     "output_type": "execute_result"
    }
   ],
   "source": [
    "p2.count_instance()"
   ]
  },
  {
   "cell_type": "code",
   "execution_count": 137,
   "metadata": {},
   "outputs": [],
   "source": [
    "## Class method as a constructor\n",
    "\n",
    "## Difference betwen class methods vs instance methods:\n",
    "# for defining class method we use decorator :\n",
    "\n",
    "## Print count of total instance:\n",
    "\n",
    "# here full_name and is_18_plus are instance methods\n",
    "\n",
    "class person:\n",
    "    count_in = 0 # class variable or class attribute \n",
    "    def __init__(self,f_name,l_name,age):\n",
    "        person.count_in = self.count_in+1 ## class variable\n",
    "        self.f_name = f_name\n",
    "        self.l_name = l_name\n",
    "        self.age = age\n",
    "        \n",
    "    @classmethod  ## using class as constructor\n",
    "    def from_str(cls,strings):\n",
    "        f_name,l_name,age = strings.split(' ')\n",
    "        return cls(f_name,l_name,age)\n",
    "        \n",
    "    @classmethod ## In class method 1st argument is class itself\n",
    "    def count_instance(cls):\n",
    "        return f'you have created :{cls.count_in} of {cls.__name__}'\n",
    "        \n",
    "    def full_name(self): # instance methods 1\n",
    "        \n",
    "        return f'{self.f_name} {self.l_name}'\n",
    "    \n",
    "    def is_18_plus(self): # instance methods 2\n",
    "        return self.age>18\n",
    "    \n",
    "    \n"
   ]
  },
  {
   "cell_type": "code",
   "execution_count": 138,
   "metadata": {},
   "outputs": [],
   "source": [
    "p1 = person('her','minonie',20)\n",
    "p2 = person('harry','potter',13)"
   ]
  },
  {
   "cell_type": "code",
   "execution_count": 139,
   "metadata": {},
   "outputs": [
    {
     "data": {
      "text/plain": [
       "'you have created :2 of person'"
      ]
     },
     "execution_count": 139,
     "metadata": {},
     "output_type": "execute_result"
    }
   ],
   "source": [
    "person.count_instance()"
   ]
  },
  {
   "cell_type": "code",
   "execution_count": 140,
   "metadata": {},
   "outputs": [],
   "source": [
    "p3 = person.from_str('alice wonderland 22')"
   ]
  },
  {
   "cell_type": "code",
   "execution_count": 141,
   "metadata": {},
   "outputs": [
    {
     "data": {
      "text/plain": [
       "'you have created :3 of person'"
      ]
     },
     "execution_count": 141,
     "metadata": {},
     "output_type": "execute_result"
    }
   ],
   "source": [
    "person.count_instance()"
   ]
  },
  {
   "cell_type": "code",
   "execution_count": 142,
   "metadata": {},
   "outputs": [
    {
     "data": {
      "text/plain": [
       "'alice wonderland'"
      ]
     },
     "execution_count": 142,
     "metadata": {},
     "output_type": "execute_result"
    }
   ],
   "source": [
    "p3.full_name()"
   ]
  },
  {
   "cell_type": "markdown",
   "metadata": {},
   "source": [
    "## OOP's static method:\n",
    "\n",
    "- It is defined as it contains logicalk connection ot our class \n",
    "- it is defined using statics method decorator"
   ]
  },
  {
   "cell_type": "code",
   "execution_count": 143,
   "metadata": {},
   "outputs": [],
   "source": [
    "## Class method as a constructor\n",
    "\n",
    "## Difference betwen class methods vs instance methods:\n",
    "# for defining class method we use decorator :\n",
    "\n",
    "## Print count of total instance:\n",
    "\n",
    "# here full_name and is_18_plus are instance methods\n",
    "\n",
    "class person:\n",
    "    count_in = 0 # class variable or class attribute \n",
    "    def __init__(self,f_name,l_name,age):\n",
    "        person.count_in = self.count_in+1 ## class variable\n",
    "        self.f_name = f_name\n",
    "        self.l_name = l_name\n",
    "        self.age = age\n",
    "        \n",
    "    @classmethod  ## using class as constructor\n",
    "    def from_str(cls,strings):\n",
    "        f_name,l_name,age = strings.split(' ')\n",
    "        return cls(f_name,l_name,age)\n",
    "        \n",
    "    @classmethod ## In class method 1st argument is class itself\n",
    "    def count_instance(cls):\n",
    "        return f'you have created :{cls.count_in} of {cls.__name__}'\n",
    "        \n",
    "    @staticmethod\n",
    "    def hello():\n",
    "        print('Person hi')\n",
    "    \n",
    "    def full_name(self): # instance methods 1\n",
    "        \n",
    "        return f'{self.f_name} {self.l_name}'\n",
    "    \n",
    "    def is_18_plus(self): # instance methods 2\n",
    "        return self.age>18\n",
    "    \n",
    "    \n"
   ]
  },
  {
   "cell_type": "code",
   "execution_count": 145,
   "metadata": {},
   "outputs": [
    {
     "name": "stdout",
     "output_type": "stream",
     "text": [
      "Person hi\n"
     ]
    }
   ],
   "source": [
    "p1 = person('her','minonie',20)\n",
    "p1.hello()"
   ]
  },
  {
   "cell_type": "markdown",
   "metadata": {},
   "source": [
    "##\n",
    "- Encapsulation - using data along with their function .\n",
    "- Abstraction - hiding complexicity of a method\n",
    "- Some special naming method\n",
    "- name mangling\n",
    "    * _name is used for naming convention in python \n",
    "    * __ is called dunder or magic methods \n",
    "    "
   ]
  },
  {
   "cell_type": "code",
   "execution_count": null,
   "metadata": {},
   "outputs": [],
   "source": [
    "## Property\n",
    "## Setter\n",
    "## decorator"
   ]
  },
  {
   "cell_type": "code",
   "execution_count": 156,
   "metadata": {},
   "outputs": [],
   "source": [
    "## Create a class phone were it takes brand name , model and price & prints full description\n",
    "\n",
    "class Phone:\n",
    "    def __init__(self,brand,model,price):\n",
    "        self.brand = brand\n",
    "        self.model = model\n",
    "        self.price = price\n",
    "        self.descriptn = f'the phone is {self.brand} {self.model} and its price is {self.price}'\n",
    "        \n",
    "    def make_call(self,phone_no):\n",
    "        print(f'calling : {phone_no}')\n",
    "        \n",
    "    def get_des(self):\n",
    "        print(f'{self.descriptn}')"
   ]
  },
  {
   "cell_type": "code",
   "execution_count": 157,
   "metadata": {},
   "outputs": [],
   "source": [
    "p1 = Phone('nokia','1100',1000)"
   ]
  },
  {
   "cell_type": "code",
   "execution_count": 158,
   "metadata": {},
   "outputs": [
    {
     "name": "stdout",
     "output_type": "stream",
     "text": [
      "the phone is nokia 1100 and its price is 1000\n"
     ]
    }
   ],
   "source": [
    "p1.get_des()"
   ]
  },
  {
   "cell_type": "code",
   "execution_count": 160,
   "metadata": {},
   "outputs": [
    {
     "name": "stdout",
     "output_type": "stream",
     "text": [
      "-100\n",
      "the phone is nokia 1100 and its price is 1000\n",
      "None\n"
     ]
    }
   ],
   "source": [
    "## we can change its price :\n",
    "\n",
    "p1.price = -100\n",
    "\n",
    "print(p1.price)\n",
    "print(p1.get_des())\n",
    "\n"
   ]
  },
  {
   "cell_type": "markdown",
   "metadata": {},
   "source": [
    "### Here we see that the price is getting changed but when we print descriptn the price is not geting changed, also price cannot be negaive:\n",
    "\n",
    "changes to this code:\n",
    "* if user provides negative price change the price to 0\n",
    "* if positive prices are changed , descriptions hould aslos print updated price :\n",
    "* while updating price it should not be negative"
   ]
  },
  {
   "cell_type": "code",
   "execution_count": 169,
   "metadata": {},
   "outputs": [],
   "source": [
    "## Create a class phone were it takes brand name , model and price & prints full description\n",
    "\n",
    "class Phone:\n",
    "    def __init__(self,brand,model,price):\n",
    "        self.brand = brand\n",
    "        # simple code for checking negativity:\n",
    "        self.price = max(price,0) ## max cant be less than 0\n",
    "#         if price >0:\n",
    "#             self.price = price\n",
    "#         else:\n",
    "#             self.price = 0\n",
    "            \n",
    "        self.model = model\n",
    "#         self.price = price\n",
    "        self.descriptn = f'the phone is {self.brand} {self.model} and its price is {self.price}'\n",
    "        \n",
    "    def make_call(self,phone_no):\n",
    "        print(f'calling : {phone_no}')\n",
    "        \n",
    "    def get_des(self):\n",
    "        print(f'{self.descriptn}')"
   ]
  },
  {
   "cell_type": "code",
   "execution_count": 171,
   "metadata": {},
   "outputs": [
    {
     "name": "stdout",
     "output_type": "stream",
     "text": [
      "0\n"
     ]
    }
   ],
   "source": [
    "p1 = Phone('nokia','1100',-1000)\n",
    "\n",
    "print(p1.price)"
   ]
  },
  {
   "cell_type": "code",
   "execution_count": 172,
   "metadata": {},
   "outputs": [],
   "source": [
    "## for printing updated price:\n",
    "\n",
    "class Phone:\n",
    "    def __init__(self,brand,model,price):\n",
    "        self.brand = brand\n",
    "        # simple code for checking negativity:\n",
    "        self.price = max(price,0) ## max cant be less than 0\n",
    "#         if price >0:\n",
    "#             self.price = price\n",
    "#         else:\n",
    "#             self.price = 0\n",
    "            \n",
    "        self.model = model\n",
    "#         self.price = price\n",
    "#         self.descriptn = f'the phone is {self.brand} {self.model} and its price is {self.price}'\n",
    "        \n",
    "    def make_call(self,phone_no):\n",
    "        print(f'calling : {phone_no}')\n",
    "        \n",
    "    def get_des(self):\n",
    "        print(f'the phone is {self.brand} {self.model} and its price is {self.price}')"
   ]
  },
  {
   "cell_type": "code",
   "execution_count": 176,
   "metadata": {},
   "outputs": [
    {
     "name": "stdout",
     "output_type": "stream",
     "text": [
      "-11\n"
     ]
    }
   ],
   "source": [
    "p1 = Phone('nokia','1100',1000)\n",
    "# p1.price = -100\n",
    "p1.price =-11\n",
    "\n",
    "print(p1.price)"
   ]
  },
  {
   "cell_type": "code",
   "execution_count": 177,
   "metadata": {},
   "outputs": [
    {
     "name": "stdout",
     "output_type": "stream",
     "text": [
      "the phone is nokia 1100 and its price is -11\n"
     ]
    }
   ],
   "source": [
    "p1.get_des()"
   ]
  },
  {
   "cell_type": "markdown",
   "metadata": {},
   "source": [
    "### Still price is negative\n",
    " how to fix this :\n",
    "\n",
    "* can used property decorator , getter & setter"
   ]
  },
  {
   "cell_type": "code",
   "execution_count": 195,
   "metadata": {},
   "outputs": [],
   "source": [
    "## for printing updated price:\n",
    "\n",
    "class Phone:\n",
    "    def __init__(self,brand,model,price):\n",
    "        self.brand = brand\n",
    "        # simple code for checking negativity:\n",
    "        self.price = max(price,0) ## max cant be less than 0\n",
    "        self.model = model\n",
    "    ## getter\n",
    "    @property\n",
    "    def set_price(self):\n",
    "        return self.price\n",
    "    \n",
    "    @set_price.setter\n",
    "    def set_price(self,new_price):\n",
    "        self.price = max(new_price,0)\n",
    "        \n",
    "    def make_call(self,phone_no):\n",
    "        print(f'calling : {phone_no}')\n",
    "        \n",
    "    def get_des(self):\n",
    "        print(f'the phone is {self.brand} {self.model} and its price is {self.price}')"
   ]
  },
  {
   "cell_type": "code",
   "execution_count": 196,
   "metadata": {},
   "outputs": [
    {
     "name": "stdout",
     "output_type": "stream",
     "text": [
      "1000\n"
     ]
    }
   ],
   "source": [
    "p1 = Phone('nokia','1100',1000)\n",
    "# p1.price = -100\n",
    "# p1.price =-11\n",
    "\n",
    "print(p1.price)"
   ]
  },
  {
   "cell_type": "code",
   "execution_count": 199,
   "metadata": {},
   "outputs": [],
   "source": [
    "p1.set_price = -100"
   ]
  },
  {
   "cell_type": "code",
   "execution_count": 200,
   "metadata": {},
   "outputs": [
    {
     "name": "stdout",
     "output_type": "stream",
     "text": [
      "the phone is nokia 1100 and its price is 0\n"
     ]
    }
   ],
   "source": [
    "p1.get_des()"
   ]
  },
  {
   "cell_type": "code",
   "execution_count": 202,
   "metadata": {},
   "outputs": [],
   "source": [
    "## If we want to change price : which can be only a positive value:\n",
    "\n",
    "p1.set_price = 10"
   ]
  },
  {
   "cell_type": "code",
   "execution_count": 203,
   "metadata": {},
   "outputs": [
    {
     "name": "stdout",
     "output_type": "stream",
     "text": [
      "the phone is nokia 1100 and its price is 10\n"
     ]
    }
   ],
   "source": [
    "p1.get_des()"
   ]
  },
  {
   "cell_type": "markdown",
   "metadata": {},
   "source": [
    "## Inheritance :\n",
    "\n",
    "if we want to create a new class in phones , for example smart phone class :\n",
    "that would essentially contains some values which are required in class phone i.e brand model and price . So if we are creating a new class rather than specifying these values again we can directly specify additional parameter that we want to pass. Which follows DRY methodology, i.e Dont repeat yourself.\n",
    "So , basically we are inherting all the properties of class phone in class smartphones\n"
   ]
  },
  {
   "cell_type": "code",
   "execution_count": 209,
   "metadata": {},
   "outputs": [],
   "source": [
    "class smartphone(Phone): ## here phone is called base class/child class as we are inherting all its properties\n",
    "    def __init__(self,brand,model,price,ram,camera):\n",
    "        \n",
    "#         phone.__init__(self,brand,model,price) ## defined here , 1st way\n",
    "        super().__init__(brand,model,price) ## defined here , 2nd way\n",
    "        self.ram = ram\n",
    "        self.camera = camera"
   ]
  },
  {
   "cell_type": "code",
   "execution_count": 210,
   "metadata": {},
   "outputs": [],
   "source": [
    "p1 = Phone('nokia','1100',2000)"
   ]
  },
  {
   "cell_type": "code",
   "execution_count": 213,
   "metadata": {},
   "outputs": [],
   "source": [
    "smart_phone = smartphone('oneplus','6T',5000,'128gb','10 mp')"
   ]
  },
  {
   "cell_type": "markdown",
   "metadata": {},
   "source": [
    "* Can we derrive more than one class from child class ? \n",
    "* Mulitlevel inheritance, \n",
    "* Method resolution order\n",
    "* method overidding - Thus are using get_des it is basically printing only three values i.e brand model and price . if we want to print all the cureent values we would use methods overidding\n",
    "* isinstance(), issubclass()"
   ]
  },
  {
   "cell_type": "code",
   "execution_count": 226,
   "metadata": {},
   "outputs": [],
   "source": [
    "## Mulilevel inheritance\n",
    "class flagship(smartphone):\n",
    "    def __init__(self,brand,model,price,ram,camera,front_cam,operating_sys):\n",
    "        super().__init__(brand,model,price,ram,camera)\n",
    "        self.front_cam = front_cam\n",
    "        self.operating_sys = operating_sys\n",
    "        \n",
    "    "
   ]
  },
  {
   "cell_type": "code",
   "execution_count": 227,
   "metadata": {},
   "outputs": [],
   "source": [
    "elite_phone = flagship('apple','iphone',100000,'16','8mp','30mp','ios')"
   ]
  },
  {
   "cell_type": "code",
   "execution_count": 230,
   "metadata": {},
   "outputs": [
    {
     "name": "stdout",
     "output_type": "stream",
     "text": [
      "the phone is apple iphone and its price is 100000\n"
     ]
    },
    {
     "data": {
      "text/plain": [
       "'ios'"
      ]
     },
     "execution_count": 230,
     "metadata": {},
     "output_type": "execute_result"
    }
   ],
   "source": [
    "elite_phone.get_des()\n",
    "elite_phone.operating_sys"
   ]
  },
  {
   "cell_type": "code",
   "execution_count": 231,
   "metadata": {},
   "outputs": [
    {
     "name": "stdout",
     "output_type": "stream",
     "text": [
      "Help on class smartphone in module __main__:\n",
      "\n",
      "class smartphone(Phone)\n",
      " |  Method resolution order:\n",
      " |      smartphone\n",
      " |      Phone\n",
      " |      builtins.object\n",
      " |  \n",
      " |  Methods defined here:\n",
      " |  \n",
      " |  __init__(self, brand, model, price, ram, camera)\n",
      " |      Initialize self.  See help(type(self)) for accurate signature.\n",
      " |  \n",
      " |  ----------------------------------------------------------------------\n",
      " |  Methods inherited from Phone:\n",
      " |  \n",
      " |  get_des(self)\n",
      " |  \n",
      " |  make_call(self, phone_no)\n",
      " |  \n",
      " |  ----------------------------------------------------------------------\n",
      " |  Data descriptors inherited from Phone:\n",
      " |  \n",
      " |  __dict__\n",
      " |      dictionary for instance variables (if defined)\n",
      " |  \n",
      " |  __weakref__\n",
      " |      list of weak references to the object (if defined)\n",
      " |  \n",
      " |  set_price\n",
      "\n"
     ]
    }
   ],
   "source": [
    "### Method reslution order (MRO)\n",
    "\n",
    "help(smartphone)\n",
    "\n",
    "## Here built in objects are class where all other class inherits from."
   ]
  },
  {
   "cell_type": "code",
   "execution_count": 233,
   "metadata": {},
   "outputs": [],
   "source": [
    "## Methods overidding :if we want to print all the current values we would use methods overidding\n",
    "\n",
    "class smartphone(Phone): ## here phone is called base class/child class as we are inherting all its properties\n",
    "    def __init__(self,brand,model,price,ram,camera):\n",
    "        \n",
    "#         phone.__init__(self,brand,model,price) ## defined here , 1st way\n",
    "        super().__init__(brand,model,price) ## defined here , 2nd way\n",
    "        self.ram = ram\n",
    "        self.camera = camera\n",
    "        \n",
    "    def get_des(self):\n",
    "        return f\"the phone is {self.brand} {self.model} and its price is {self.price} having camrea {self.camera}'\""
   ]
  },
  {
   "cell_type": "code",
   "execution_count": 234,
   "metadata": {},
   "outputs": [],
   "source": [
    "smart_phone = smartphone('oneplus','6T',5000,'128gb','10 mp')"
   ]
  },
  {
   "cell_type": "code",
   "execution_count": 236,
   "metadata": {},
   "outputs": [
    {
     "data": {
      "text/plain": [
       "\"the phone is oneplus 6T and its price is 5000 having camrea 10 mp'\""
      ]
     },
     "execution_count": 236,
     "metadata": {},
     "output_type": "execute_result"
    }
   ],
   "source": [
    "smart_phone.get_des()"
   ]
  },
  {
   "cell_type": "code",
   "execution_count": null,
   "metadata": {},
   "outputs": [],
   "source": []
  },
  {
   "cell_type": "markdown",
   "metadata": {},
   "source": [
    "## Dunder methods: \n",
    "* methods were double underscore is used , i.e __init__ etc:\n",
    "* They are also known as magic methods"
   ]
  },
  {
   "cell_type": "code",
   "execution_count": 217,
   "metadata": {},
   "outputs": [
    {
     "data": {
      "text/plain": [
       "'128gb'"
      ]
     },
     "execution_count": 217,
     "metadata": {},
     "output_type": "execute_result"
    }
   ],
   "source": [
    "smart_phone.ram"
   ]
  },
  {
   "cell_type": "code",
   "execution_count": null,
   "metadata": {},
   "outputs": [],
   "source": []
  }
 ],
 "metadata": {
  "kernelspec": {
   "display_name": "Python 3",
   "language": "python",
   "name": "python3"
  },
  "language_info": {
   "codemirror_mode": {
    "name": "ipython",
    "version": 3
   },
   "file_extension": ".py",
   "mimetype": "text/x-python",
   "name": "python",
   "nbconvert_exporter": "python",
   "pygments_lexer": "ipython3",
   "version": "3.6.5"
  }
 },
 "nbformat": 4,
 "nbformat_minor": 2
}
